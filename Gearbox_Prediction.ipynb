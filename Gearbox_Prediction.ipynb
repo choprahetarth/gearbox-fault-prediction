{
  "nbformat": 4,
  "nbformat_minor": 0,
  "metadata": {
    "colab": {
      "name": "Gearbox Prediction.ipynb",
      "provenance": [],
      "collapsed_sections": [
        "4RZl4o52mlew",
        "7_RlfPZpO9Yb"
      ],
      "mount_file_id": "1HNoTXKWzvgmHbH9iyL37tPgS2U1H_eas",
      "authorship_tag": "ABX9TyPNGcOhG0/45EFghD2BLUJz",
      "include_colab_link": true
    },
    "kernelspec": {
      "name": "python3",
      "display_name": "Python 3"
    },
    "language_info": {
      "name": "python"
    },
    "widgets": {
      "application/vnd.jupyter.widget-state+json": {
        "aa210d9080e149889a4ce551d0835cdf": {
          "model_module": "@jupyter-widgets/controls",
          "model_name": "HBoxModel",
          "model_module_version": "1.5.0",
          "state": {
            "_view_name": "HBoxView",
            "_dom_classes": [],
            "_model_name": "HBoxModel",
            "_view_module": "@jupyter-widgets/controls",
            "_model_module_version": "1.5.0",
            "_view_count": null,
            "_view_module_version": "1.5.0",
            "box_style": "",
            "layout": "IPY_MODEL_5552aed5d2f84b1e9125fb56e400e089",
            "_model_module": "@jupyter-widgets/controls",
            "children": [
              "IPY_MODEL_10ad2e5b79384e54be5c4bbc0fba6596",
              "IPY_MODEL_07b0fd424ff445bb809d38d72de825cd",
              "IPY_MODEL_32ad44815e8a4b7ebf38ce85e54e1fb5"
            ]
          }
        },
        "5552aed5d2f84b1e9125fb56e400e089": {
          "model_module": "@jupyter-widgets/base",
          "model_name": "LayoutModel",
          "model_module_version": "1.2.0",
          "state": {
            "_view_name": "LayoutView",
            "grid_template_rows": null,
            "right": null,
            "justify_content": null,
            "_view_module": "@jupyter-widgets/base",
            "overflow": null,
            "_model_module_version": "1.2.0",
            "_view_count": null,
            "flex_flow": null,
            "width": null,
            "min_width": null,
            "border": null,
            "align_items": null,
            "bottom": null,
            "_model_module": "@jupyter-widgets/base",
            "top": null,
            "grid_column": null,
            "overflow_y": null,
            "overflow_x": null,
            "grid_auto_flow": null,
            "grid_area": null,
            "grid_template_columns": null,
            "flex": null,
            "_model_name": "LayoutModel",
            "justify_items": null,
            "grid_row": null,
            "max_height": null,
            "align_content": null,
            "visibility": null,
            "align_self": null,
            "height": null,
            "min_height": null,
            "padding": null,
            "grid_auto_rows": null,
            "grid_gap": null,
            "max_width": null,
            "order": null,
            "_view_module_version": "1.2.0",
            "grid_template_areas": null,
            "object_position": null,
            "object_fit": null,
            "grid_auto_columns": null,
            "margin": null,
            "display": null,
            "left": null
          }
        },
        "10ad2e5b79384e54be5c4bbc0fba6596": {
          "model_module": "@jupyter-widgets/controls",
          "model_name": "HTMLModel",
          "model_module_version": "1.5.0",
          "state": {
            "_view_name": "HTMLView",
            "style": "IPY_MODEL_2c39e61cb60a4fc2b4b6af0584d774d9",
            "_dom_classes": [],
            "description": "",
            "_model_name": "HTMLModel",
            "placeholder": "​",
            "_view_module": "@jupyter-widgets/controls",
            "_model_module_version": "1.5.0",
            "value": "100%",
            "_view_count": null,
            "_view_module_version": "1.5.0",
            "description_tooltip": null,
            "_model_module": "@jupyter-widgets/controls",
            "layout": "IPY_MODEL_8ef3bb460c5b48deb799cf0efd042a85"
          }
        },
        "07b0fd424ff445bb809d38d72de825cd": {
          "model_module": "@jupyter-widgets/controls",
          "model_name": "FloatProgressModel",
          "model_module_version": "1.5.0",
          "state": {
            "_view_name": "ProgressView",
            "style": "IPY_MODEL_9a5b2bde825648d49f1d295bbd58b139",
            "_dom_classes": [],
            "description": "",
            "_model_name": "FloatProgressModel",
            "bar_style": "success",
            "max": 5,
            "_view_module": "@jupyter-widgets/controls",
            "_model_module_version": "1.5.0",
            "value": 5,
            "_view_count": null,
            "_view_module_version": "1.5.0",
            "orientation": "horizontal",
            "min": 0,
            "description_tooltip": null,
            "_model_module": "@jupyter-widgets/controls",
            "layout": "IPY_MODEL_fd7d4a807d414f8c86fe4409957f7892"
          }
        },
        "32ad44815e8a4b7ebf38ce85e54e1fb5": {
          "model_module": "@jupyter-widgets/controls",
          "model_name": "HTMLModel",
          "model_module_version": "1.5.0",
          "state": {
            "_view_name": "HTMLView",
            "style": "IPY_MODEL_f502a9ee6bc84232b4bd8480bc3143e9",
            "_dom_classes": [],
            "description": "",
            "_model_name": "HTMLModel",
            "placeholder": "​",
            "_view_module": "@jupyter-widgets/controls",
            "_model_module_version": "1.5.0",
            "value": " 5/5 [33:59&lt;00:00, 500.10s/it]",
            "_view_count": null,
            "_view_module_version": "1.5.0",
            "description_tooltip": null,
            "_model_module": "@jupyter-widgets/controls",
            "layout": "IPY_MODEL_5643f8a55b7e43d08dd2e8d14492ed89"
          }
        },
        "2c39e61cb60a4fc2b4b6af0584d774d9": {
          "model_module": "@jupyter-widgets/controls",
          "model_name": "DescriptionStyleModel",
          "model_module_version": "1.5.0",
          "state": {
            "_view_name": "StyleView",
            "_model_name": "DescriptionStyleModel",
            "description_width": "",
            "_view_module": "@jupyter-widgets/base",
            "_model_module_version": "1.5.0",
            "_view_count": null,
            "_view_module_version": "1.2.0",
            "_model_module": "@jupyter-widgets/controls"
          }
        },
        "8ef3bb460c5b48deb799cf0efd042a85": {
          "model_module": "@jupyter-widgets/base",
          "model_name": "LayoutModel",
          "model_module_version": "1.2.0",
          "state": {
            "_view_name": "LayoutView",
            "grid_template_rows": null,
            "right": null,
            "justify_content": null,
            "_view_module": "@jupyter-widgets/base",
            "overflow": null,
            "_model_module_version": "1.2.0",
            "_view_count": null,
            "flex_flow": null,
            "width": null,
            "min_width": null,
            "border": null,
            "align_items": null,
            "bottom": null,
            "_model_module": "@jupyter-widgets/base",
            "top": null,
            "grid_column": null,
            "overflow_y": null,
            "overflow_x": null,
            "grid_auto_flow": null,
            "grid_area": null,
            "grid_template_columns": null,
            "flex": null,
            "_model_name": "LayoutModel",
            "justify_items": null,
            "grid_row": null,
            "max_height": null,
            "align_content": null,
            "visibility": null,
            "align_self": null,
            "height": null,
            "min_height": null,
            "padding": null,
            "grid_auto_rows": null,
            "grid_gap": null,
            "max_width": null,
            "order": null,
            "_view_module_version": "1.2.0",
            "grid_template_areas": null,
            "object_position": null,
            "object_fit": null,
            "grid_auto_columns": null,
            "margin": null,
            "display": null,
            "left": null
          }
        },
        "9a5b2bde825648d49f1d295bbd58b139": {
          "model_module": "@jupyter-widgets/controls",
          "model_name": "ProgressStyleModel",
          "model_module_version": "1.5.0",
          "state": {
            "_view_name": "StyleView",
            "_model_name": "ProgressStyleModel",
            "description_width": "",
            "_view_module": "@jupyter-widgets/base",
            "_model_module_version": "1.5.0",
            "_view_count": null,
            "_view_module_version": "1.2.0",
            "bar_color": null,
            "_model_module": "@jupyter-widgets/controls"
          }
        },
        "fd7d4a807d414f8c86fe4409957f7892": {
          "model_module": "@jupyter-widgets/base",
          "model_name": "LayoutModel",
          "model_module_version": "1.2.0",
          "state": {
            "_view_name": "LayoutView",
            "grid_template_rows": null,
            "right": null,
            "justify_content": null,
            "_view_module": "@jupyter-widgets/base",
            "overflow": null,
            "_model_module_version": "1.2.0",
            "_view_count": null,
            "flex_flow": null,
            "width": null,
            "min_width": null,
            "border": null,
            "align_items": null,
            "bottom": null,
            "_model_module": "@jupyter-widgets/base",
            "top": null,
            "grid_column": null,
            "overflow_y": null,
            "overflow_x": null,
            "grid_auto_flow": null,
            "grid_area": null,
            "grid_template_columns": null,
            "flex": null,
            "_model_name": "LayoutModel",
            "justify_items": null,
            "grid_row": null,
            "max_height": null,
            "align_content": null,
            "visibility": null,
            "align_self": null,
            "height": null,
            "min_height": null,
            "padding": null,
            "grid_auto_rows": null,
            "grid_gap": null,
            "max_width": null,
            "order": null,
            "_view_module_version": "1.2.0",
            "grid_template_areas": null,
            "object_position": null,
            "object_fit": null,
            "grid_auto_columns": null,
            "margin": null,
            "display": null,
            "left": null
          }
        },
        "f502a9ee6bc84232b4bd8480bc3143e9": {
          "model_module": "@jupyter-widgets/controls",
          "model_name": "DescriptionStyleModel",
          "model_module_version": "1.5.0",
          "state": {
            "_view_name": "StyleView",
            "_model_name": "DescriptionStyleModel",
            "description_width": "",
            "_view_module": "@jupyter-widgets/base",
            "_model_module_version": "1.5.0",
            "_view_count": null,
            "_view_module_version": "1.2.0",
            "_model_module": "@jupyter-widgets/controls"
          }
        },
        "5643f8a55b7e43d08dd2e8d14492ed89": {
          "model_module": "@jupyter-widgets/base",
          "model_name": "LayoutModel",
          "model_module_version": "1.2.0",
          "state": {
            "_view_name": "LayoutView",
            "grid_template_rows": null,
            "right": null,
            "justify_content": null,
            "_view_module": "@jupyter-widgets/base",
            "overflow": null,
            "_model_module_version": "1.2.0",
            "_view_count": null,
            "flex_flow": null,
            "width": null,
            "min_width": null,
            "border": null,
            "align_items": null,
            "bottom": null,
            "_model_module": "@jupyter-widgets/base",
            "top": null,
            "grid_column": null,
            "overflow_y": null,
            "overflow_x": null,
            "grid_auto_flow": null,
            "grid_area": null,
            "grid_template_columns": null,
            "flex": null,
            "_model_name": "LayoutModel",
            "justify_items": null,
            "grid_row": null,
            "max_height": null,
            "align_content": null,
            "visibility": null,
            "align_self": null,
            "height": null,
            "min_height": null,
            "padding": null,
            "grid_auto_rows": null,
            "grid_gap": null,
            "max_width": null,
            "order": null,
            "_view_module_version": "1.2.0",
            "grid_template_areas": null,
            "object_position": null,
            "object_fit": null,
            "grid_auto_columns": null,
            "margin": null,
            "display": null,
            "left": null
          }
        },
        "daae7712c8a848a9b7e89439000902bc": {
          "model_module": "@jupyter-widgets/controls",
          "model_name": "HBoxModel",
          "model_module_version": "1.5.0",
          "state": {
            "_view_name": "HBoxView",
            "_dom_classes": [],
            "_model_name": "HBoxModel",
            "_view_module": "@jupyter-widgets/controls",
            "_model_module_version": "1.5.0",
            "_view_count": null,
            "_view_module_version": "1.5.0",
            "box_style": "",
            "layout": "IPY_MODEL_fb5c25c93d0249e898ddbf9a5cd1f413",
            "_model_module": "@jupyter-widgets/controls",
            "children": [
              "IPY_MODEL_72881d9aa11348a6a28d7356d54af319",
              "IPY_MODEL_ee1a9e8db78f49dcbd4303bd58d18927",
              "IPY_MODEL_c38f410b11d0488c8d5f4a45f24d078b"
            ]
          }
        },
        "fb5c25c93d0249e898ddbf9a5cd1f413": {
          "model_module": "@jupyter-widgets/base",
          "model_name": "LayoutModel",
          "model_module_version": "1.2.0",
          "state": {
            "_view_name": "LayoutView",
            "grid_template_rows": null,
            "right": null,
            "justify_content": null,
            "_view_module": "@jupyter-widgets/base",
            "overflow": null,
            "_model_module_version": "1.2.0",
            "_view_count": null,
            "flex_flow": null,
            "width": null,
            "min_width": null,
            "border": null,
            "align_items": null,
            "bottom": null,
            "_model_module": "@jupyter-widgets/base",
            "top": null,
            "grid_column": null,
            "overflow_y": null,
            "overflow_x": null,
            "grid_auto_flow": null,
            "grid_area": null,
            "grid_template_columns": null,
            "flex": null,
            "_model_name": "LayoutModel",
            "justify_items": null,
            "grid_row": null,
            "max_height": null,
            "align_content": null,
            "visibility": null,
            "align_self": null,
            "height": null,
            "min_height": null,
            "padding": null,
            "grid_auto_rows": null,
            "grid_gap": null,
            "max_width": null,
            "order": null,
            "_view_module_version": "1.2.0",
            "grid_template_areas": null,
            "object_position": null,
            "object_fit": null,
            "grid_auto_columns": null,
            "margin": null,
            "display": null,
            "left": null
          }
        },
        "72881d9aa11348a6a28d7356d54af319": {
          "model_module": "@jupyter-widgets/controls",
          "model_name": "HTMLModel",
          "model_module_version": "1.5.0",
          "state": {
            "_view_name": "HTMLView",
            "style": "IPY_MODEL_e6f9556657b441d2889082d61b8f6e92",
            "_dom_classes": [],
            "description": "",
            "_model_name": "HTMLModel",
            "placeholder": "​",
            "_view_module": "@jupyter-widgets/controls",
            "_model_module_version": "1.5.0",
            "value": "100%",
            "_view_count": null,
            "_view_module_version": "1.5.0",
            "description_tooltip": null,
            "_model_module": "@jupyter-widgets/controls",
            "layout": "IPY_MODEL_680b3a5b178d46e79799c653ffed97e0"
          }
        },
        "ee1a9e8db78f49dcbd4303bd58d18927": {
          "model_module": "@jupyter-widgets/controls",
          "model_name": "FloatProgressModel",
          "model_module_version": "1.5.0",
          "state": {
            "_view_name": "ProgressView",
            "style": "IPY_MODEL_674ee30006e34d5ab6b0d5c2e8cbe41a",
            "_dom_classes": [],
            "description": "",
            "_model_name": "FloatProgressModel",
            "bar_style": "success",
            "max": 20,
            "_view_module": "@jupyter-widgets/controls",
            "_model_module_version": "1.5.0",
            "value": 20,
            "_view_count": null,
            "_view_module_version": "1.5.0",
            "orientation": "horizontal",
            "min": 0,
            "description_tooltip": null,
            "_model_module": "@jupyter-widgets/controls",
            "layout": "IPY_MODEL_57365ac0c76e4295a18c6f04bf2f7cce"
          }
        },
        "c38f410b11d0488c8d5f4a45f24d078b": {
          "model_module": "@jupyter-widgets/controls",
          "model_name": "HTMLModel",
          "model_module_version": "1.5.0",
          "state": {
            "_view_name": "HTMLView",
            "style": "IPY_MODEL_c13dfe98c66f4b95be25f3f763a5c62e",
            "_dom_classes": [],
            "description": "",
            "_model_name": "HTMLModel",
            "placeholder": "​",
            "_view_module": "@jupyter-widgets/controls",
            "_model_module_version": "1.5.0",
            "value": " 20/20 [02:16&lt;00:00,  9.14s/it]",
            "_view_count": null,
            "_view_module_version": "1.5.0",
            "description_tooltip": null,
            "_model_module": "@jupyter-widgets/controls",
            "layout": "IPY_MODEL_82a673c0d278469c8d289c64bd0d54d0"
          }
        },
        "e6f9556657b441d2889082d61b8f6e92": {
          "model_module": "@jupyter-widgets/controls",
          "model_name": "DescriptionStyleModel",
          "model_module_version": "1.5.0",
          "state": {
            "_view_name": "StyleView",
            "_model_name": "DescriptionStyleModel",
            "description_width": "",
            "_view_module": "@jupyter-widgets/base",
            "_model_module_version": "1.5.0",
            "_view_count": null,
            "_view_module_version": "1.2.0",
            "_model_module": "@jupyter-widgets/controls"
          }
        },
        "680b3a5b178d46e79799c653ffed97e0": {
          "model_module": "@jupyter-widgets/base",
          "model_name": "LayoutModel",
          "model_module_version": "1.2.0",
          "state": {
            "_view_name": "LayoutView",
            "grid_template_rows": null,
            "right": null,
            "justify_content": null,
            "_view_module": "@jupyter-widgets/base",
            "overflow": null,
            "_model_module_version": "1.2.0",
            "_view_count": null,
            "flex_flow": null,
            "width": null,
            "min_width": null,
            "border": null,
            "align_items": null,
            "bottom": null,
            "_model_module": "@jupyter-widgets/base",
            "top": null,
            "grid_column": null,
            "overflow_y": null,
            "overflow_x": null,
            "grid_auto_flow": null,
            "grid_area": null,
            "grid_template_columns": null,
            "flex": null,
            "_model_name": "LayoutModel",
            "justify_items": null,
            "grid_row": null,
            "max_height": null,
            "align_content": null,
            "visibility": null,
            "align_self": null,
            "height": null,
            "min_height": null,
            "padding": null,
            "grid_auto_rows": null,
            "grid_gap": null,
            "max_width": null,
            "order": null,
            "_view_module_version": "1.2.0",
            "grid_template_areas": null,
            "object_position": null,
            "object_fit": null,
            "grid_auto_columns": null,
            "margin": null,
            "display": null,
            "left": null
          }
        },
        "674ee30006e34d5ab6b0d5c2e8cbe41a": {
          "model_module": "@jupyter-widgets/controls",
          "model_name": "ProgressStyleModel",
          "model_module_version": "1.5.0",
          "state": {
            "_view_name": "StyleView",
            "_model_name": "ProgressStyleModel",
            "description_width": "",
            "_view_module": "@jupyter-widgets/base",
            "_model_module_version": "1.5.0",
            "_view_count": null,
            "_view_module_version": "1.2.0",
            "bar_color": null,
            "_model_module": "@jupyter-widgets/controls"
          }
        },
        "57365ac0c76e4295a18c6f04bf2f7cce": {
          "model_module": "@jupyter-widgets/base",
          "model_name": "LayoutModel",
          "model_module_version": "1.2.0",
          "state": {
            "_view_name": "LayoutView",
            "grid_template_rows": null,
            "right": null,
            "justify_content": null,
            "_view_module": "@jupyter-widgets/base",
            "overflow": null,
            "_model_module_version": "1.2.0",
            "_view_count": null,
            "flex_flow": null,
            "width": null,
            "min_width": null,
            "border": null,
            "align_items": null,
            "bottom": null,
            "_model_module": "@jupyter-widgets/base",
            "top": null,
            "grid_column": null,
            "overflow_y": null,
            "overflow_x": null,
            "grid_auto_flow": null,
            "grid_area": null,
            "grid_template_columns": null,
            "flex": null,
            "_model_name": "LayoutModel",
            "justify_items": null,
            "grid_row": null,
            "max_height": null,
            "align_content": null,
            "visibility": null,
            "align_self": null,
            "height": null,
            "min_height": null,
            "padding": null,
            "grid_auto_rows": null,
            "grid_gap": null,
            "max_width": null,
            "order": null,
            "_view_module_version": "1.2.0",
            "grid_template_areas": null,
            "object_position": null,
            "object_fit": null,
            "grid_auto_columns": null,
            "margin": null,
            "display": null,
            "left": null
          }
        },
        "c13dfe98c66f4b95be25f3f763a5c62e": {
          "model_module": "@jupyter-widgets/controls",
          "model_name": "DescriptionStyleModel",
          "model_module_version": "1.5.0",
          "state": {
            "_view_name": "StyleView",
            "_model_name": "DescriptionStyleModel",
            "description_width": "",
            "_view_module": "@jupyter-widgets/base",
            "_model_module_version": "1.5.0",
            "_view_count": null,
            "_view_module_version": "1.2.0",
            "_model_module": "@jupyter-widgets/controls"
          }
        },
        "82a673c0d278469c8d289c64bd0d54d0": {
          "model_module": "@jupyter-widgets/base",
          "model_name": "LayoutModel",
          "model_module_version": "1.2.0",
          "state": {
            "_view_name": "LayoutView",
            "grid_template_rows": null,
            "right": null,
            "justify_content": null,
            "_view_module": "@jupyter-widgets/base",
            "overflow": null,
            "_model_module_version": "1.2.0",
            "_view_count": null,
            "flex_flow": null,
            "width": null,
            "min_width": null,
            "border": null,
            "align_items": null,
            "bottom": null,
            "_model_module": "@jupyter-widgets/base",
            "top": null,
            "grid_column": null,
            "overflow_y": null,
            "overflow_x": null,
            "grid_auto_flow": null,
            "grid_area": null,
            "grid_template_columns": null,
            "flex": null,
            "_model_name": "LayoutModel",
            "justify_items": null,
            "grid_row": null,
            "max_height": null,
            "align_content": null,
            "visibility": null,
            "align_self": null,
            "height": null,
            "min_height": null,
            "padding": null,
            "grid_auto_rows": null,
            "grid_gap": null,
            "max_width": null,
            "order": null,
            "_view_module_version": "1.2.0",
            "grid_template_areas": null,
            "object_position": null,
            "object_fit": null,
            "grid_auto_columns": null,
            "margin": null,
            "display": null,
            "left": null
          }
        },
        "1abe3d79f3544d7bb77ad117e1f99208": {
          "model_module": "@jupyter-widgets/controls",
          "model_name": "HBoxModel",
          "model_module_version": "1.5.0",
          "state": {
            "_view_name": "HBoxView",
            "_dom_classes": [],
            "_model_name": "HBoxModel",
            "_view_module": "@jupyter-widgets/controls",
            "_model_module_version": "1.5.0",
            "_view_count": null,
            "_view_module_version": "1.5.0",
            "box_style": "",
            "layout": "IPY_MODEL_556ba30984144447a17c02c220b12118",
            "_model_module": "@jupyter-widgets/controls",
            "children": [
              "IPY_MODEL_6754006648aa477ca48c1295590c67ec",
              "IPY_MODEL_e44f270b999c4de89f3f05b70acc1c74",
              "IPY_MODEL_9ee42ddb1e0b443fa1f8525314c0336c"
            ]
          }
        },
        "556ba30984144447a17c02c220b12118": {
          "model_module": "@jupyter-widgets/base",
          "model_name": "LayoutModel",
          "model_module_version": "1.2.0",
          "state": {
            "_view_name": "LayoutView",
            "grid_template_rows": null,
            "right": null,
            "justify_content": null,
            "_view_module": "@jupyter-widgets/base",
            "overflow": null,
            "_model_module_version": "1.2.0",
            "_view_count": null,
            "flex_flow": null,
            "width": null,
            "min_width": null,
            "border": null,
            "align_items": null,
            "bottom": null,
            "_model_module": "@jupyter-widgets/base",
            "top": null,
            "grid_column": null,
            "overflow_y": null,
            "overflow_x": null,
            "grid_auto_flow": null,
            "grid_area": null,
            "grid_template_columns": null,
            "flex": null,
            "_model_name": "LayoutModel",
            "justify_items": null,
            "grid_row": null,
            "max_height": null,
            "align_content": null,
            "visibility": null,
            "align_self": null,
            "height": null,
            "min_height": null,
            "padding": null,
            "grid_auto_rows": null,
            "grid_gap": null,
            "max_width": null,
            "order": null,
            "_view_module_version": "1.2.0",
            "grid_template_areas": null,
            "object_position": null,
            "object_fit": null,
            "grid_auto_columns": null,
            "margin": null,
            "display": null,
            "left": null
          }
        },
        "6754006648aa477ca48c1295590c67ec": {
          "model_module": "@jupyter-widgets/controls",
          "model_name": "HTMLModel",
          "model_module_version": "1.5.0",
          "state": {
            "_view_name": "HTMLView",
            "style": "IPY_MODEL_b23f071a8e6242218a1b3a1f3765e891",
            "_dom_classes": [],
            "description": "",
            "_model_name": "HTMLModel",
            "placeholder": "​",
            "_view_module": "@jupyter-widgets/controls",
            "_model_module_version": "1.5.0",
            "value": "100%",
            "_view_count": null,
            "_view_module_version": "1.5.0",
            "description_tooltip": null,
            "_model_module": "@jupyter-widgets/controls",
            "layout": "IPY_MODEL_b1733256cb3145a7af2b429d7e5cd13a"
          }
        },
        "e44f270b999c4de89f3f05b70acc1c74": {
          "model_module": "@jupyter-widgets/controls",
          "model_name": "FloatProgressModel",
          "model_module_version": "1.5.0",
          "state": {
            "_view_name": "ProgressView",
            "style": "IPY_MODEL_96a94b160d6a4210a3b8954342d73b59",
            "_dom_classes": [],
            "description": "",
            "_model_name": "FloatProgressModel",
            "bar_style": "success",
            "max": 20,
            "_view_module": "@jupyter-widgets/controls",
            "_model_module_version": "1.5.0",
            "value": 20,
            "_view_count": null,
            "_view_module_version": "1.5.0",
            "orientation": "horizontal",
            "min": 0,
            "description_tooltip": null,
            "_model_module": "@jupyter-widgets/controls",
            "layout": "IPY_MODEL_cb8e3f71769d4d0495f25ab8986b7b4d"
          }
        },
        "9ee42ddb1e0b443fa1f8525314c0336c": {
          "model_module": "@jupyter-widgets/controls",
          "model_name": "HTMLModel",
          "model_module_version": "1.5.0",
          "state": {
            "_view_name": "HTMLView",
            "style": "IPY_MODEL_1dc7f25cfcd84395a8313c64037acea9",
            "_dom_classes": [],
            "description": "",
            "_model_name": "HTMLModel",
            "placeholder": "​",
            "_view_module": "@jupyter-widgets/controls",
            "_model_module_version": "1.5.0",
            "value": " 20/20 [04:28&lt;00:00, 15.81s/it]",
            "_view_count": null,
            "_view_module_version": "1.5.0",
            "description_tooltip": null,
            "_model_module": "@jupyter-widgets/controls",
            "layout": "IPY_MODEL_c1836c29242c40bba67519370d8948a0"
          }
        },
        "b23f071a8e6242218a1b3a1f3765e891": {
          "model_module": "@jupyter-widgets/controls",
          "model_name": "DescriptionStyleModel",
          "model_module_version": "1.5.0",
          "state": {
            "_view_name": "StyleView",
            "_model_name": "DescriptionStyleModel",
            "description_width": "",
            "_view_module": "@jupyter-widgets/base",
            "_model_module_version": "1.5.0",
            "_view_count": null,
            "_view_module_version": "1.2.0",
            "_model_module": "@jupyter-widgets/controls"
          }
        },
        "b1733256cb3145a7af2b429d7e5cd13a": {
          "model_module": "@jupyter-widgets/base",
          "model_name": "LayoutModel",
          "model_module_version": "1.2.0",
          "state": {
            "_view_name": "LayoutView",
            "grid_template_rows": null,
            "right": null,
            "justify_content": null,
            "_view_module": "@jupyter-widgets/base",
            "overflow": null,
            "_model_module_version": "1.2.0",
            "_view_count": null,
            "flex_flow": null,
            "width": null,
            "min_width": null,
            "border": null,
            "align_items": null,
            "bottom": null,
            "_model_module": "@jupyter-widgets/base",
            "top": null,
            "grid_column": null,
            "overflow_y": null,
            "overflow_x": null,
            "grid_auto_flow": null,
            "grid_area": null,
            "grid_template_columns": null,
            "flex": null,
            "_model_name": "LayoutModel",
            "justify_items": null,
            "grid_row": null,
            "max_height": null,
            "align_content": null,
            "visibility": null,
            "align_self": null,
            "height": null,
            "min_height": null,
            "padding": null,
            "grid_auto_rows": null,
            "grid_gap": null,
            "max_width": null,
            "order": null,
            "_view_module_version": "1.2.0",
            "grid_template_areas": null,
            "object_position": null,
            "object_fit": null,
            "grid_auto_columns": null,
            "margin": null,
            "display": null,
            "left": null
          }
        },
        "96a94b160d6a4210a3b8954342d73b59": {
          "model_module": "@jupyter-widgets/controls",
          "model_name": "ProgressStyleModel",
          "model_module_version": "1.5.0",
          "state": {
            "_view_name": "StyleView",
            "_model_name": "ProgressStyleModel",
            "description_width": "",
            "_view_module": "@jupyter-widgets/base",
            "_model_module_version": "1.5.0",
            "_view_count": null,
            "_view_module_version": "1.2.0",
            "bar_color": null,
            "_model_module": "@jupyter-widgets/controls"
          }
        },
        "cb8e3f71769d4d0495f25ab8986b7b4d": {
          "model_module": "@jupyter-widgets/base",
          "model_name": "LayoutModel",
          "model_module_version": "1.2.0",
          "state": {
            "_view_name": "LayoutView",
            "grid_template_rows": null,
            "right": null,
            "justify_content": null,
            "_view_module": "@jupyter-widgets/base",
            "overflow": null,
            "_model_module_version": "1.2.0",
            "_view_count": null,
            "flex_flow": null,
            "width": null,
            "min_width": null,
            "border": null,
            "align_items": null,
            "bottom": null,
            "_model_module": "@jupyter-widgets/base",
            "top": null,
            "grid_column": null,
            "overflow_y": null,
            "overflow_x": null,
            "grid_auto_flow": null,
            "grid_area": null,
            "grid_template_columns": null,
            "flex": null,
            "_model_name": "LayoutModel",
            "justify_items": null,
            "grid_row": null,
            "max_height": null,
            "align_content": null,
            "visibility": null,
            "align_self": null,
            "height": null,
            "min_height": null,
            "padding": null,
            "grid_auto_rows": null,
            "grid_gap": null,
            "max_width": null,
            "order": null,
            "_view_module_version": "1.2.0",
            "grid_template_areas": null,
            "object_position": null,
            "object_fit": null,
            "grid_auto_columns": null,
            "margin": null,
            "display": null,
            "left": null
          }
        },
        "1dc7f25cfcd84395a8313c64037acea9": {
          "model_module": "@jupyter-widgets/controls",
          "model_name": "DescriptionStyleModel",
          "model_module_version": "1.5.0",
          "state": {
            "_view_name": "StyleView",
            "_model_name": "DescriptionStyleModel",
            "description_width": "",
            "_view_module": "@jupyter-widgets/base",
            "_model_module_version": "1.5.0",
            "_view_count": null,
            "_view_module_version": "1.2.0",
            "_model_module": "@jupyter-widgets/controls"
          }
        },
        "c1836c29242c40bba67519370d8948a0": {
          "model_module": "@jupyter-widgets/base",
          "model_name": "LayoutModel",
          "model_module_version": "1.2.0",
          "state": {
            "_view_name": "LayoutView",
            "grid_template_rows": null,
            "right": null,
            "justify_content": null,
            "_view_module": "@jupyter-widgets/base",
            "overflow": null,
            "_model_module_version": "1.2.0",
            "_view_count": null,
            "flex_flow": null,
            "width": null,
            "min_width": null,
            "border": null,
            "align_items": null,
            "bottom": null,
            "_model_module": "@jupyter-widgets/base",
            "top": null,
            "grid_column": null,
            "overflow_y": null,
            "overflow_x": null,
            "grid_auto_flow": null,
            "grid_area": null,
            "grid_template_columns": null,
            "flex": null,
            "_model_name": "LayoutModel",
            "justify_items": null,
            "grid_row": null,
            "max_height": null,
            "align_content": null,
            "visibility": null,
            "align_self": null,
            "height": null,
            "min_height": null,
            "padding": null,
            "grid_auto_rows": null,
            "grid_gap": null,
            "max_width": null,
            "order": null,
            "_view_module_version": "1.2.0",
            "grid_template_areas": null,
            "object_position": null,
            "object_fit": null,
            "grid_auto_columns": null,
            "margin": null,
            "display": null,
            "left": null
          }
        },
        "6c96e47bdc54437f9f438211b3136238": {
          "model_module": "@jupyter-widgets/controls",
          "model_name": "HBoxModel",
          "model_module_version": "1.5.0",
          "state": {
            "_view_name": "HBoxView",
            "_dom_classes": [],
            "_model_name": "HBoxModel",
            "_view_module": "@jupyter-widgets/controls",
            "_model_module_version": "1.5.0",
            "_view_count": null,
            "_view_module_version": "1.5.0",
            "box_style": "",
            "layout": "IPY_MODEL_6098ea2fceb74d22acb22286b487210d",
            "_model_module": "@jupyter-widgets/controls",
            "children": [
              "IPY_MODEL_606e0393277041a194f0c40ec3007db7",
              "IPY_MODEL_b2e6f497f29740e8916b227590e324d2",
              "IPY_MODEL_dc37e2cb88284172a4554da3dda615ab"
            ]
          }
        },
        "6098ea2fceb74d22acb22286b487210d": {
          "model_module": "@jupyter-widgets/base",
          "model_name": "LayoutModel",
          "model_module_version": "1.2.0",
          "state": {
            "_view_name": "LayoutView",
            "grid_template_rows": null,
            "right": null,
            "justify_content": null,
            "_view_module": "@jupyter-widgets/base",
            "overflow": null,
            "_model_module_version": "1.2.0",
            "_view_count": null,
            "flex_flow": null,
            "width": null,
            "min_width": null,
            "border": null,
            "align_items": null,
            "bottom": null,
            "_model_module": "@jupyter-widgets/base",
            "top": null,
            "grid_column": null,
            "overflow_y": null,
            "overflow_x": null,
            "grid_auto_flow": null,
            "grid_area": null,
            "grid_template_columns": null,
            "flex": null,
            "_model_name": "LayoutModel",
            "justify_items": null,
            "grid_row": null,
            "max_height": null,
            "align_content": null,
            "visibility": null,
            "align_self": null,
            "height": null,
            "min_height": null,
            "padding": null,
            "grid_auto_rows": null,
            "grid_gap": null,
            "max_width": null,
            "order": null,
            "_view_module_version": "1.2.0",
            "grid_template_areas": null,
            "object_position": null,
            "object_fit": null,
            "grid_auto_columns": null,
            "margin": null,
            "display": null,
            "left": null
          }
        },
        "606e0393277041a194f0c40ec3007db7": {
          "model_module": "@jupyter-widgets/controls",
          "model_name": "HTMLModel",
          "model_module_version": "1.5.0",
          "state": {
            "_view_name": "HTMLView",
            "style": "IPY_MODEL_08c1fb0674a2497b85b4ea66e2efd0e1",
            "_dom_classes": [],
            "description": "",
            "_model_name": "HTMLModel",
            "placeholder": "​",
            "_view_module": "@jupyter-widgets/controls",
            "_model_module_version": "1.5.0",
            "value": "100%",
            "_view_count": null,
            "_view_module_version": "1.5.0",
            "description_tooltip": null,
            "_model_module": "@jupyter-widgets/controls",
            "layout": "IPY_MODEL_336f4331087045029e3beb4313097423"
          }
        },
        "b2e6f497f29740e8916b227590e324d2": {
          "model_module": "@jupyter-widgets/controls",
          "model_name": "FloatProgressModel",
          "model_module_version": "1.5.0",
          "state": {
            "_view_name": "ProgressView",
            "style": "IPY_MODEL_b335425084f24706a7e99017644471eb",
            "_dom_classes": [],
            "description": "",
            "_model_name": "FloatProgressModel",
            "bar_style": "success",
            "max": 20,
            "_view_module": "@jupyter-widgets/controls",
            "_model_module_version": "1.5.0",
            "value": 20,
            "_view_count": null,
            "_view_module_version": "1.5.0",
            "orientation": "horizontal",
            "min": 0,
            "description_tooltip": null,
            "_model_module": "@jupyter-widgets/controls",
            "layout": "IPY_MODEL_51a887fd9cf54802b87d742180acba61"
          }
        },
        "dc37e2cb88284172a4554da3dda615ab": {
          "model_module": "@jupyter-widgets/controls",
          "model_name": "HTMLModel",
          "model_module_version": "1.5.0",
          "state": {
            "_view_name": "HTMLView",
            "style": "IPY_MODEL_33f9c7c362334d7e8d7f8657342612df",
            "_dom_classes": [],
            "description": "",
            "_model_name": "HTMLModel",
            "placeholder": "​",
            "_view_module": "@jupyter-widgets/controls",
            "_model_module_version": "1.5.0",
            "value": " 20/20 [06:48&lt;00:00, 22.97s/it]",
            "_view_count": null,
            "_view_module_version": "1.5.0",
            "description_tooltip": null,
            "_model_module": "@jupyter-widgets/controls",
            "layout": "IPY_MODEL_cb70044a1d194e059e320ead6c57bb3a"
          }
        },
        "08c1fb0674a2497b85b4ea66e2efd0e1": {
          "model_module": "@jupyter-widgets/controls",
          "model_name": "DescriptionStyleModel",
          "model_module_version": "1.5.0",
          "state": {
            "_view_name": "StyleView",
            "_model_name": "DescriptionStyleModel",
            "description_width": "",
            "_view_module": "@jupyter-widgets/base",
            "_model_module_version": "1.5.0",
            "_view_count": null,
            "_view_module_version": "1.2.0",
            "_model_module": "@jupyter-widgets/controls"
          }
        },
        "336f4331087045029e3beb4313097423": {
          "model_module": "@jupyter-widgets/base",
          "model_name": "LayoutModel",
          "model_module_version": "1.2.0",
          "state": {
            "_view_name": "LayoutView",
            "grid_template_rows": null,
            "right": null,
            "justify_content": null,
            "_view_module": "@jupyter-widgets/base",
            "overflow": null,
            "_model_module_version": "1.2.0",
            "_view_count": null,
            "flex_flow": null,
            "width": null,
            "min_width": null,
            "border": null,
            "align_items": null,
            "bottom": null,
            "_model_module": "@jupyter-widgets/base",
            "top": null,
            "grid_column": null,
            "overflow_y": null,
            "overflow_x": null,
            "grid_auto_flow": null,
            "grid_area": null,
            "grid_template_columns": null,
            "flex": null,
            "_model_name": "LayoutModel",
            "justify_items": null,
            "grid_row": null,
            "max_height": null,
            "align_content": null,
            "visibility": null,
            "align_self": null,
            "height": null,
            "min_height": null,
            "padding": null,
            "grid_auto_rows": null,
            "grid_gap": null,
            "max_width": null,
            "order": null,
            "_view_module_version": "1.2.0",
            "grid_template_areas": null,
            "object_position": null,
            "object_fit": null,
            "grid_auto_columns": null,
            "margin": null,
            "display": null,
            "left": null
          }
        },
        "b335425084f24706a7e99017644471eb": {
          "model_module": "@jupyter-widgets/controls",
          "model_name": "ProgressStyleModel",
          "model_module_version": "1.5.0",
          "state": {
            "_view_name": "StyleView",
            "_model_name": "ProgressStyleModel",
            "description_width": "",
            "_view_module": "@jupyter-widgets/base",
            "_model_module_version": "1.5.0",
            "_view_count": null,
            "_view_module_version": "1.2.0",
            "bar_color": null,
            "_model_module": "@jupyter-widgets/controls"
          }
        },
        "51a887fd9cf54802b87d742180acba61": {
          "model_module": "@jupyter-widgets/base",
          "model_name": "LayoutModel",
          "model_module_version": "1.2.0",
          "state": {
            "_view_name": "LayoutView",
            "grid_template_rows": null,
            "right": null,
            "justify_content": null,
            "_view_module": "@jupyter-widgets/base",
            "overflow": null,
            "_model_module_version": "1.2.0",
            "_view_count": null,
            "flex_flow": null,
            "width": null,
            "min_width": null,
            "border": null,
            "align_items": null,
            "bottom": null,
            "_model_module": "@jupyter-widgets/base",
            "top": null,
            "grid_column": null,
            "overflow_y": null,
            "overflow_x": null,
            "grid_auto_flow": null,
            "grid_area": null,
            "grid_template_columns": null,
            "flex": null,
            "_model_name": "LayoutModel",
            "justify_items": null,
            "grid_row": null,
            "max_height": null,
            "align_content": null,
            "visibility": null,
            "align_self": null,
            "height": null,
            "min_height": null,
            "padding": null,
            "grid_auto_rows": null,
            "grid_gap": null,
            "max_width": null,
            "order": null,
            "_view_module_version": "1.2.0",
            "grid_template_areas": null,
            "object_position": null,
            "object_fit": null,
            "grid_auto_columns": null,
            "margin": null,
            "display": null,
            "left": null
          }
        },
        "33f9c7c362334d7e8d7f8657342612df": {
          "model_module": "@jupyter-widgets/controls",
          "model_name": "DescriptionStyleModel",
          "model_module_version": "1.5.0",
          "state": {
            "_view_name": "StyleView",
            "_model_name": "DescriptionStyleModel",
            "description_width": "",
            "_view_module": "@jupyter-widgets/base",
            "_model_module_version": "1.5.0",
            "_view_count": null,
            "_view_module_version": "1.2.0",
            "_model_module": "@jupyter-widgets/controls"
          }
        },
        "cb70044a1d194e059e320ead6c57bb3a": {
          "model_module": "@jupyter-widgets/base",
          "model_name": "LayoutModel",
          "model_module_version": "1.2.0",
          "state": {
            "_view_name": "LayoutView",
            "grid_template_rows": null,
            "right": null,
            "justify_content": null,
            "_view_module": "@jupyter-widgets/base",
            "overflow": null,
            "_model_module_version": "1.2.0",
            "_view_count": null,
            "flex_flow": null,
            "width": null,
            "min_width": null,
            "border": null,
            "align_items": null,
            "bottom": null,
            "_model_module": "@jupyter-widgets/base",
            "top": null,
            "grid_column": null,
            "overflow_y": null,
            "overflow_x": null,
            "grid_auto_flow": null,
            "grid_area": null,
            "grid_template_columns": null,
            "flex": null,
            "_model_name": "LayoutModel",
            "justify_items": null,
            "grid_row": null,
            "max_height": null,
            "align_content": null,
            "visibility": null,
            "align_self": null,
            "height": null,
            "min_height": null,
            "padding": null,
            "grid_auto_rows": null,
            "grid_gap": null,
            "max_width": null,
            "order": null,
            "_view_module_version": "1.2.0",
            "grid_template_areas": null,
            "object_position": null,
            "object_fit": null,
            "grid_auto_columns": null,
            "margin": null,
            "display": null,
            "left": null
          }
        },
        "4ddb36c870b54e379fd70340fe90e312": {
          "model_module": "@jupyter-widgets/controls",
          "model_name": "HBoxModel",
          "model_module_version": "1.5.0",
          "state": {
            "_view_name": "HBoxView",
            "_dom_classes": [],
            "_model_name": "HBoxModel",
            "_view_module": "@jupyter-widgets/controls",
            "_model_module_version": "1.5.0",
            "_view_count": null,
            "_view_module_version": "1.5.0",
            "box_style": "",
            "layout": "IPY_MODEL_20b80c591a234e0e9329636919b5fcde",
            "_model_module": "@jupyter-widgets/controls",
            "children": [
              "IPY_MODEL_fdca64bdb3a445418a2e1a2dcba1108f",
              "IPY_MODEL_f98c4d3cd0304c2c977903721d4892c9",
              "IPY_MODEL_47ef829edbcb4662bd20bb9b6a75616a"
            ]
          }
        },
        "20b80c591a234e0e9329636919b5fcde": {
          "model_module": "@jupyter-widgets/base",
          "model_name": "LayoutModel",
          "model_module_version": "1.2.0",
          "state": {
            "_view_name": "LayoutView",
            "grid_template_rows": null,
            "right": null,
            "justify_content": null,
            "_view_module": "@jupyter-widgets/base",
            "overflow": null,
            "_model_module_version": "1.2.0",
            "_view_count": null,
            "flex_flow": null,
            "width": null,
            "min_width": null,
            "border": null,
            "align_items": null,
            "bottom": null,
            "_model_module": "@jupyter-widgets/base",
            "top": null,
            "grid_column": null,
            "overflow_y": null,
            "overflow_x": null,
            "grid_auto_flow": null,
            "grid_area": null,
            "grid_template_columns": null,
            "flex": null,
            "_model_name": "LayoutModel",
            "justify_items": null,
            "grid_row": null,
            "max_height": null,
            "align_content": null,
            "visibility": null,
            "align_self": null,
            "height": null,
            "min_height": null,
            "padding": null,
            "grid_auto_rows": null,
            "grid_gap": null,
            "max_width": null,
            "order": null,
            "_view_module_version": "1.2.0",
            "grid_template_areas": null,
            "object_position": null,
            "object_fit": null,
            "grid_auto_columns": null,
            "margin": null,
            "display": null,
            "left": null
          }
        },
        "fdca64bdb3a445418a2e1a2dcba1108f": {
          "model_module": "@jupyter-widgets/controls",
          "model_name": "HTMLModel",
          "model_module_version": "1.5.0",
          "state": {
            "_view_name": "HTMLView",
            "style": "IPY_MODEL_27a89f2436d0486e87aa7ac91fa21c14",
            "_dom_classes": [],
            "description": "",
            "_model_name": "HTMLModel",
            "placeholder": "​",
            "_view_module": "@jupyter-widgets/controls",
            "_model_module_version": "1.5.0",
            "value": "100%",
            "_view_count": null,
            "_view_module_version": "1.5.0",
            "description_tooltip": null,
            "_model_module": "@jupyter-widgets/controls",
            "layout": "IPY_MODEL_2acf52c50b7b4f4e81cbf487cd834e14"
          }
        },
        "f98c4d3cd0304c2c977903721d4892c9": {
          "model_module": "@jupyter-widgets/controls",
          "model_name": "FloatProgressModel",
          "model_module_version": "1.5.0",
          "state": {
            "_view_name": "ProgressView",
            "style": "IPY_MODEL_9c48b0d19d6e45ea951e32099197f98b",
            "_dom_classes": [],
            "description": "",
            "_model_name": "FloatProgressModel",
            "bar_style": "success",
            "max": 20,
            "_view_module": "@jupyter-widgets/controls",
            "_model_module_version": "1.5.0",
            "value": 20,
            "_view_count": null,
            "_view_module_version": "1.5.0",
            "orientation": "horizontal",
            "min": 0,
            "description_tooltip": null,
            "_model_module": "@jupyter-widgets/controls",
            "layout": "IPY_MODEL_e1e9fb7dbc914e15a4a1f99e662e666b"
          }
        },
        "47ef829edbcb4662bd20bb9b6a75616a": {
          "model_module": "@jupyter-widgets/controls",
          "model_name": "HTMLModel",
          "model_module_version": "1.5.0",
          "state": {
            "_view_name": "HTMLView",
            "style": "IPY_MODEL_9ab9f32331b94a008fa51736bd36fc30",
            "_dom_classes": [],
            "description": "",
            "_model_name": "HTMLModel",
            "placeholder": "​",
            "_view_module": "@jupyter-widgets/controls",
            "_model_module_version": "1.5.0",
            "value": " 20/20 [09:05&lt;00:00, 29.69s/it]",
            "_view_count": null,
            "_view_module_version": "1.5.0",
            "description_tooltip": null,
            "_model_module": "@jupyter-widgets/controls",
            "layout": "IPY_MODEL_a503a908bf874ff694fa939654e2eff0"
          }
        },
        "27a89f2436d0486e87aa7ac91fa21c14": {
          "model_module": "@jupyter-widgets/controls",
          "model_name": "DescriptionStyleModel",
          "model_module_version": "1.5.0",
          "state": {
            "_view_name": "StyleView",
            "_model_name": "DescriptionStyleModel",
            "description_width": "",
            "_view_module": "@jupyter-widgets/base",
            "_model_module_version": "1.5.0",
            "_view_count": null,
            "_view_module_version": "1.2.0",
            "_model_module": "@jupyter-widgets/controls"
          }
        },
        "2acf52c50b7b4f4e81cbf487cd834e14": {
          "model_module": "@jupyter-widgets/base",
          "model_name": "LayoutModel",
          "model_module_version": "1.2.0",
          "state": {
            "_view_name": "LayoutView",
            "grid_template_rows": null,
            "right": null,
            "justify_content": null,
            "_view_module": "@jupyter-widgets/base",
            "overflow": null,
            "_model_module_version": "1.2.0",
            "_view_count": null,
            "flex_flow": null,
            "width": null,
            "min_width": null,
            "border": null,
            "align_items": null,
            "bottom": null,
            "_model_module": "@jupyter-widgets/base",
            "top": null,
            "grid_column": null,
            "overflow_y": null,
            "overflow_x": null,
            "grid_auto_flow": null,
            "grid_area": null,
            "grid_template_columns": null,
            "flex": null,
            "_model_name": "LayoutModel",
            "justify_items": null,
            "grid_row": null,
            "max_height": null,
            "align_content": null,
            "visibility": null,
            "align_self": null,
            "height": null,
            "min_height": null,
            "padding": null,
            "grid_auto_rows": null,
            "grid_gap": null,
            "max_width": null,
            "order": null,
            "_view_module_version": "1.2.0",
            "grid_template_areas": null,
            "object_position": null,
            "object_fit": null,
            "grid_auto_columns": null,
            "margin": null,
            "display": null,
            "left": null
          }
        },
        "9c48b0d19d6e45ea951e32099197f98b": {
          "model_module": "@jupyter-widgets/controls",
          "model_name": "ProgressStyleModel",
          "model_module_version": "1.5.0",
          "state": {
            "_view_name": "StyleView",
            "_model_name": "ProgressStyleModel",
            "description_width": "",
            "_view_module": "@jupyter-widgets/base",
            "_model_module_version": "1.5.0",
            "_view_count": null,
            "_view_module_version": "1.2.0",
            "bar_color": null,
            "_model_module": "@jupyter-widgets/controls"
          }
        },
        "e1e9fb7dbc914e15a4a1f99e662e666b": {
          "model_module": "@jupyter-widgets/base",
          "model_name": "LayoutModel",
          "model_module_version": "1.2.0",
          "state": {
            "_view_name": "LayoutView",
            "grid_template_rows": null,
            "right": null,
            "justify_content": null,
            "_view_module": "@jupyter-widgets/base",
            "overflow": null,
            "_model_module_version": "1.2.0",
            "_view_count": null,
            "flex_flow": null,
            "width": null,
            "min_width": null,
            "border": null,
            "align_items": null,
            "bottom": null,
            "_model_module": "@jupyter-widgets/base",
            "top": null,
            "grid_column": null,
            "overflow_y": null,
            "overflow_x": null,
            "grid_auto_flow": null,
            "grid_area": null,
            "grid_template_columns": null,
            "flex": null,
            "_model_name": "LayoutModel",
            "justify_items": null,
            "grid_row": null,
            "max_height": null,
            "align_content": null,
            "visibility": null,
            "align_self": null,
            "height": null,
            "min_height": null,
            "padding": null,
            "grid_auto_rows": null,
            "grid_gap": null,
            "max_width": null,
            "order": null,
            "_view_module_version": "1.2.0",
            "grid_template_areas": null,
            "object_position": null,
            "object_fit": null,
            "grid_auto_columns": null,
            "margin": null,
            "display": null,
            "left": null
          }
        },
        "9ab9f32331b94a008fa51736bd36fc30": {
          "model_module": "@jupyter-widgets/controls",
          "model_name": "DescriptionStyleModel",
          "model_module_version": "1.5.0",
          "state": {
            "_view_name": "StyleView",
            "_model_name": "DescriptionStyleModel",
            "description_width": "",
            "_view_module": "@jupyter-widgets/base",
            "_model_module_version": "1.5.0",
            "_view_count": null,
            "_view_module_version": "1.2.0",
            "_model_module": "@jupyter-widgets/controls"
          }
        },
        "a503a908bf874ff694fa939654e2eff0": {
          "model_module": "@jupyter-widgets/base",
          "model_name": "LayoutModel",
          "model_module_version": "1.2.0",
          "state": {
            "_view_name": "LayoutView",
            "grid_template_rows": null,
            "right": null,
            "justify_content": null,
            "_view_module": "@jupyter-widgets/base",
            "overflow": null,
            "_model_module_version": "1.2.0",
            "_view_count": null,
            "flex_flow": null,
            "width": null,
            "min_width": null,
            "border": null,
            "align_items": null,
            "bottom": null,
            "_model_module": "@jupyter-widgets/base",
            "top": null,
            "grid_column": null,
            "overflow_y": null,
            "overflow_x": null,
            "grid_auto_flow": null,
            "grid_area": null,
            "grid_template_columns": null,
            "flex": null,
            "_model_name": "LayoutModel",
            "justify_items": null,
            "grid_row": null,
            "max_height": null,
            "align_content": null,
            "visibility": null,
            "align_self": null,
            "height": null,
            "min_height": null,
            "padding": null,
            "grid_auto_rows": null,
            "grid_gap": null,
            "max_width": null,
            "order": null,
            "_view_module_version": "1.2.0",
            "grid_template_areas": null,
            "object_position": null,
            "object_fit": null,
            "grid_auto_columns": null,
            "margin": null,
            "display": null,
            "left": null
          }
        },
        "a8a2577369c04273b9e55a9f4968cda9": {
          "model_module": "@jupyter-widgets/controls",
          "model_name": "HBoxModel",
          "model_module_version": "1.5.0",
          "state": {
            "_view_name": "HBoxView",
            "_dom_classes": [],
            "_model_name": "HBoxModel",
            "_view_module": "@jupyter-widgets/controls",
            "_model_module_version": "1.5.0",
            "_view_count": null,
            "_view_module_version": "1.5.0",
            "box_style": "",
            "layout": "IPY_MODEL_30147d180588447186a8984d1325f845",
            "_model_module": "@jupyter-widgets/controls",
            "children": [
              "IPY_MODEL_c718d6447bf84c0a816b34f8e1ec2464",
              "IPY_MODEL_5d080f7d6ca741eea018482d9a91b886",
              "IPY_MODEL_e2b8ca769dcb42f1a423b51cad8103a8"
            ]
          }
        },
        "30147d180588447186a8984d1325f845": {
          "model_module": "@jupyter-widgets/base",
          "model_name": "LayoutModel",
          "model_module_version": "1.2.0",
          "state": {
            "_view_name": "LayoutView",
            "grid_template_rows": null,
            "right": null,
            "justify_content": null,
            "_view_module": "@jupyter-widgets/base",
            "overflow": null,
            "_model_module_version": "1.2.0",
            "_view_count": null,
            "flex_flow": null,
            "width": null,
            "min_width": null,
            "border": null,
            "align_items": null,
            "bottom": null,
            "_model_module": "@jupyter-widgets/base",
            "top": null,
            "grid_column": null,
            "overflow_y": null,
            "overflow_x": null,
            "grid_auto_flow": null,
            "grid_area": null,
            "grid_template_columns": null,
            "flex": null,
            "_model_name": "LayoutModel",
            "justify_items": null,
            "grid_row": null,
            "max_height": null,
            "align_content": null,
            "visibility": null,
            "align_self": null,
            "height": null,
            "min_height": null,
            "padding": null,
            "grid_auto_rows": null,
            "grid_gap": null,
            "max_width": null,
            "order": null,
            "_view_module_version": "1.2.0",
            "grid_template_areas": null,
            "object_position": null,
            "object_fit": null,
            "grid_auto_columns": null,
            "margin": null,
            "display": null,
            "left": null
          }
        },
        "c718d6447bf84c0a816b34f8e1ec2464": {
          "model_module": "@jupyter-widgets/controls",
          "model_name": "HTMLModel",
          "model_module_version": "1.5.0",
          "state": {
            "_view_name": "HTMLView",
            "style": "IPY_MODEL_117da0a72a7b46c5b733df7aa7a859ec",
            "_dom_classes": [],
            "description": "",
            "_model_name": "HTMLModel",
            "placeholder": "​",
            "_view_module": "@jupyter-widgets/controls",
            "_model_module_version": "1.5.0",
            "value": "100%",
            "_view_count": null,
            "_view_module_version": "1.5.0",
            "description_tooltip": null,
            "_model_module": "@jupyter-widgets/controls",
            "layout": "IPY_MODEL_75c8e55a03474c95af3797173f95806a"
          }
        },
        "5d080f7d6ca741eea018482d9a91b886": {
          "model_module": "@jupyter-widgets/controls",
          "model_name": "FloatProgressModel",
          "model_module_version": "1.5.0",
          "state": {
            "_view_name": "ProgressView",
            "style": "IPY_MODEL_4b4ad85bd6904b1caf46a053d2c2cb77",
            "_dom_classes": [],
            "description": "",
            "_model_name": "FloatProgressModel",
            "bar_style": "success",
            "max": 20,
            "_view_module": "@jupyter-widgets/controls",
            "_model_module_version": "1.5.0",
            "value": 20,
            "_view_count": null,
            "_view_module_version": "1.5.0",
            "orientation": "horizontal",
            "min": 0,
            "description_tooltip": null,
            "_model_module": "@jupyter-widgets/controls",
            "layout": "IPY_MODEL_1836a458e0644259ab0b36bbd61dc93e"
          }
        },
        "e2b8ca769dcb42f1a423b51cad8103a8": {
          "model_module": "@jupyter-widgets/controls",
          "model_name": "HTMLModel",
          "model_module_version": "1.5.0",
          "state": {
            "_view_name": "HTMLView",
            "style": "IPY_MODEL_33ab419152b94386be587036baa08300",
            "_dom_classes": [],
            "description": "",
            "_model_name": "HTMLModel",
            "placeholder": "​",
            "_view_module": "@jupyter-widgets/controls",
            "_model_module_version": "1.5.0",
            "value": " 20/20 [11:19&lt;00:00, 36.08s/it]",
            "_view_count": null,
            "_view_module_version": "1.5.0",
            "description_tooltip": null,
            "_model_module": "@jupyter-widgets/controls",
            "layout": "IPY_MODEL_9609665304644e97b9a1e32d3b6d2550"
          }
        },
        "117da0a72a7b46c5b733df7aa7a859ec": {
          "model_module": "@jupyter-widgets/controls",
          "model_name": "DescriptionStyleModel",
          "model_module_version": "1.5.0",
          "state": {
            "_view_name": "StyleView",
            "_model_name": "DescriptionStyleModel",
            "description_width": "",
            "_view_module": "@jupyter-widgets/base",
            "_model_module_version": "1.5.0",
            "_view_count": null,
            "_view_module_version": "1.2.0",
            "_model_module": "@jupyter-widgets/controls"
          }
        },
        "75c8e55a03474c95af3797173f95806a": {
          "model_module": "@jupyter-widgets/base",
          "model_name": "LayoutModel",
          "model_module_version": "1.2.0",
          "state": {
            "_view_name": "LayoutView",
            "grid_template_rows": null,
            "right": null,
            "justify_content": null,
            "_view_module": "@jupyter-widgets/base",
            "overflow": null,
            "_model_module_version": "1.2.0",
            "_view_count": null,
            "flex_flow": null,
            "width": null,
            "min_width": null,
            "border": null,
            "align_items": null,
            "bottom": null,
            "_model_module": "@jupyter-widgets/base",
            "top": null,
            "grid_column": null,
            "overflow_y": null,
            "overflow_x": null,
            "grid_auto_flow": null,
            "grid_area": null,
            "grid_template_columns": null,
            "flex": null,
            "_model_name": "LayoutModel",
            "justify_items": null,
            "grid_row": null,
            "max_height": null,
            "align_content": null,
            "visibility": null,
            "align_self": null,
            "height": null,
            "min_height": null,
            "padding": null,
            "grid_auto_rows": null,
            "grid_gap": null,
            "max_width": null,
            "order": null,
            "_view_module_version": "1.2.0",
            "grid_template_areas": null,
            "object_position": null,
            "object_fit": null,
            "grid_auto_columns": null,
            "margin": null,
            "display": null,
            "left": null
          }
        },
        "4b4ad85bd6904b1caf46a053d2c2cb77": {
          "model_module": "@jupyter-widgets/controls",
          "model_name": "ProgressStyleModel",
          "model_module_version": "1.5.0",
          "state": {
            "_view_name": "StyleView",
            "_model_name": "ProgressStyleModel",
            "description_width": "",
            "_view_module": "@jupyter-widgets/base",
            "_model_module_version": "1.5.0",
            "_view_count": null,
            "_view_module_version": "1.2.0",
            "bar_color": null,
            "_model_module": "@jupyter-widgets/controls"
          }
        },
        "1836a458e0644259ab0b36bbd61dc93e": {
          "model_module": "@jupyter-widgets/base",
          "model_name": "LayoutModel",
          "model_module_version": "1.2.0",
          "state": {
            "_view_name": "LayoutView",
            "grid_template_rows": null,
            "right": null,
            "justify_content": null,
            "_view_module": "@jupyter-widgets/base",
            "overflow": null,
            "_model_module_version": "1.2.0",
            "_view_count": null,
            "flex_flow": null,
            "width": null,
            "min_width": null,
            "border": null,
            "align_items": null,
            "bottom": null,
            "_model_module": "@jupyter-widgets/base",
            "top": null,
            "grid_column": null,
            "overflow_y": null,
            "overflow_x": null,
            "grid_auto_flow": null,
            "grid_area": null,
            "grid_template_columns": null,
            "flex": null,
            "_model_name": "LayoutModel",
            "justify_items": null,
            "grid_row": null,
            "max_height": null,
            "align_content": null,
            "visibility": null,
            "align_self": null,
            "height": null,
            "min_height": null,
            "padding": null,
            "grid_auto_rows": null,
            "grid_gap": null,
            "max_width": null,
            "order": null,
            "_view_module_version": "1.2.0",
            "grid_template_areas": null,
            "object_position": null,
            "object_fit": null,
            "grid_auto_columns": null,
            "margin": null,
            "display": null,
            "left": null
          }
        },
        "33ab419152b94386be587036baa08300": {
          "model_module": "@jupyter-widgets/controls",
          "model_name": "DescriptionStyleModel",
          "model_module_version": "1.5.0",
          "state": {
            "_view_name": "StyleView",
            "_model_name": "DescriptionStyleModel",
            "description_width": "",
            "_view_module": "@jupyter-widgets/base",
            "_model_module_version": "1.5.0",
            "_view_count": null,
            "_view_module_version": "1.2.0",
            "_model_module": "@jupyter-widgets/controls"
          }
        },
        "9609665304644e97b9a1e32d3b6d2550": {
          "model_module": "@jupyter-widgets/base",
          "model_name": "LayoutModel",
          "model_module_version": "1.2.0",
          "state": {
            "_view_name": "LayoutView",
            "grid_template_rows": null,
            "right": null,
            "justify_content": null,
            "_view_module": "@jupyter-widgets/base",
            "overflow": null,
            "_model_module_version": "1.2.0",
            "_view_count": null,
            "flex_flow": null,
            "width": null,
            "min_width": null,
            "border": null,
            "align_items": null,
            "bottom": null,
            "_model_module": "@jupyter-widgets/base",
            "top": null,
            "grid_column": null,
            "overflow_y": null,
            "overflow_x": null,
            "grid_auto_flow": null,
            "grid_area": null,
            "grid_template_columns": null,
            "flex": null,
            "_model_name": "LayoutModel",
            "justify_items": null,
            "grid_row": null,
            "max_height": null,
            "align_content": null,
            "visibility": null,
            "align_self": null,
            "height": null,
            "min_height": null,
            "padding": null,
            "grid_auto_rows": null,
            "grid_gap": null,
            "max_width": null,
            "order": null,
            "_view_module_version": "1.2.0",
            "grid_template_areas": null,
            "object_position": null,
            "object_fit": null,
            "grid_auto_columns": null,
            "margin": null,
            "display": null,
            "left": null
          }
        },
        "bcc2c47d71e744fca19a31c9ad734394": {
          "model_module": "@jupyter-widgets/controls",
          "model_name": "HBoxModel",
          "model_module_version": "1.5.0",
          "state": {
            "_view_name": "HBoxView",
            "_dom_classes": [],
            "_model_name": "HBoxModel",
            "_view_module": "@jupyter-widgets/controls",
            "_model_module_version": "1.5.0",
            "_view_count": null,
            "_view_module_version": "1.5.0",
            "box_style": "",
            "layout": "IPY_MODEL_d5381d7f0ca24560af2157b69c373e02",
            "_model_module": "@jupyter-widgets/controls",
            "children": [
              "IPY_MODEL_2eea5482b669417993ba46df295fbfd2",
              "IPY_MODEL_46e3e4accdf74600a219362ca26c65d5",
              "IPY_MODEL_b060fc4df0be4685979195dbc3e4b49e"
            ]
          }
        },
        "d5381d7f0ca24560af2157b69c373e02": {
          "model_module": "@jupyter-widgets/base",
          "model_name": "LayoutModel",
          "model_module_version": "1.2.0",
          "state": {
            "_view_name": "LayoutView",
            "grid_template_rows": null,
            "right": null,
            "justify_content": null,
            "_view_module": "@jupyter-widgets/base",
            "overflow": null,
            "_model_module_version": "1.2.0",
            "_view_count": null,
            "flex_flow": null,
            "width": null,
            "min_width": null,
            "border": null,
            "align_items": null,
            "bottom": null,
            "_model_module": "@jupyter-widgets/base",
            "top": null,
            "grid_column": null,
            "overflow_y": null,
            "overflow_x": null,
            "grid_auto_flow": null,
            "grid_area": null,
            "grid_template_columns": null,
            "flex": null,
            "_model_name": "LayoutModel",
            "justify_items": null,
            "grid_row": null,
            "max_height": null,
            "align_content": null,
            "visibility": null,
            "align_self": null,
            "height": null,
            "min_height": null,
            "padding": null,
            "grid_auto_rows": null,
            "grid_gap": null,
            "max_width": null,
            "order": null,
            "_view_module_version": "1.2.0",
            "grid_template_areas": null,
            "object_position": null,
            "object_fit": null,
            "grid_auto_columns": null,
            "margin": null,
            "display": null,
            "left": null
          }
        },
        "2eea5482b669417993ba46df295fbfd2": {
          "model_module": "@jupyter-widgets/controls",
          "model_name": "HTMLModel",
          "model_module_version": "1.5.0",
          "state": {
            "_view_name": "HTMLView",
            "style": "IPY_MODEL_a83933e4230845e7b2b733cf383967ee",
            "_dom_classes": [],
            "description": "",
            "_model_name": "HTMLModel",
            "placeholder": "​",
            "_view_module": "@jupyter-widgets/controls",
            "_model_module_version": "1.5.0",
            "value": "100%",
            "_view_count": null,
            "_view_module_version": "1.5.0",
            "description_tooltip": null,
            "_model_module": "@jupyter-widgets/controls",
            "layout": "IPY_MODEL_29f0c7dcf4da444eb2fa074b535355c3"
          }
        },
        "46e3e4accdf74600a219362ca26c65d5": {
          "model_module": "@jupyter-widgets/controls",
          "model_name": "FloatProgressModel",
          "model_module_version": "1.5.0",
          "state": {
            "_view_name": "ProgressView",
            "style": "IPY_MODEL_8ade1f5c50aa45d4b6c826c34b62ab8c",
            "_dom_classes": [],
            "description": "",
            "_model_name": "FloatProgressModel",
            "bar_style": "success",
            "max": 9,
            "_view_module": "@jupyter-widgets/controls",
            "_model_module_version": "1.5.0",
            "value": 9,
            "_view_count": null,
            "_view_module_version": "1.5.0",
            "orientation": "horizontal",
            "min": 0,
            "description_tooltip": null,
            "_model_module": "@jupyter-widgets/controls",
            "layout": "IPY_MODEL_af1e581470934dfc86f82e3dc2d16e0c"
          }
        },
        "b060fc4df0be4685979195dbc3e4b49e": {
          "model_module": "@jupyter-widgets/controls",
          "model_name": "HTMLModel",
          "model_module_version": "1.5.0",
          "state": {
            "_view_name": "HTMLView",
            "style": "IPY_MODEL_bb4fdc02129d485593aaf1d9fc6c33e8",
            "_dom_classes": [],
            "description": "",
            "_model_name": "HTMLModel",
            "placeholder": "​",
            "_view_module": "@jupyter-widgets/controls",
            "_model_module_version": "1.5.0",
            "value": " 9/9 [03:20&lt;00:00, 24.13s/it]",
            "_view_count": null,
            "_view_module_version": "1.5.0",
            "description_tooltip": null,
            "_model_module": "@jupyter-widgets/controls",
            "layout": "IPY_MODEL_31fad79355de433fab48c3f9d55c87fd"
          }
        },
        "a83933e4230845e7b2b733cf383967ee": {
          "model_module": "@jupyter-widgets/controls",
          "model_name": "DescriptionStyleModel",
          "model_module_version": "1.5.0",
          "state": {
            "_view_name": "StyleView",
            "_model_name": "DescriptionStyleModel",
            "description_width": "",
            "_view_module": "@jupyter-widgets/base",
            "_model_module_version": "1.5.0",
            "_view_count": null,
            "_view_module_version": "1.2.0",
            "_model_module": "@jupyter-widgets/controls"
          }
        },
        "29f0c7dcf4da444eb2fa074b535355c3": {
          "model_module": "@jupyter-widgets/base",
          "model_name": "LayoutModel",
          "model_module_version": "1.2.0",
          "state": {
            "_view_name": "LayoutView",
            "grid_template_rows": null,
            "right": null,
            "justify_content": null,
            "_view_module": "@jupyter-widgets/base",
            "overflow": null,
            "_model_module_version": "1.2.0",
            "_view_count": null,
            "flex_flow": null,
            "width": null,
            "min_width": null,
            "border": null,
            "align_items": null,
            "bottom": null,
            "_model_module": "@jupyter-widgets/base",
            "top": null,
            "grid_column": null,
            "overflow_y": null,
            "overflow_x": null,
            "grid_auto_flow": null,
            "grid_area": null,
            "grid_template_columns": null,
            "flex": null,
            "_model_name": "LayoutModel",
            "justify_items": null,
            "grid_row": null,
            "max_height": null,
            "align_content": null,
            "visibility": null,
            "align_self": null,
            "height": null,
            "min_height": null,
            "padding": null,
            "grid_auto_rows": null,
            "grid_gap": null,
            "max_width": null,
            "order": null,
            "_view_module_version": "1.2.0",
            "grid_template_areas": null,
            "object_position": null,
            "object_fit": null,
            "grid_auto_columns": null,
            "margin": null,
            "display": null,
            "left": null
          }
        },
        "8ade1f5c50aa45d4b6c826c34b62ab8c": {
          "model_module": "@jupyter-widgets/controls",
          "model_name": "ProgressStyleModel",
          "model_module_version": "1.5.0",
          "state": {
            "_view_name": "StyleView",
            "_model_name": "ProgressStyleModel",
            "description_width": "",
            "_view_module": "@jupyter-widgets/base",
            "_model_module_version": "1.5.0",
            "_view_count": null,
            "_view_module_version": "1.2.0",
            "bar_color": null,
            "_model_module": "@jupyter-widgets/controls"
          }
        },
        "af1e581470934dfc86f82e3dc2d16e0c": {
          "model_module": "@jupyter-widgets/base",
          "model_name": "LayoutModel",
          "model_module_version": "1.2.0",
          "state": {
            "_view_name": "LayoutView",
            "grid_template_rows": null,
            "right": null,
            "justify_content": null,
            "_view_module": "@jupyter-widgets/base",
            "overflow": null,
            "_model_module_version": "1.2.0",
            "_view_count": null,
            "flex_flow": null,
            "width": null,
            "min_width": null,
            "border": null,
            "align_items": null,
            "bottom": null,
            "_model_module": "@jupyter-widgets/base",
            "top": null,
            "grid_column": null,
            "overflow_y": null,
            "overflow_x": null,
            "grid_auto_flow": null,
            "grid_area": null,
            "grid_template_columns": null,
            "flex": null,
            "_model_name": "LayoutModel",
            "justify_items": null,
            "grid_row": null,
            "max_height": null,
            "align_content": null,
            "visibility": null,
            "align_self": null,
            "height": null,
            "min_height": null,
            "padding": null,
            "grid_auto_rows": null,
            "grid_gap": null,
            "max_width": null,
            "order": null,
            "_view_module_version": "1.2.0",
            "grid_template_areas": null,
            "object_position": null,
            "object_fit": null,
            "grid_auto_columns": null,
            "margin": null,
            "display": null,
            "left": null
          }
        },
        "bb4fdc02129d485593aaf1d9fc6c33e8": {
          "model_module": "@jupyter-widgets/controls",
          "model_name": "DescriptionStyleModel",
          "model_module_version": "1.5.0",
          "state": {
            "_view_name": "StyleView",
            "_model_name": "DescriptionStyleModel",
            "description_width": "",
            "_view_module": "@jupyter-widgets/base",
            "_model_module_version": "1.5.0",
            "_view_count": null,
            "_view_module_version": "1.2.0",
            "_model_module": "@jupyter-widgets/controls"
          }
        },
        "31fad79355de433fab48c3f9d55c87fd": {
          "model_module": "@jupyter-widgets/base",
          "model_name": "LayoutModel",
          "model_module_version": "1.2.0",
          "state": {
            "_view_name": "LayoutView",
            "grid_template_rows": null,
            "right": null,
            "justify_content": null,
            "_view_module": "@jupyter-widgets/base",
            "overflow": null,
            "_model_module_version": "1.2.0",
            "_view_count": null,
            "flex_flow": null,
            "width": null,
            "min_width": null,
            "border": null,
            "align_items": null,
            "bottom": null,
            "_model_module": "@jupyter-widgets/base",
            "top": null,
            "grid_column": null,
            "overflow_y": null,
            "overflow_x": null,
            "grid_auto_flow": null,
            "grid_area": null,
            "grid_template_columns": null,
            "flex": null,
            "_model_name": "LayoutModel",
            "justify_items": null,
            "grid_row": null,
            "max_height": null,
            "align_content": null,
            "visibility": null,
            "align_self": null,
            "height": null,
            "min_height": null,
            "padding": null,
            "grid_auto_rows": null,
            "grid_gap": null,
            "max_width": null,
            "order": null,
            "_view_module_version": "1.2.0",
            "grid_template_areas": null,
            "object_position": null,
            "object_fit": null,
            "grid_auto_columns": null,
            "margin": null,
            "display": null,
            "left": null
          }
        },
        "4aaece04aa4940079e7bd4408ee35705": {
          "model_module": "@jupyter-widgets/controls",
          "model_name": "HBoxModel",
          "model_module_version": "1.5.0",
          "state": {
            "_view_name": "HBoxView",
            "_dom_classes": [],
            "_model_name": "HBoxModel",
            "_view_module": "@jupyter-widgets/controls",
            "_model_module_version": "1.5.0",
            "_view_count": null,
            "_view_module_version": "1.5.0",
            "box_style": "",
            "layout": "IPY_MODEL_1c4cc25575ac457386eef2b2f0e7317d",
            "_model_module": "@jupyter-widgets/controls",
            "children": [
              "IPY_MODEL_09f26d3008d64c57a67d09cfc5160807",
              "IPY_MODEL_b5e538653bd94db19d877314b711d219",
              "IPY_MODEL_8883ebf786f343e592c3d3b3de5a7040"
            ]
          }
        },
        "1c4cc25575ac457386eef2b2f0e7317d": {
          "model_module": "@jupyter-widgets/base",
          "model_name": "LayoutModel",
          "model_module_version": "1.2.0",
          "state": {
            "_view_name": "LayoutView",
            "grid_template_rows": null,
            "right": null,
            "justify_content": null,
            "_view_module": "@jupyter-widgets/base",
            "overflow": null,
            "_model_module_version": "1.2.0",
            "_view_count": null,
            "flex_flow": null,
            "width": null,
            "min_width": null,
            "border": null,
            "align_items": null,
            "bottom": null,
            "_model_module": "@jupyter-widgets/base",
            "top": null,
            "grid_column": null,
            "overflow_y": null,
            "overflow_x": null,
            "grid_auto_flow": null,
            "grid_area": null,
            "grid_template_columns": null,
            "flex": null,
            "_model_name": "LayoutModel",
            "justify_items": null,
            "grid_row": null,
            "max_height": null,
            "align_content": null,
            "visibility": null,
            "align_self": null,
            "height": null,
            "min_height": null,
            "padding": null,
            "grid_auto_rows": null,
            "grid_gap": null,
            "max_width": null,
            "order": null,
            "_view_module_version": "1.2.0",
            "grid_template_areas": null,
            "object_position": null,
            "object_fit": null,
            "grid_auto_columns": null,
            "margin": null,
            "display": null,
            "left": null
          }
        },
        "09f26d3008d64c57a67d09cfc5160807": {
          "model_module": "@jupyter-widgets/controls",
          "model_name": "HTMLModel",
          "model_module_version": "1.5.0",
          "state": {
            "_view_name": "HTMLView",
            "style": "IPY_MODEL_4279ad28782b446dae760bdf504ac617",
            "_dom_classes": [],
            "description": "",
            "_model_name": "HTMLModel",
            "placeholder": "​",
            "_view_module": "@jupyter-widgets/controls",
            "_model_module_version": "1.5.0",
            "value": "100%",
            "_view_count": null,
            "_view_module_version": "1.5.0",
            "description_tooltip": null,
            "_model_module": "@jupyter-widgets/controls",
            "layout": "IPY_MODEL_9bb4900bb2d5412293720c559c0bb418"
          }
        },
        "b5e538653bd94db19d877314b711d219": {
          "model_module": "@jupyter-widgets/controls",
          "model_name": "FloatProgressModel",
          "model_module_version": "1.5.0",
          "state": {
            "_view_name": "ProgressView",
            "style": "IPY_MODEL_9d9d3b6ebbea475f832f0257c90d6e0d",
            "_dom_classes": [],
            "description": "",
            "_model_name": "FloatProgressModel",
            "bar_style": "success",
            "max": 20,
            "_view_module": "@jupyter-widgets/controls",
            "_model_module_version": "1.5.0",
            "value": 20,
            "_view_count": null,
            "_view_module_version": "1.5.0",
            "orientation": "horizontal",
            "min": 0,
            "description_tooltip": null,
            "_model_module": "@jupyter-widgets/controls",
            "layout": "IPY_MODEL_13d7d9073b194bf187fe584bc3d3d08d"
          }
        },
        "8883ebf786f343e592c3d3b3de5a7040": {
          "model_module": "@jupyter-widgets/controls",
          "model_name": "HTMLModel",
          "model_module_version": "1.5.0",
          "state": {
            "_view_name": "HTMLView",
            "style": "IPY_MODEL_bd788a045e9a430d8fb24f4a0a94f8f9",
            "_dom_classes": [],
            "description": "",
            "_model_name": "HTMLModel",
            "placeholder": "​",
            "_view_module": "@jupyter-widgets/controls",
            "_model_module_version": "1.5.0",
            "value": " 20/20 [00:22&lt;00:00,  1.12it/s]",
            "_view_count": null,
            "_view_module_version": "1.5.0",
            "description_tooltip": null,
            "_model_module": "@jupyter-widgets/controls",
            "layout": "IPY_MODEL_12e31d97ba60497ea8a5f942e14a34f6"
          }
        },
        "4279ad28782b446dae760bdf504ac617": {
          "model_module": "@jupyter-widgets/controls",
          "model_name": "DescriptionStyleModel",
          "model_module_version": "1.5.0",
          "state": {
            "_view_name": "StyleView",
            "_model_name": "DescriptionStyleModel",
            "description_width": "",
            "_view_module": "@jupyter-widgets/base",
            "_model_module_version": "1.5.0",
            "_view_count": null,
            "_view_module_version": "1.2.0",
            "_model_module": "@jupyter-widgets/controls"
          }
        },
        "9bb4900bb2d5412293720c559c0bb418": {
          "model_module": "@jupyter-widgets/base",
          "model_name": "LayoutModel",
          "model_module_version": "1.2.0",
          "state": {
            "_view_name": "LayoutView",
            "grid_template_rows": null,
            "right": null,
            "justify_content": null,
            "_view_module": "@jupyter-widgets/base",
            "overflow": null,
            "_model_module_version": "1.2.0",
            "_view_count": null,
            "flex_flow": null,
            "width": null,
            "min_width": null,
            "border": null,
            "align_items": null,
            "bottom": null,
            "_model_module": "@jupyter-widgets/base",
            "top": null,
            "grid_column": null,
            "overflow_y": null,
            "overflow_x": null,
            "grid_auto_flow": null,
            "grid_area": null,
            "grid_template_columns": null,
            "flex": null,
            "_model_name": "LayoutModel",
            "justify_items": null,
            "grid_row": null,
            "max_height": null,
            "align_content": null,
            "visibility": null,
            "align_self": null,
            "height": null,
            "min_height": null,
            "padding": null,
            "grid_auto_rows": null,
            "grid_gap": null,
            "max_width": null,
            "order": null,
            "_view_module_version": "1.2.0",
            "grid_template_areas": null,
            "object_position": null,
            "object_fit": null,
            "grid_auto_columns": null,
            "margin": null,
            "display": null,
            "left": null
          }
        },
        "9d9d3b6ebbea475f832f0257c90d6e0d": {
          "model_module": "@jupyter-widgets/controls",
          "model_name": "ProgressStyleModel",
          "model_module_version": "1.5.0",
          "state": {
            "_view_name": "StyleView",
            "_model_name": "ProgressStyleModel",
            "description_width": "",
            "_view_module": "@jupyter-widgets/base",
            "_model_module_version": "1.5.0",
            "_view_count": null,
            "_view_module_version": "1.2.0",
            "bar_color": null,
            "_model_module": "@jupyter-widgets/controls"
          }
        },
        "13d7d9073b194bf187fe584bc3d3d08d": {
          "model_module": "@jupyter-widgets/base",
          "model_name": "LayoutModel",
          "model_module_version": "1.2.0",
          "state": {
            "_view_name": "LayoutView",
            "grid_template_rows": null,
            "right": null,
            "justify_content": null,
            "_view_module": "@jupyter-widgets/base",
            "overflow": null,
            "_model_module_version": "1.2.0",
            "_view_count": null,
            "flex_flow": null,
            "width": null,
            "min_width": null,
            "border": null,
            "align_items": null,
            "bottom": null,
            "_model_module": "@jupyter-widgets/base",
            "top": null,
            "grid_column": null,
            "overflow_y": null,
            "overflow_x": null,
            "grid_auto_flow": null,
            "grid_area": null,
            "grid_template_columns": null,
            "flex": null,
            "_model_name": "LayoutModel",
            "justify_items": null,
            "grid_row": null,
            "max_height": null,
            "align_content": null,
            "visibility": null,
            "align_self": null,
            "height": null,
            "min_height": null,
            "padding": null,
            "grid_auto_rows": null,
            "grid_gap": null,
            "max_width": null,
            "order": null,
            "_view_module_version": "1.2.0",
            "grid_template_areas": null,
            "object_position": null,
            "object_fit": null,
            "grid_auto_columns": null,
            "margin": null,
            "display": null,
            "left": null
          }
        },
        "bd788a045e9a430d8fb24f4a0a94f8f9": {
          "model_module": "@jupyter-widgets/controls",
          "model_name": "DescriptionStyleModel",
          "model_module_version": "1.5.0",
          "state": {
            "_view_name": "StyleView",
            "_model_name": "DescriptionStyleModel",
            "description_width": "",
            "_view_module": "@jupyter-widgets/base",
            "_model_module_version": "1.5.0",
            "_view_count": null,
            "_view_module_version": "1.2.0",
            "_model_module": "@jupyter-widgets/controls"
          }
        },
        "12e31d97ba60497ea8a5f942e14a34f6": {
          "model_module": "@jupyter-widgets/base",
          "model_name": "LayoutModel",
          "model_module_version": "1.2.0",
          "state": {
            "_view_name": "LayoutView",
            "grid_template_rows": null,
            "right": null,
            "justify_content": null,
            "_view_module": "@jupyter-widgets/base",
            "overflow": null,
            "_model_module_version": "1.2.0",
            "_view_count": null,
            "flex_flow": null,
            "width": null,
            "min_width": null,
            "border": null,
            "align_items": null,
            "bottom": null,
            "_model_module": "@jupyter-widgets/base",
            "top": null,
            "grid_column": null,
            "overflow_y": null,
            "overflow_x": null,
            "grid_auto_flow": null,
            "grid_area": null,
            "grid_template_columns": null,
            "flex": null,
            "_model_name": "LayoutModel",
            "justify_items": null,
            "grid_row": null,
            "max_height": null,
            "align_content": null,
            "visibility": null,
            "align_self": null,
            "height": null,
            "min_height": null,
            "padding": null,
            "grid_auto_rows": null,
            "grid_gap": null,
            "max_width": null,
            "order": null,
            "_view_module_version": "1.2.0",
            "grid_template_areas": null,
            "object_position": null,
            "object_fit": null,
            "grid_auto_columns": null,
            "margin": null,
            "display": null,
            "left": null
          }
        },
        "41f2a9f292dd4421b45a428e965f326d": {
          "model_module": "@jupyter-widgets/controls",
          "model_name": "HBoxModel",
          "model_module_version": "1.5.0",
          "state": {
            "_view_name": "HBoxView",
            "_dom_classes": [],
            "_model_name": "HBoxModel",
            "_view_module": "@jupyter-widgets/controls",
            "_model_module_version": "1.5.0",
            "_view_count": null,
            "_view_module_version": "1.5.0",
            "box_style": "",
            "layout": "IPY_MODEL_077c268915114cc79f281086b5d3c23e",
            "_model_module": "@jupyter-widgets/controls",
            "children": [
              "IPY_MODEL_b0fa7add21cc44a0aff0db18bbbee775",
              "IPY_MODEL_422302d103df42e683513f2d6c064f0d",
              "IPY_MODEL_5f948f8b3ab74fbe94566858a21da287"
            ]
          }
        },
        "077c268915114cc79f281086b5d3c23e": {
          "model_module": "@jupyter-widgets/base",
          "model_name": "LayoutModel",
          "model_module_version": "1.2.0",
          "state": {
            "_view_name": "LayoutView",
            "grid_template_rows": null,
            "right": null,
            "justify_content": null,
            "_view_module": "@jupyter-widgets/base",
            "overflow": null,
            "_model_module_version": "1.2.0",
            "_view_count": null,
            "flex_flow": null,
            "width": null,
            "min_width": null,
            "border": null,
            "align_items": null,
            "bottom": null,
            "_model_module": "@jupyter-widgets/base",
            "top": null,
            "grid_column": null,
            "overflow_y": null,
            "overflow_x": null,
            "grid_auto_flow": null,
            "grid_area": null,
            "grid_template_columns": null,
            "flex": null,
            "_model_name": "LayoutModel",
            "justify_items": null,
            "grid_row": null,
            "max_height": null,
            "align_content": null,
            "visibility": null,
            "align_self": null,
            "height": null,
            "min_height": null,
            "padding": null,
            "grid_auto_rows": null,
            "grid_gap": null,
            "max_width": null,
            "order": null,
            "_view_module_version": "1.2.0",
            "grid_template_areas": null,
            "object_position": null,
            "object_fit": null,
            "grid_auto_columns": null,
            "margin": null,
            "display": null,
            "left": null
          }
        },
        "b0fa7add21cc44a0aff0db18bbbee775": {
          "model_module": "@jupyter-widgets/controls",
          "model_name": "HTMLModel",
          "model_module_version": "1.5.0",
          "state": {
            "_view_name": "HTMLView",
            "style": "IPY_MODEL_43e2761672ef438d92ecce1071a79207",
            "_dom_classes": [],
            "description": "",
            "_model_name": "HTMLModel",
            "placeholder": "​",
            "_view_module": "@jupyter-widgets/controls",
            "_model_module_version": "1.5.0",
            "value": "100%",
            "_view_count": null,
            "_view_module_version": "1.5.0",
            "description_tooltip": null,
            "_model_module": "@jupyter-widgets/controls",
            "layout": "IPY_MODEL_38f1708339794b4c831c4cd29796aca6"
          }
        },
        "422302d103df42e683513f2d6c064f0d": {
          "model_module": "@jupyter-widgets/controls",
          "model_name": "FloatProgressModel",
          "model_module_version": "1.5.0",
          "state": {
            "_view_name": "ProgressView",
            "style": "IPY_MODEL_dae9ad5e1a734ca39ffd156ef7aa201c",
            "_dom_classes": [],
            "description": "",
            "_model_name": "FloatProgressModel",
            "bar_style": "success",
            "max": 20,
            "_view_module": "@jupyter-widgets/controls",
            "_model_module_version": "1.5.0",
            "value": 20,
            "_view_count": null,
            "_view_module_version": "1.5.0",
            "orientation": "horizontal",
            "min": 0,
            "description_tooltip": null,
            "_model_module": "@jupyter-widgets/controls",
            "layout": "IPY_MODEL_3352d46190c04c1e8b79e0af3ecbfefe"
          }
        },
        "5f948f8b3ab74fbe94566858a21da287": {
          "model_module": "@jupyter-widgets/controls",
          "model_name": "HTMLModel",
          "model_module_version": "1.5.0",
          "state": {
            "_view_name": "HTMLView",
            "style": "IPY_MODEL_075208d935194f0c9027406f503be570",
            "_dom_classes": [],
            "description": "",
            "_model_name": "HTMLModel",
            "placeholder": "​",
            "_view_module": "@jupyter-widgets/controls",
            "_model_module_version": "1.5.0",
            "value": " 20/20 [00:22&lt;00:00,  1.09s/it]",
            "_view_count": null,
            "_view_module_version": "1.5.0",
            "description_tooltip": null,
            "_model_module": "@jupyter-widgets/controls",
            "layout": "IPY_MODEL_67194084f8c646938ca3f4ecc282e98b"
          }
        },
        "43e2761672ef438d92ecce1071a79207": {
          "model_module": "@jupyter-widgets/controls",
          "model_name": "DescriptionStyleModel",
          "model_module_version": "1.5.0",
          "state": {
            "_view_name": "StyleView",
            "_model_name": "DescriptionStyleModel",
            "description_width": "",
            "_view_module": "@jupyter-widgets/base",
            "_model_module_version": "1.5.0",
            "_view_count": null,
            "_view_module_version": "1.2.0",
            "_model_module": "@jupyter-widgets/controls"
          }
        },
        "38f1708339794b4c831c4cd29796aca6": {
          "model_module": "@jupyter-widgets/base",
          "model_name": "LayoutModel",
          "model_module_version": "1.2.0",
          "state": {
            "_view_name": "LayoutView",
            "grid_template_rows": null,
            "right": null,
            "justify_content": null,
            "_view_module": "@jupyter-widgets/base",
            "overflow": null,
            "_model_module_version": "1.2.0",
            "_view_count": null,
            "flex_flow": null,
            "width": null,
            "min_width": null,
            "border": null,
            "align_items": null,
            "bottom": null,
            "_model_module": "@jupyter-widgets/base",
            "top": null,
            "grid_column": null,
            "overflow_y": null,
            "overflow_x": null,
            "grid_auto_flow": null,
            "grid_area": null,
            "grid_template_columns": null,
            "flex": null,
            "_model_name": "LayoutModel",
            "justify_items": null,
            "grid_row": null,
            "max_height": null,
            "align_content": null,
            "visibility": null,
            "align_self": null,
            "height": null,
            "min_height": null,
            "padding": null,
            "grid_auto_rows": null,
            "grid_gap": null,
            "max_width": null,
            "order": null,
            "_view_module_version": "1.2.0",
            "grid_template_areas": null,
            "object_position": null,
            "object_fit": null,
            "grid_auto_columns": null,
            "margin": null,
            "display": null,
            "left": null
          }
        },
        "dae9ad5e1a734ca39ffd156ef7aa201c": {
          "model_module": "@jupyter-widgets/controls",
          "model_name": "ProgressStyleModel",
          "model_module_version": "1.5.0",
          "state": {
            "_view_name": "StyleView",
            "_model_name": "ProgressStyleModel",
            "description_width": "",
            "_view_module": "@jupyter-widgets/base",
            "_model_module_version": "1.5.0",
            "_view_count": null,
            "_view_module_version": "1.2.0",
            "bar_color": null,
            "_model_module": "@jupyter-widgets/controls"
          }
        },
        "3352d46190c04c1e8b79e0af3ecbfefe": {
          "model_module": "@jupyter-widgets/base",
          "model_name": "LayoutModel",
          "model_module_version": "1.2.0",
          "state": {
            "_view_name": "LayoutView",
            "grid_template_rows": null,
            "right": null,
            "justify_content": null,
            "_view_module": "@jupyter-widgets/base",
            "overflow": null,
            "_model_module_version": "1.2.0",
            "_view_count": null,
            "flex_flow": null,
            "width": null,
            "min_width": null,
            "border": null,
            "align_items": null,
            "bottom": null,
            "_model_module": "@jupyter-widgets/base",
            "top": null,
            "grid_column": null,
            "overflow_y": null,
            "overflow_x": null,
            "grid_auto_flow": null,
            "grid_area": null,
            "grid_template_columns": null,
            "flex": null,
            "_model_name": "LayoutModel",
            "justify_items": null,
            "grid_row": null,
            "max_height": null,
            "align_content": null,
            "visibility": null,
            "align_self": null,
            "height": null,
            "min_height": null,
            "padding": null,
            "grid_auto_rows": null,
            "grid_gap": null,
            "max_width": null,
            "order": null,
            "_view_module_version": "1.2.0",
            "grid_template_areas": null,
            "object_position": null,
            "object_fit": null,
            "grid_auto_columns": null,
            "margin": null,
            "display": null,
            "left": null
          }
        },
        "075208d935194f0c9027406f503be570": {
          "model_module": "@jupyter-widgets/controls",
          "model_name": "DescriptionStyleModel",
          "model_module_version": "1.5.0",
          "state": {
            "_view_name": "StyleView",
            "_model_name": "DescriptionStyleModel",
            "description_width": "",
            "_view_module": "@jupyter-widgets/base",
            "_model_module_version": "1.5.0",
            "_view_count": null,
            "_view_module_version": "1.2.0",
            "_model_module": "@jupyter-widgets/controls"
          }
        },
        "67194084f8c646938ca3f4ecc282e98b": {
          "model_module": "@jupyter-widgets/base",
          "model_name": "LayoutModel",
          "model_module_version": "1.2.0",
          "state": {
            "_view_name": "LayoutView",
            "grid_template_rows": null,
            "right": null,
            "justify_content": null,
            "_view_module": "@jupyter-widgets/base",
            "overflow": null,
            "_model_module_version": "1.2.0",
            "_view_count": null,
            "flex_flow": null,
            "width": null,
            "min_width": null,
            "border": null,
            "align_items": null,
            "bottom": null,
            "_model_module": "@jupyter-widgets/base",
            "top": null,
            "grid_column": null,
            "overflow_y": null,
            "overflow_x": null,
            "grid_auto_flow": null,
            "grid_area": null,
            "grid_template_columns": null,
            "flex": null,
            "_model_name": "LayoutModel",
            "justify_items": null,
            "grid_row": null,
            "max_height": null,
            "align_content": null,
            "visibility": null,
            "align_self": null,
            "height": null,
            "min_height": null,
            "padding": null,
            "grid_auto_rows": null,
            "grid_gap": null,
            "max_width": null,
            "order": null,
            "_view_module_version": "1.2.0",
            "grid_template_areas": null,
            "object_position": null,
            "object_fit": null,
            "grid_auto_columns": null,
            "margin": null,
            "display": null,
            "left": null
          }
        },
        "f81c30e611e246a4a1b76113d3dea086": {
          "model_module": "@jupyter-widgets/controls",
          "model_name": "HBoxModel",
          "model_module_version": "1.5.0",
          "state": {
            "_view_name": "HBoxView",
            "_dom_classes": [],
            "_model_name": "HBoxModel",
            "_view_module": "@jupyter-widgets/controls",
            "_model_module_version": "1.5.0",
            "_view_count": null,
            "_view_module_version": "1.5.0",
            "box_style": "",
            "layout": "IPY_MODEL_8c368fca0b4f47cd9bbdf68fa851065d",
            "_model_module": "@jupyter-widgets/controls",
            "children": [
              "IPY_MODEL_38f938f39b5e40cbaaca3d1e75d93b49",
              "IPY_MODEL_9611826e5e9c4b9eab81455de73e66ba",
              "IPY_MODEL_0e040b07fdcc489b8449deb393642a53"
            ]
          }
        },
        "8c368fca0b4f47cd9bbdf68fa851065d": {
          "model_module": "@jupyter-widgets/base",
          "model_name": "LayoutModel",
          "model_module_version": "1.2.0",
          "state": {
            "_view_name": "LayoutView",
            "grid_template_rows": null,
            "right": null,
            "justify_content": null,
            "_view_module": "@jupyter-widgets/base",
            "overflow": null,
            "_model_module_version": "1.2.0",
            "_view_count": null,
            "flex_flow": null,
            "width": null,
            "min_width": null,
            "border": null,
            "align_items": null,
            "bottom": null,
            "_model_module": "@jupyter-widgets/base",
            "top": null,
            "grid_column": null,
            "overflow_y": null,
            "overflow_x": null,
            "grid_auto_flow": null,
            "grid_area": null,
            "grid_template_columns": null,
            "flex": null,
            "_model_name": "LayoutModel",
            "justify_items": null,
            "grid_row": null,
            "max_height": null,
            "align_content": null,
            "visibility": null,
            "align_self": null,
            "height": null,
            "min_height": null,
            "padding": null,
            "grid_auto_rows": null,
            "grid_gap": null,
            "max_width": null,
            "order": null,
            "_view_module_version": "1.2.0",
            "grid_template_areas": null,
            "object_position": null,
            "object_fit": null,
            "grid_auto_columns": null,
            "margin": null,
            "display": null,
            "left": null
          }
        },
        "38f938f39b5e40cbaaca3d1e75d93b49": {
          "model_module": "@jupyter-widgets/controls",
          "model_name": "HTMLModel",
          "model_module_version": "1.5.0",
          "state": {
            "_view_name": "HTMLView",
            "style": "IPY_MODEL_9ccb4b7aacf14cceab112e6071d5e5f2",
            "_dom_classes": [],
            "description": "",
            "_model_name": "HTMLModel",
            "placeholder": "​",
            "_view_module": "@jupyter-widgets/controls",
            "_model_module_version": "1.5.0",
            "value": "100%",
            "_view_count": null,
            "_view_module_version": "1.5.0",
            "description_tooltip": null,
            "_model_module": "@jupyter-widgets/controls",
            "layout": "IPY_MODEL_6bf4611611b341c594b9cce4fede1149"
          }
        },
        "9611826e5e9c4b9eab81455de73e66ba": {
          "model_module": "@jupyter-widgets/controls",
          "model_name": "FloatProgressModel",
          "model_module_version": "1.5.0",
          "state": {
            "_view_name": "ProgressView",
            "style": "IPY_MODEL_8ea6e78f3ab1446d9a28d9d211d5cc88",
            "_dom_classes": [],
            "description": "",
            "_model_name": "FloatProgressModel",
            "bar_style": "success",
            "max": 20,
            "_view_module": "@jupyter-widgets/controls",
            "_model_module_version": "1.5.0",
            "value": 20,
            "_view_count": null,
            "_view_module_version": "1.5.0",
            "orientation": "horizontal",
            "min": 0,
            "description_tooltip": null,
            "_model_module": "@jupyter-widgets/controls",
            "layout": "IPY_MODEL_2aacb7cbb25e463e8e076885c2fdc737"
          }
        },
        "0e040b07fdcc489b8449deb393642a53": {
          "model_module": "@jupyter-widgets/controls",
          "model_name": "HTMLModel",
          "model_module_version": "1.5.0",
          "state": {
            "_view_name": "HTMLView",
            "style": "IPY_MODEL_6de135458de74dab903c1327c72ef549",
            "_dom_classes": [],
            "description": "",
            "_model_name": "HTMLModel",
            "placeholder": "​",
            "_view_module": "@jupyter-widgets/controls",
            "_model_module_version": "1.5.0",
            "value": " 20/20 [00:25&lt;00:00,  1.02it/s]",
            "_view_count": null,
            "_view_module_version": "1.5.0",
            "description_tooltip": null,
            "_model_module": "@jupyter-widgets/controls",
            "layout": "IPY_MODEL_4b7b186afa67462b93ac457310d3fa8f"
          }
        },
        "9ccb4b7aacf14cceab112e6071d5e5f2": {
          "model_module": "@jupyter-widgets/controls",
          "model_name": "DescriptionStyleModel",
          "model_module_version": "1.5.0",
          "state": {
            "_view_name": "StyleView",
            "_model_name": "DescriptionStyleModel",
            "description_width": "",
            "_view_module": "@jupyter-widgets/base",
            "_model_module_version": "1.5.0",
            "_view_count": null,
            "_view_module_version": "1.2.0",
            "_model_module": "@jupyter-widgets/controls"
          }
        },
        "6bf4611611b341c594b9cce4fede1149": {
          "model_module": "@jupyter-widgets/base",
          "model_name": "LayoutModel",
          "model_module_version": "1.2.0",
          "state": {
            "_view_name": "LayoutView",
            "grid_template_rows": null,
            "right": null,
            "justify_content": null,
            "_view_module": "@jupyter-widgets/base",
            "overflow": null,
            "_model_module_version": "1.2.0",
            "_view_count": null,
            "flex_flow": null,
            "width": null,
            "min_width": null,
            "border": null,
            "align_items": null,
            "bottom": null,
            "_model_module": "@jupyter-widgets/base",
            "top": null,
            "grid_column": null,
            "overflow_y": null,
            "overflow_x": null,
            "grid_auto_flow": null,
            "grid_area": null,
            "grid_template_columns": null,
            "flex": null,
            "_model_name": "LayoutModel",
            "justify_items": null,
            "grid_row": null,
            "max_height": null,
            "align_content": null,
            "visibility": null,
            "align_self": null,
            "height": null,
            "min_height": null,
            "padding": null,
            "grid_auto_rows": null,
            "grid_gap": null,
            "max_width": null,
            "order": null,
            "_view_module_version": "1.2.0",
            "grid_template_areas": null,
            "object_position": null,
            "object_fit": null,
            "grid_auto_columns": null,
            "margin": null,
            "display": null,
            "left": null
          }
        },
        "8ea6e78f3ab1446d9a28d9d211d5cc88": {
          "model_module": "@jupyter-widgets/controls",
          "model_name": "ProgressStyleModel",
          "model_module_version": "1.5.0",
          "state": {
            "_view_name": "StyleView",
            "_model_name": "ProgressStyleModel",
            "description_width": "",
            "_view_module": "@jupyter-widgets/base",
            "_model_module_version": "1.5.0",
            "_view_count": null,
            "_view_module_version": "1.2.0",
            "bar_color": null,
            "_model_module": "@jupyter-widgets/controls"
          }
        },
        "2aacb7cbb25e463e8e076885c2fdc737": {
          "model_module": "@jupyter-widgets/base",
          "model_name": "LayoutModel",
          "model_module_version": "1.2.0",
          "state": {
            "_view_name": "LayoutView",
            "grid_template_rows": null,
            "right": null,
            "justify_content": null,
            "_view_module": "@jupyter-widgets/base",
            "overflow": null,
            "_model_module_version": "1.2.0",
            "_view_count": null,
            "flex_flow": null,
            "width": null,
            "min_width": null,
            "border": null,
            "align_items": null,
            "bottom": null,
            "_model_module": "@jupyter-widgets/base",
            "top": null,
            "grid_column": null,
            "overflow_y": null,
            "overflow_x": null,
            "grid_auto_flow": null,
            "grid_area": null,
            "grid_template_columns": null,
            "flex": null,
            "_model_name": "LayoutModel",
            "justify_items": null,
            "grid_row": null,
            "max_height": null,
            "align_content": null,
            "visibility": null,
            "align_self": null,
            "height": null,
            "min_height": null,
            "padding": null,
            "grid_auto_rows": null,
            "grid_gap": null,
            "max_width": null,
            "order": null,
            "_view_module_version": "1.2.0",
            "grid_template_areas": null,
            "object_position": null,
            "object_fit": null,
            "grid_auto_columns": null,
            "margin": null,
            "display": null,
            "left": null
          }
        },
        "6de135458de74dab903c1327c72ef549": {
          "model_module": "@jupyter-widgets/controls",
          "model_name": "DescriptionStyleModel",
          "model_module_version": "1.5.0",
          "state": {
            "_view_name": "StyleView",
            "_model_name": "DescriptionStyleModel",
            "description_width": "",
            "_view_module": "@jupyter-widgets/base",
            "_model_module_version": "1.5.0",
            "_view_count": null,
            "_view_module_version": "1.2.0",
            "_model_module": "@jupyter-widgets/controls"
          }
        },
        "4b7b186afa67462b93ac457310d3fa8f": {
          "model_module": "@jupyter-widgets/base",
          "model_name": "LayoutModel",
          "model_module_version": "1.2.0",
          "state": {
            "_view_name": "LayoutView",
            "grid_template_rows": null,
            "right": null,
            "justify_content": null,
            "_view_module": "@jupyter-widgets/base",
            "overflow": null,
            "_model_module_version": "1.2.0",
            "_view_count": null,
            "flex_flow": null,
            "width": null,
            "min_width": null,
            "border": null,
            "align_items": null,
            "bottom": null,
            "_model_module": "@jupyter-widgets/base",
            "top": null,
            "grid_column": null,
            "overflow_y": null,
            "overflow_x": null,
            "grid_auto_flow": null,
            "grid_area": null,
            "grid_template_columns": null,
            "flex": null,
            "_model_name": "LayoutModel",
            "justify_items": null,
            "grid_row": null,
            "max_height": null,
            "align_content": null,
            "visibility": null,
            "align_self": null,
            "height": null,
            "min_height": null,
            "padding": null,
            "grid_auto_rows": null,
            "grid_gap": null,
            "max_width": null,
            "order": null,
            "_view_module_version": "1.2.0",
            "grid_template_areas": null,
            "object_position": null,
            "object_fit": null,
            "grid_auto_columns": null,
            "margin": null,
            "display": null,
            "left": null
          }
        },
        "c86a2bc962d546a1873dccb7f0a179db": {
          "model_module": "@jupyter-widgets/controls",
          "model_name": "HBoxModel",
          "model_module_version": "1.5.0",
          "state": {
            "_view_name": "HBoxView",
            "_dom_classes": [],
            "_model_name": "HBoxModel",
            "_view_module": "@jupyter-widgets/controls",
            "_model_module_version": "1.5.0",
            "_view_count": null,
            "_view_module_version": "1.5.0",
            "box_style": "",
            "layout": "IPY_MODEL_0b0052a806b64bf38e7f95b5c5d56733",
            "_model_module": "@jupyter-widgets/controls",
            "children": [
              "IPY_MODEL_06b35a5ba0b3449a98e1761bac3ad791",
              "IPY_MODEL_21277e5b65b24acc8853a2ad9e6bcec3",
              "IPY_MODEL_549ac21b97bf4289b52b6dc2bbb88f06"
            ]
          }
        },
        "0b0052a806b64bf38e7f95b5c5d56733": {
          "model_module": "@jupyter-widgets/base",
          "model_name": "LayoutModel",
          "model_module_version": "1.2.0",
          "state": {
            "_view_name": "LayoutView",
            "grid_template_rows": null,
            "right": null,
            "justify_content": null,
            "_view_module": "@jupyter-widgets/base",
            "overflow": null,
            "_model_module_version": "1.2.0",
            "_view_count": null,
            "flex_flow": null,
            "width": null,
            "min_width": null,
            "border": null,
            "align_items": null,
            "bottom": null,
            "_model_module": "@jupyter-widgets/base",
            "top": null,
            "grid_column": null,
            "overflow_y": null,
            "overflow_x": null,
            "grid_auto_flow": null,
            "grid_area": null,
            "grid_template_columns": null,
            "flex": null,
            "_model_name": "LayoutModel",
            "justify_items": null,
            "grid_row": null,
            "max_height": null,
            "align_content": null,
            "visibility": null,
            "align_self": null,
            "height": null,
            "min_height": null,
            "padding": null,
            "grid_auto_rows": null,
            "grid_gap": null,
            "max_width": null,
            "order": null,
            "_view_module_version": "1.2.0",
            "grid_template_areas": null,
            "object_position": null,
            "object_fit": null,
            "grid_auto_columns": null,
            "margin": null,
            "display": null,
            "left": null
          }
        },
        "06b35a5ba0b3449a98e1761bac3ad791": {
          "model_module": "@jupyter-widgets/controls",
          "model_name": "HTMLModel",
          "model_module_version": "1.5.0",
          "state": {
            "_view_name": "HTMLView",
            "style": "IPY_MODEL_3ed3ebf11f12468ab233e01538092f12",
            "_dom_classes": [],
            "description": "",
            "_model_name": "HTMLModel",
            "placeholder": "​",
            "_view_module": "@jupyter-widgets/controls",
            "_model_module_version": "1.5.0",
            "value": "100%",
            "_view_count": null,
            "_view_module_version": "1.5.0",
            "description_tooltip": null,
            "_model_module": "@jupyter-widgets/controls",
            "layout": "IPY_MODEL_360939b39f554874a457467fcbda788d"
          }
        },
        "21277e5b65b24acc8853a2ad9e6bcec3": {
          "model_module": "@jupyter-widgets/controls",
          "model_name": "FloatProgressModel",
          "model_module_version": "1.5.0",
          "state": {
            "_view_name": "ProgressView",
            "style": "IPY_MODEL_d08a27a075df4699aa5a755fad6e704f",
            "_dom_classes": [],
            "description": "",
            "_model_name": "FloatProgressModel",
            "bar_style": "success",
            "max": 20,
            "_view_module": "@jupyter-widgets/controls",
            "_model_module_version": "1.5.0",
            "value": 20,
            "_view_count": null,
            "_view_module_version": "1.5.0",
            "orientation": "horizontal",
            "min": 0,
            "description_tooltip": null,
            "_model_module": "@jupyter-widgets/controls",
            "layout": "IPY_MODEL_7b249694ce744a619f9c0bad092f66e9"
          }
        },
        "549ac21b97bf4289b52b6dc2bbb88f06": {
          "model_module": "@jupyter-widgets/controls",
          "model_name": "HTMLModel",
          "model_module_version": "1.5.0",
          "state": {
            "_view_name": "HTMLView",
            "style": "IPY_MODEL_b5a72d6666a0400dabe361fe4ae97567",
            "_dom_classes": [],
            "description": "",
            "_model_name": "HTMLModel",
            "placeholder": "​",
            "_view_module": "@jupyter-widgets/controls",
            "_model_module_version": "1.5.0",
            "value": " 20/20 [00:00&lt;00:00, 26.44it/s]",
            "_view_count": null,
            "_view_module_version": "1.5.0",
            "description_tooltip": null,
            "_model_module": "@jupyter-widgets/controls",
            "layout": "IPY_MODEL_460f0d3cf4304f44ae80cd6db1b01282"
          }
        },
        "3ed3ebf11f12468ab233e01538092f12": {
          "model_module": "@jupyter-widgets/controls",
          "model_name": "DescriptionStyleModel",
          "model_module_version": "1.5.0",
          "state": {
            "_view_name": "StyleView",
            "_model_name": "DescriptionStyleModel",
            "description_width": "",
            "_view_module": "@jupyter-widgets/base",
            "_model_module_version": "1.5.0",
            "_view_count": null,
            "_view_module_version": "1.2.0",
            "_model_module": "@jupyter-widgets/controls"
          }
        },
        "360939b39f554874a457467fcbda788d": {
          "model_module": "@jupyter-widgets/base",
          "model_name": "LayoutModel",
          "model_module_version": "1.2.0",
          "state": {
            "_view_name": "LayoutView",
            "grid_template_rows": null,
            "right": null,
            "justify_content": null,
            "_view_module": "@jupyter-widgets/base",
            "overflow": null,
            "_model_module_version": "1.2.0",
            "_view_count": null,
            "flex_flow": null,
            "width": null,
            "min_width": null,
            "border": null,
            "align_items": null,
            "bottom": null,
            "_model_module": "@jupyter-widgets/base",
            "top": null,
            "grid_column": null,
            "overflow_y": null,
            "overflow_x": null,
            "grid_auto_flow": null,
            "grid_area": null,
            "grid_template_columns": null,
            "flex": null,
            "_model_name": "LayoutModel",
            "justify_items": null,
            "grid_row": null,
            "max_height": null,
            "align_content": null,
            "visibility": null,
            "align_self": null,
            "height": null,
            "min_height": null,
            "padding": null,
            "grid_auto_rows": null,
            "grid_gap": null,
            "max_width": null,
            "order": null,
            "_view_module_version": "1.2.0",
            "grid_template_areas": null,
            "object_position": null,
            "object_fit": null,
            "grid_auto_columns": null,
            "margin": null,
            "display": null,
            "left": null
          }
        },
        "d08a27a075df4699aa5a755fad6e704f": {
          "model_module": "@jupyter-widgets/controls",
          "model_name": "ProgressStyleModel",
          "model_module_version": "1.5.0",
          "state": {
            "_view_name": "StyleView",
            "_model_name": "ProgressStyleModel",
            "description_width": "",
            "_view_module": "@jupyter-widgets/base",
            "_model_module_version": "1.5.0",
            "_view_count": null,
            "_view_module_version": "1.2.0",
            "bar_color": null,
            "_model_module": "@jupyter-widgets/controls"
          }
        },
        "7b249694ce744a619f9c0bad092f66e9": {
          "model_module": "@jupyter-widgets/base",
          "model_name": "LayoutModel",
          "model_module_version": "1.2.0",
          "state": {
            "_view_name": "LayoutView",
            "grid_template_rows": null,
            "right": null,
            "justify_content": null,
            "_view_module": "@jupyter-widgets/base",
            "overflow": null,
            "_model_module_version": "1.2.0",
            "_view_count": null,
            "flex_flow": null,
            "width": null,
            "min_width": null,
            "border": null,
            "align_items": null,
            "bottom": null,
            "_model_module": "@jupyter-widgets/base",
            "top": null,
            "grid_column": null,
            "overflow_y": null,
            "overflow_x": null,
            "grid_auto_flow": null,
            "grid_area": null,
            "grid_template_columns": null,
            "flex": null,
            "_model_name": "LayoutModel",
            "justify_items": null,
            "grid_row": null,
            "max_height": null,
            "align_content": null,
            "visibility": null,
            "align_self": null,
            "height": null,
            "min_height": null,
            "padding": null,
            "grid_auto_rows": null,
            "grid_gap": null,
            "max_width": null,
            "order": null,
            "_view_module_version": "1.2.0",
            "grid_template_areas": null,
            "object_position": null,
            "object_fit": null,
            "grid_auto_columns": null,
            "margin": null,
            "display": null,
            "left": null
          }
        },
        "b5a72d6666a0400dabe361fe4ae97567": {
          "model_module": "@jupyter-widgets/controls",
          "model_name": "DescriptionStyleModel",
          "model_module_version": "1.5.0",
          "state": {
            "_view_name": "StyleView",
            "_model_name": "DescriptionStyleModel",
            "description_width": "",
            "_view_module": "@jupyter-widgets/base",
            "_model_module_version": "1.5.0",
            "_view_count": null,
            "_view_module_version": "1.2.0",
            "_model_module": "@jupyter-widgets/controls"
          }
        },
        "460f0d3cf4304f44ae80cd6db1b01282": {
          "model_module": "@jupyter-widgets/base",
          "model_name": "LayoutModel",
          "model_module_version": "1.2.0",
          "state": {
            "_view_name": "LayoutView",
            "grid_template_rows": null,
            "right": null,
            "justify_content": null,
            "_view_module": "@jupyter-widgets/base",
            "overflow": null,
            "_model_module_version": "1.2.0",
            "_view_count": null,
            "flex_flow": null,
            "width": null,
            "min_width": null,
            "border": null,
            "align_items": null,
            "bottom": null,
            "_model_module": "@jupyter-widgets/base",
            "top": null,
            "grid_column": null,
            "overflow_y": null,
            "overflow_x": null,
            "grid_auto_flow": null,
            "grid_area": null,
            "grid_template_columns": null,
            "flex": null,
            "_model_name": "LayoutModel",
            "justify_items": null,
            "grid_row": null,
            "max_height": null,
            "align_content": null,
            "visibility": null,
            "align_self": null,
            "height": null,
            "min_height": null,
            "padding": null,
            "grid_auto_rows": null,
            "grid_gap": null,
            "max_width": null,
            "order": null,
            "_view_module_version": "1.2.0",
            "grid_template_areas": null,
            "object_position": null,
            "object_fit": null,
            "grid_auto_columns": null,
            "margin": null,
            "display": null,
            "left": null
          }
        },
        "47a027f42bac4d6288a24cd2348bebc7": {
          "model_module": "@jupyter-widgets/controls",
          "model_name": "HBoxModel",
          "model_module_version": "1.5.0",
          "state": {
            "_view_name": "HBoxView",
            "_dom_classes": [],
            "_model_name": "HBoxModel",
            "_view_module": "@jupyter-widgets/controls",
            "_model_module_version": "1.5.0",
            "_view_count": null,
            "_view_module_version": "1.5.0",
            "box_style": "",
            "layout": "IPY_MODEL_dbb4c3eba84647b18b3b93c3fedd8a89",
            "_model_module": "@jupyter-widgets/controls",
            "children": [
              "IPY_MODEL_5f31f60720424ce093c6e015edb11083",
              "IPY_MODEL_ea6b300cce90442fa744cde6962fa58d",
              "IPY_MODEL_d9f2a701385648a5949f15ea3ad56c57"
            ]
          }
        },
        "dbb4c3eba84647b18b3b93c3fedd8a89": {
          "model_module": "@jupyter-widgets/base",
          "model_name": "LayoutModel",
          "model_module_version": "1.2.0",
          "state": {
            "_view_name": "LayoutView",
            "grid_template_rows": null,
            "right": null,
            "justify_content": null,
            "_view_module": "@jupyter-widgets/base",
            "overflow": null,
            "_model_module_version": "1.2.0",
            "_view_count": null,
            "flex_flow": null,
            "width": null,
            "min_width": null,
            "border": null,
            "align_items": null,
            "bottom": null,
            "_model_module": "@jupyter-widgets/base",
            "top": null,
            "grid_column": null,
            "overflow_y": null,
            "overflow_x": null,
            "grid_auto_flow": null,
            "grid_area": null,
            "grid_template_columns": null,
            "flex": null,
            "_model_name": "LayoutModel",
            "justify_items": null,
            "grid_row": null,
            "max_height": null,
            "align_content": null,
            "visibility": null,
            "align_self": null,
            "height": null,
            "min_height": null,
            "padding": null,
            "grid_auto_rows": null,
            "grid_gap": null,
            "max_width": null,
            "order": null,
            "_view_module_version": "1.2.0",
            "grid_template_areas": null,
            "object_position": null,
            "object_fit": null,
            "grid_auto_columns": null,
            "margin": null,
            "display": null,
            "left": null
          }
        },
        "5f31f60720424ce093c6e015edb11083": {
          "model_module": "@jupyter-widgets/controls",
          "model_name": "HTMLModel",
          "model_module_version": "1.5.0",
          "state": {
            "_view_name": "HTMLView",
            "style": "IPY_MODEL_a5de70d1d77a4256af2731ac5842156d",
            "_dom_classes": [],
            "description": "",
            "_model_name": "HTMLModel",
            "placeholder": "​",
            "_view_module": "@jupyter-widgets/controls",
            "_model_module_version": "1.5.0",
            "value": "100%",
            "_view_count": null,
            "_view_module_version": "1.5.0",
            "description_tooltip": null,
            "_model_module": "@jupyter-widgets/controls",
            "layout": "IPY_MODEL_b24aedf2836542e0b2e2d650b4c21846"
          }
        },
        "ea6b300cce90442fa744cde6962fa58d": {
          "model_module": "@jupyter-widgets/controls",
          "model_name": "FloatProgressModel",
          "model_module_version": "1.5.0",
          "state": {
            "_view_name": "ProgressView",
            "style": "IPY_MODEL_b786e7c80ba340daa532afa2fbb63ca5",
            "_dom_classes": [],
            "description": "",
            "_model_name": "FloatProgressModel",
            "bar_style": "success",
            "max": 20,
            "_view_module": "@jupyter-widgets/controls",
            "_model_module_version": "1.5.0",
            "value": 20,
            "_view_count": null,
            "_view_module_version": "1.5.0",
            "orientation": "horizontal",
            "min": 0,
            "description_tooltip": null,
            "_model_module": "@jupyter-widgets/controls",
            "layout": "IPY_MODEL_80c53229fa2342a9b632d84cb83a7137"
          }
        },
        "d9f2a701385648a5949f15ea3ad56c57": {
          "model_module": "@jupyter-widgets/controls",
          "model_name": "HTMLModel",
          "model_module_version": "1.5.0",
          "state": {
            "_view_name": "HTMLView",
            "style": "IPY_MODEL_45651cf6ede34e2995dbda3c97261de6",
            "_dom_classes": [],
            "description": "",
            "_model_name": "HTMLModel",
            "placeholder": "​",
            "_view_module": "@jupyter-widgets/controls",
            "_model_module_version": "1.5.0",
            "value": " 20/20 [00:28&lt;00:00,  1.32s/it]",
            "_view_count": null,
            "_view_module_version": "1.5.0",
            "description_tooltip": null,
            "_model_module": "@jupyter-widgets/controls",
            "layout": "IPY_MODEL_3b15f19d95e747ea95bff67523fcc18a"
          }
        },
        "a5de70d1d77a4256af2731ac5842156d": {
          "model_module": "@jupyter-widgets/controls",
          "model_name": "DescriptionStyleModel",
          "model_module_version": "1.5.0",
          "state": {
            "_view_name": "StyleView",
            "_model_name": "DescriptionStyleModel",
            "description_width": "",
            "_view_module": "@jupyter-widgets/base",
            "_model_module_version": "1.5.0",
            "_view_count": null,
            "_view_module_version": "1.2.0",
            "_model_module": "@jupyter-widgets/controls"
          }
        },
        "b24aedf2836542e0b2e2d650b4c21846": {
          "model_module": "@jupyter-widgets/base",
          "model_name": "LayoutModel",
          "model_module_version": "1.2.0",
          "state": {
            "_view_name": "LayoutView",
            "grid_template_rows": null,
            "right": null,
            "justify_content": null,
            "_view_module": "@jupyter-widgets/base",
            "overflow": null,
            "_model_module_version": "1.2.0",
            "_view_count": null,
            "flex_flow": null,
            "width": null,
            "min_width": null,
            "border": null,
            "align_items": null,
            "bottom": null,
            "_model_module": "@jupyter-widgets/base",
            "top": null,
            "grid_column": null,
            "overflow_y": null,
            "overflow_x": null,
            "grid_auto_flow": null,
            "grid_area": null,
            "grid_template_columns": null,
            "flex": null,
            "_model_name": "LayoutModel",
            "justify_items": null,
            "grid_row": null,
            "max_height": null,
            "align_content": null,
            "visibility": null,
            "align_self": null,
            "height": null,
            "min_height": null,
            "padding": null,
            "grid_auto_rows": null,
            "grid_gap": null,
            "max_width": null,
            "order": null,
            "_view_module_version": "1.2.0",
            "grid_template_areas": null,
            "object_position": null,
            "object_fit": null,
            "grid_auto_columns": null,
            "margin": null,
            "display": null,
            "left": null
          }
        },
        "b786e7c80ba340daa532afa2fbb63ca5": {
          "model_module": "@jupyter-widgets/controls",
          "model_name": "ProgressStyleModel",
          "model_module_version": "1.5.0",
          "state": {
            "_view_name": "StyleView",
            "_model_name": "ProgressStyleModel",
            "description_width": "",
            "_view_module": "@jupyter-widgets/base",
            "_model_module_version": "1.5.0",
            "_view_count": null,
            "_view_module_version": "1.2.0",
            "bar_color": null,
            "_model_module": "@jupyter-widgets/controls"
          }
        },
        "80c53229fa2342a9b632d84cb83a7137": {
          "model_module": "@jupyter-widgets/base",
          "model_name": "LayoutModel",
          "model_module_version": "1.2.0",
          "state": {
            "_view_name": "LayoutView",
            "grid_template_rows": null,
            "right": null,
            "justify_content": null,
            "_view_module": "@jupyter-widgets/base",
            "overflow": null,
            "_model_module_version": "1.2.0",
            "_view_count": null,
            "flex_flow": null,
            "width": null,
            "min_width": null,
            "border": null,
            "align_items": null,
            "bottom": null,
            "_model_module": "@jupyter-widgets/base",
            "top": null,
            "grid_column": null,
            "overflow_y": null,
            "overflow_x": null,
            "grid_auto_flow": null,
            "grid_area": null,
            "grid_template_columns": null,
            "flex": null,
            "_model_name": "LayoutModel",
            "justify_items": null,
            "grid_row": null,
            "max_height": null,
            "align_content": null,
            "visibility": null,
            "align_self": null,
            "height": null,
            "min_height": null,
            "padding": null,
            "grid_auto_rows": null,
            "grid_gap": null,
            "max_width": null,
            "order": null,
            "_view_module_version": "1.2.0",
            "grid_template_areas": null,
            "object_position": null,
            "object_fit": null,
            "grid_auto_columns": null,
            "margin": null,
            "display": null,
            "left": null
          }
        },
        "45651cf6ede34e2995dbda3c97261de6": {
          "model_module": "@jupyter-widgets/controls",
          "model_name": "DescriptionStyleModel",
          "model_module_version": "1.5.0",
          "state": {
            "_view_name": "StyleView",
            "_model_name": "DescriptionStyleModel",
            "description_width": "",
            "_view_module": "@jupyter-widgets/base",
            "_model_module_version": "1.5.0",
            "_view_count": null,
            "_view_module_version": "1.2.0",
            "_model_module": "@jupyter-widgets/controls"
          }
        },
        "3b15f19d95e747ea95bff67523fcc18a": {
          "model_module": "@jupyter-widgets/base",
          "model_name": "LayoutModel",
          "model_module_version": "1.2.0",
          "state": {
            "_view_name": "LayoutView",
            "grid_template_rows": null,
            "right": null,
            "justify_content": null,
            "_view_module": "@jupyter-widgets/base",
            "overflow": null,
            "_model_module_version": "1.2.0",
            "_view_count": null,
            "flex_flow": null,
            "width": null,
            "min_width": null,
            "border": null,
            "align_items": null,
            "bottom": null,
            "_model_module": "@jupyter-widgets/base",
            "top": null,
            "grid_column": null,
            "overflow_y": null,
            "overflow_x": null,
            "grid_auto_flow": null,
            "grid_area": null,
            "grid_template_columns": null,
            "flex": null,
            "_model_name": "LayoutModel",
            "justify_items": null,
            "grid_row": null,
            "max_height": null,
            "align_content": null,
            "visibility": null,
            "align_self": null,
            "height": null,
            "min_height": null,
            "padding": null,
            "grid_auto_rows": null,
            "grid_gap": null,
            "max_width": null,
            "order": null,
            "_view_module_version": "1.2.0",
            "grid_template_areas": null,
            "object_position": null,
            "object_fit": null,
            "grid_auto_columns": null,
            "margin": null,
            "display": null,
            "left": null
          }
        },
        "bd195b71b9864eb4a541814880d5d224": {
          "model_module": "@jupyter-widgets/controls",
          "model_name": "HBoxModel",
          "model_module_version": "1.5.0",
          "state": {
            "_view_name": "HBoxView",
            "_dom_classes": [],
            "_model_name": "HBoxModel",
            "_view_module": "@jupyter-widgets/controls",
            "_model_module_version": "1.5.0",
            "_view_count": null,
            "_view_module_version": "1.5.0",
            "box_style": "",
            "layout": "IPY_MODEL_41a234ee5b8346be8e60b0a7c4c706c3",
            "_model_module": "@jupyter-widgets/controls",
            "children": [
              "IPY_MODEL_6d84957bceeb4a98b084c58edff1a2ff",
              "IPY_MODEL_2d66f96821184094a2af2152df57a7f7",
              "IPY_MODEL_b365411efde143098814809df18584eb"
            ]
          }
        },
        "41a234ee5b8346be8e60b0a7c4c706c3": {
          "model_module": "@jupyter-widgets/base",
          "model_name": "LayoutModel",
          "model_module_version": "1.2.0",
          "state": {
            "_view_name": "LayoutView",
            "grid_template_rows": null,
            "right": null,
            "justify_content": null,
            "_view_module": "@jupyter-widgets/base",
            "overflow": null,
            "_model_module_version": "1.2.0",
            "_view_count": null,
            "flex_flow": null,
            "width": null,
            "min_width": null,
            "border": null,
            "align_items": null,
            "bottom": null,
            "_model_module": "@jupyter-widgets/base",
            "top": null,
            "grid_column": null,
            "overflow_y": null,
            "overflow_x": null,
            "grid_auto_flow": null,
            "grid_area": null,
            "grid_template_columns": null,
            "flex": null,
            "_model_name": "LayoutModel",
            "justify_items": null,
            "grid_row": null,
            "max_height": null,
            "align_content": null,
            "visibility": null,
            "align_self": null,
            "height": null,
            "min_height": null,
            "padding": null,
            "grid_auto_rows": null,
            "grid_gap": null,
            "max_width": null,
            "order": null,
            "_view_module_version": "1.2.0",
            "grid_template_areas": null,
            "object_position": null,
            "object_fit": null,
            "grid_auto_columns": null,
            "margin": null,
            "display": null,
            "left": null
          }
        },
        "6d84957bceeb4a98b084c58edff1a2ff": {
          "model_module": "@jupyter-widgets/controls",
          "model_name": "HTMLModel",
          "model_module_version": "1.5.0",
          "state": {
            "_view_name": "HTMLView",
            "style": "IPY_MODEL_a8a065dd750e479395065f9848a2483e",
            "_dom_classes": [],
            "description": "",
            "_model_name": "HTMLModel",
            "placeholder": "​",
            "_view_module": "@jupyter-widgets/controls",
            "_model_module_version": "1.5.0",
            "value": "100%",
            "_view_count": null,
            "_view_module_version": "1.5.0",
            "description_tooltip": null,
            "_model_module": "@jupyter-widgets/controls",
            "layout": "IPY_MODEL_3cfcdc80b1b24583b6f97637346bfa8d"
          }
        },
        "2d66f96821184094a2af2152df57a7f7": {
          "model_module": "@jupyter-widgets/controls",
          "model_name": "FloatProgressModel",
          "model_module_version": "1.5.0",
          "state": {
            "_view_name": "ProgressView",
            "style": "IPY_MODEL_61779040dc3d457ea11648ee5db99cb4",
            "_dom_classes": [],
            "description": "",
            "_model_name": "FloatProgressModel",
            "bar_style": "success",
            "max": 20,
            "_view_module": "@jupyter-widgets/controls",
            "_model_module_version": "1.5.0",
            "value": 20,
            "_view_count": null,
            "_view_module_version": "1.5.0",
            "orientation": "horizontal",
            "min": 0,
            "description_tooltip": null,
            "_model_module": "@jupyter-widgets/controls",
            "layout": "IPY_MODEL_376b8f93ee674fbf8b9c404883cc1ead"
          }
        },
        "b365411efde143098814809df18584eb": {
          "model_module": "@jupyter-widgets/controls",
          "model_name": "HTMLModel",
          "model_module_version": "1.5.0",
          "state": {
            "_view_name": "HTMLView",
            "style": "IPY_MODEL_d54304be8c264849a3856ff80f1ce0ce",
            "_dom_classes": [],
            "description": "",
            "_model_name": "HTMLModel",
            "placeholder": "​",
            "_view_module": "@jupyter-widgets/controls",
            "_model_module_version": "1.5.0",
            "value": " 20/20 [00:18&lt;00:00,  1.11it/s]",
            "_view_count": null,
            "_view_module_version": "1.5.0",
            "description_tooltip": null,
            "_model_module": "@jupyter-widgets/controls",
            "layout": "IPY_MODEL_98cd9e98e1df4431b68f230a16f42b1f"
          }
        },
        "a8a065dd750e479395065f9848a2483e": {
          "model_module": "@jupyter-widgets/controls",
          "model_name": "DescriptionStyleModel",
          "model_module_version": "1.5.0",
          "state": {
            "_view_name": "StyleView",
            "_model_name": "DescriptionStyleModel",
            "description_width": "",
            "_view_module": "@jupyter-widgets/base",
            "_model_module_version": "1.5.0",
            "_view_count": null,
            "_view_module_version": "1.2.0",
            "_model_module": "@jupyter-widgets/controls"
          }
        },
        "3cfcdc80b1b24583b6f97637346bfa8d": {
          "model_module": "@jupyter-widgets/base",
          "model_name": "LayoutModel",
          "model_module_version": "1.2.0",
          "state": {
            "_view_name": "LayoutView",
            "grid_template_rows": null,
            "right": null,
            "justify_content": null,
            "_view_module": "@jupyter-widgets/base",
            "overflow": null,
            "_model_module_version": "1.2.0",
            "_view_count": null,
            "flex_flow": null,
            "width": null,
            "min_width": null,
            "border": null,
            "align_items": null,
            "bottom": null,
            "_model_module": "@jupyter-widgets/base",
            "top": null,
            "grid_column": null,
            "overflow_y": null,
            "overflow_x": null,
            "grid_auto_flow": null,
            "grid_area": null,
            "grid_template_columns": null,
            "flex": null,
            "_model_name": "LayoutModel",
            "justify_items": null,
            "grid_row": null,
            "max_height": null,
            "align_content": null,
            "visibility": null,
            "align_self": null,
            "height": null,
            "min_height": null,
            "padding": null,
            "grid_auto_rows": null,
            "grid_gap": null,
            "max_width": null,
            "order": null,
            "_view_module_version": "1.2.0",
            "grid_template_areas": null,
            "object_position": null,
            "object_fit": null,
            "grid_auto_columns": null,
            "margin": null,
            "display": null,
            "left": null
          }
        },
        "61779040dc3d457ea11648ee5db99cb4": {
          "model_module": "@jupyter-widgets/controls",
          "model_name": "ProgressStyleModel",
          "model_module_version": "1.5.0",
          "state": {
            "_view_name": "StyleView",
            "_model_name": "ProgressStyleModel",
            "description_width": "",
            "_view_module": "@jupyter-widgets/base",
            "_model_module_version": "1.5.0",
            "_view_count": null,
            "_view_module_version": "1.2.0",
            "bar_color": null,
            "_model_module": "@jupyter-widgets/controls"
          }
        },
        "376b8f93ee674fbf8b9c404883cc1ead": {
          "model_module": "@jupyter-widgets/base",
          "model_name": "LayoutModel",
          "model_module_version": "1.2.0",
          "state": {
            "_view_name": "LayoutView",
            "grid_template_rows": null,
            "right": null,
            "justify_content": null,
            "_view_module": "@jupyter-widgets/base",
            "overflow": null,
            "_model_module_version": "1.2.0",
            "_view_count": null,
            "flex_flow": null,
            "width": null,
            "min_width": null,
            "border": null,
            "align_items": null,
            "bottom": null,
            "_model_module": "@jupyter-widgets/base",
            "top": null,
            "grid_column": null,
            "overflow_y": null,
            "overflow_x": null,
            "grid_auto_flow": null,
            "grid_area": null,
            "grid_template_columns": null,
            "flex": null,
            "_model_name": "LayoutModel",
            "justify_items": null,
            "grid_row": null,
            "max_height": null,
            "align_content": null,
            "visibility": null,
            "align_self": null,
            "height": null,
            "min_height": null,
            "padding": null,
            "grid_auto_rows": null,
            "grid_gap": null,
            "max_width": null,
            "order": null,
            "_view_module_version": "1.2.0",
            "grid_template_areas": null,
            "object_position": null,
            "object_fit": null,
            "grid_auto_columns": null,
            "margin": null,
            "display": null,
            "left": null
          }
        },
        "d54304be8c264849a3856ff80f1ce0ce": {
          "model_module": "@jupyter-widgets/controls",
          "model_name": "DescriptionStyleModel",
          "model_module_version": "1.5.0",
          "state": {
            "_view_name": "StyleView",
            "_model_name": "DescriptionStyleModel",
            "description_width": "",
            "_view_module": "@jupyter-widgets/base",
            "_model_module_version": "1.5.0",
            "_view_count": null,
            "_view_module_version": "1.2.0",
            "_model_module": "@jupyter-widgets/controls"
          }
        },
        "98cd9e98e1df4431b68f230a16f42b1f": {
          "model_module": "@jupyter-widgets/base",
          "model_name": "LayoutModel",
          "model_module_version": "1.2.0",
          "state": {
            "_view_name": "LayoutView",
            "grid_template_rows": null,
            "right": null,
            "justify_content": null,
            "_view_module": "@jupyter-widgets/base",
            "overflow": null,
            "_model_module_version": "1.2.0",
            "_view_count": null,
            "flex_flow": null,
            "width": null,
            "min_width": null,
            "border": null,
            "align_items": null,
            "bottom": null,
            "_model_module": "@jupyter-widgets/base",
            "top": null,
            "grid_column": null,
            "overflow_y": null,
            "overflow_x": null,
            "grid_auto_flow": null,
            "grid_area": null,
            "grid_template_columns": null,
            "flex": null,
            "_model_name": "LayoutModel",
            "justify_items": null,
            "grid_row": null,
            "max_height": null,
            "align_content": null,
            "visibility": null,
            "align_self": null,
            "height": null,
            "min_height": null,
            "padding": null,
            "grid_auto_rows": null,
            "grid_gap": null,
            "max_width": null,
            "order": null,
            "_view_module_version": "1.2.0",
            "grid_template_areas": null,
            "object_position": null,
            "object_fit": null,
            "grid_auto_columns": null,
            "margin": null,
            "display": null,
            "left": null
          }
        },
        "3988b6a8dfae405cb2bad14670c73d33": {
          "model_module": "@jupyter-widgets/controls",
          "model_name": "HBoxModel",
          "model_module_version": "1.5.0",
          "state": {
            "_view_name": "HBoxView",
            "_dom_classes": [],
            "_model_name": "HBoxModel",
            "_view_module": "@jupyter-widgets/controls",
            "_model_module_version": "1.5.0",
            "_view_count": null,
            "_view_module_version": "1.5.0",
            "box_style": "",
            "layout": "IPY_MODEL_8a8877aaed24454f83b5dfa1b31ff9ba",
            "_model_module": "@jupyter-widgets/controls",
            "children": [
              "IPY_MODEL_1587073e2f604982ba5762e934d03154",
              "IPY_MODEL_521957b292044924bb3ea6ce260c3856",
              "IPY_MODEL_d36b24952a9841b9b8658bc0513fab24"
            ]
          }
        },
        "8a8877aaed24454f83b5dfa1b31ff9ba": {
          "model_module": "@jupyter-widgets/base",
          "model_name": "LayoutModel",
          "model_module_version": "1.2.0",
          "state": {
            "_view_name": "LayoutView",
            "grid_template_rows": null,
            "right": null,
            "justify_content": null,
            "_view_module": "@jupyter-widgets/base",
            "overflow": null,
            "_model_module_version": "1.2.0",
            "_view_count": null,
            "flex_flow": null,
            "width": null,
            "min_width": null,
            "border": null,
            "align_items": null,
            "bottom": null,
            "_model_module": "@jupyter-widgets/base",
            "top": null,
            "grid_column": null,
            "overflow_y": null,
            "overflow_x": null,
            "grid_auto_flow": null,
            "grid_area": null,
            "grid_template_columns": null,
            "flex": null,
            "_model_name": "LayoutModel",
            "justify_items": null,
            "grid_row": null,
            "max_height": null,
            "align_content": null,
            "visibility": null,
            "align_self": null,
            "height": null,
            "min_height": null,
            "padding": null,
            "grid_auto_rows": null,
            "grid_gap": null,
            "max_width": null,
            "order": null,
            "_view_module_version": "1.2.0",
            "grid_template_areas": null,
            "object_position": null,
            "object_fit": null,
            "grid_auto_columns": null,
            "margin": null,
            "display": null,
            "left": null
          }
        },
        "1587073e2f604982ba5762e934d03154": {
          "model_module": "@jupyter-widgets/controls",
          "model_name": "HTMLModel",
          "model_module_version": "1.5.0",
          "state": {
            "_view_name": "HTMLView",
            "style": "IPY_MODEL_e8528484be0b470396911b53def52d81",
            "_dom_classes": [],
            "description": "",
            "_model_name": "HTMLModel",
            "placeholder": "​",
            "_view_module": "@jupyter-widgets/controls",
            "_model_module_version": "1.5.0",
            "value": "100%",
            "_view_count": null,
            "_view_module_version": "1.5.0",
            "description_tooltip": null,
            "_model_module": "@jupyter-widgets/controls",
            "layout": "IPY_MODEL_d6f6f7e8840940ee9eb1b4fa9878352f"
          }
        },
        "521957b292044924bb3ea6ce260c3856": {
          "model_module": "@jupyter-widgets/controls",
          "model_name": "FloatProgressModel",
          "model_module_version": "1.5.0",
          "state": {
            "_view_name": "ProgressView",
            "style": "IPY_MODEL_779c0b2f72344cb29e1ac425feaf77f6",
            "_dom_classes": [],
            "description": "",
            "_model_name": "FloatProgressModel",
            "bar_style": "success",
            "max": 20,
            "_view_module": "@jupyter-widgets/controls",
            "_model_module_version": "1.5.0",
            "value": 20,
            "_view_count": null,
            "_view_module_version": "1.5.0",
            "orientation": "horizontal",
            "min": 0,
            "description_tooltip": null,
            "_model_module": "@jupyter-widgets/controls",
            "layout": "IPY_MODEL_fd537c54a4f74aeaa54b79976516b1e2"
          }
        },
        "d36b24952a9841b9b8658bc0513fab24": {
          "model_module": "@jupyter-widgets/controls",
          "model_name": "HTMLModel",
          "model_module_version": "1.5.0",
          "state": {
            "_view_name": "HTMLView",
            "style": "IPY_MODEL_c5fa75be2caa49eba71c388fd8af1c65",
            "_dom_classes": [],
            "description": "",
            "_model_name": "HTMLModel",
            "placeholder": "​",
            "_view_module": "@jupyter-widgets/controls",
            "_model_module_version": "1.5.0",
            "value": " 20/20 [00:23&lt;00:00,  1.48s/it]",
            "_view_count": null,
            "_view_module_version": "1.5.0",
            "description_tooltip": null,
            "_model_module": "@jupyter-widgets/controls",
            "layout": "IPY_MODEL_7f7a575d0cdb4c019519bdd33136d7f2"
          }
        },
        "e8528484be0b470396911b53def52d81": {
          "model_module": "@jupyter-widgets/controls",
          "model_name": "DescriptionStyleModel",
          "model_module_version": "1.5.0",
          "state": {
            "_view_name": "StyleView",
            "_model_name": "DescriptionStyleModel",
            "description_width": "",
            "_view_module": "@jupyter-widgets/base",
            "_model_module_version": "1.5.0",
            "_view_count": null,
            "_view_module_version": "1.2.0",
            "_model_module": "@jupyter-widgets/controls"
          }
        },
        "d6f6f7e8840940ee9eb1b4fa9878352f": {
          "model_module": "@jupyter-widgets/base",
          "model_name": "LayoutModel",
          "model_module_version": "1.2.0",
          "state": {
            "_view_name": "LayoutView",
            "grid_template_rows": null,
            "right": null,
            "justify_content": null,
            "_view_module": "@jupyter-widgets/base",
            "overflow": null,
            "_model_module_version": "1.2.0",
            "_view_count": null,
            "flex_flow": null,
            "width": null,
            "min_width": null,
            "border": null,
            "align_items": null,
            "bottom": null,
            "_model_module": "@jupyter-widgets/base",
            "top": null,
            "grid_column": null,
            "overflow_y": null,
            "overflow_x": null,
            "grid_auto_flow": null,
            "grid_area": null,
            "grid_template_columns": null,
            "flex": null,
            "_model_name": "LayoutModel",
            "justify_items": null,
            "grid_row": null,
            "max_height": null,
            "align_content": null,
            "visibility": null,
            "align_self": null,
            "height": null,
            "min_height": null,
            "padding": null,
            "grid_auto_rows": null,
            "grid_gap": null,
            "max_width": null,
            "order": null,
            "_view_module_version": "1.2.0",
            "grid_template_areas": null,
            "object_position": null,
            "object_fit": null,
            "grid_auto_columns": null,
            "margin": null,
            "display": null,
            "left": null
          }
        },
        "779c0b2f72344cb29e1ac425feaf77f6": {
          "model_module": "@jupyter-widgets/controls",
          "model_name": "ProgressStyleModel",
          "model_module_version": "1.5.0",
          "state": {
            "_view_name": "StyleView",
            "_model_name": "ProgressStyleModel",
            "description_width": "",
            "_view_module": "@jupyter-widgets/base",
            "_model_module_version": "1.5.0",
            "_view_count": null,
            "_view_module_version": "1.2.0",
            "bar_color": null,
            "_model_module": "@jupyter-widgets/controls"
          }
        },
        "fd537c54a4f74aeaa54b79976516b1e2": {
          "model_module": "@jupyter-widgets/base",
          "model_name": "LayoutModel",
          "model_module_version": "1.2.0",
          "state": {
            "_view_name": "LayoutView",
            "grid_template_rows": null,
            "right": null,
            "justify_content": null,
            "_view_module": "@jupyter-widgets/base",
            "overflow": null,
            "_model_module_version": "1.2.0",
            "_view_count": null,
            "flex_flow": null,
            "width": null,
            "min_width": null,
            "border": null,
            "align_items": null,
            "bottom": null,
            "_model_module": "@jupyter-widgets/base",
            "top": null,
            "grid_column": null,
            "overflow_y": null,
            "overflow_x": null,
            "grid_auto_flow": null,
            "grid_area": null,
            "grid_template_columns": null,
            "flex": null,
            "_model_name": "LayoutModel",
            "justify_items": null,
            "grid_row": null,
            "max_height": null,
            "align_content": null,
            "visibility": null,
            "align_self": null,
            "height": null,
            "min_height": null,
            "padding": null,
            "grid_auto_rows": null,
            "grid_gap": null,
            "max_width": null,
            "order": null,
            "_view_module_version": "1.2.0",
            "grid_template_areas": null,
            "object_position": null,
            "object_fit": null,
            "grid_auto_columns": null,
            "margin": null,
            "display": null,
            "left": null
          }
        },
        "c5fa75be2caa49eba71c388fd8af1c65": {
          "model_module": "@jupyter-widgets/controls",
          "model_name": "DescriptionStyleModel",
          "model_module_version": "1.5.0",
          "state": {
            "_view_name": "StyleView",
            "_model_name": "DescriptionStyleModel",
            "description_width": "",
            "_view_module": "@jupyter-widgets/base",
            "_model_module_version": "1.5.0",
            "_view_count": null,
            "_view_module_version": "1.2.0",
            "_model_module": "@jupyter-widgets/controls"
          }
        },
        "7f7a575d0cdb4c019519bdd33136d7f2": {
          "model_module": "@jupyter-widgets/base",
          "model_name": "LayoutModel",
          "model_module_version": "1.2.0",
          "state": {
            "_view_name": "LayoutView",
            "grid_template_rows": null,
            "right": null,
            "justify_content": null,
            "_view_module": "@jupyter-widgets/base",
            "overflow": null,
            "_model_module_version": "1.2.0",
            "_view_count": null,
            "flex_flow": null,
            "width": null,
            "min_width": null,
            "border": null,
            "align_items": null,
            "bottom": null,
            "_model_module": "@jupyter-widgets/base",
            "top": null,
            "grid_column": null,
            "overflow_y": null,
            "overflow_x": null,
            "grid_auto_flow": null,
            "grid_area": null,
            "grid_template_columns": null,
            "flex": null,
            "_model_name": "LayoutModel",
            "justify_items": null,
            "grid_row": null,
            "max_height": null,
            "align_content": null,
            "visibility": null,
            "align_self": null,
            "height": null,
            "min_height": null,
            "padding": null,
            "grid_auto_rows": null,
            "grid_gap": null,
            "max_width": null,
            "order": null,
            "_view_module_version": "1.2.0",
            "grid_template_areas": null,
            "object_position": null,
            "object_fit": null,
            "grid_auto_columns": null,
            "margin": null,
            "display": null,
            "left": null
          }
        },
        "3826ce7a89834971a2562d9c048912d3": {
          "model_module": "@jupyter-widgets/controls",
          "model_name": "HBoxModel",
          "model_module_version": "1.5.0",
          "state": {
            "_view_name": "HBoxView",
            "_dom_classes": [],
            "_model_name": "HBoxModel",
            "_view_module": "@jupyter-widgets/controls",
            "_model_module_version": "1.5.0",
            "_view_count": null,
            "_view_module_version": "1.5.0",
            "box_style": "",
            "layout": "IPY_MODEL_3b8a55b2d51943cf97c6e820075293a7",
            "_model_module": "@jupyter-widgets/controls",
            "children": [
              "IPY_MODEL_2d35f14abcba47ddb606c04432d90bf5",
              "IPY_MODEL_d6ba1843711e4cf7b0f02b7e5e3ba711",
              "IPY_MODEL_e20bfb89fd484edbb5ceb8addea9eb0e"
            ]
          }
        },
        "3b8a55b2d51943cf97c6e820075293a7": {
          "model_module": "@jupyter-widgets/base",
          "model_name": "LayoutModel",
          "model_module_version": "1.2.0",
          "state": {
            "_view_name": "LayoutView",
            "grid_template_rows": null,
            "right": null,
            "justify_content": null,
            "_view_module": "@jupyter-widgets/base",
            "overflow": null,
            "_model_module_version": "1.2.0",
            "_view_count": null,
            "flex_flow": null,
            "width": null,
            "min_width": null,
            "border": null,
            "align_items": null,
            "bottom": null,
            "_model_module": "@jupyter-widgets/base",
            "top": null,
            "grid_column": null,
            "overflow_y": null,
            "overflow_x": null,
            "grid_auto_flow": null,
            "grid_area": null,
            "grid_template_columns": null,
            "flex": null,
            "_model_name": "LayoutModel",
            "justify_items": null,
            "grid_row": null,
            "max_height": null,
            "align_content": null,
            "visibility": null,
            "align_self": null,
            "height": null,
            "min_height": null,
            "padding": null,
            "grid_auto_rows": null,
            "grid_gap": null,
            "max_width": null,
            "order": null,
            "_view_module_version": "1.2.0",
            "grid_template_areas": null,
            "object_position": null,
            "object_fit": null,
            "grid_auto_columns": null,
            "margin": null,
            "display": null,
            "left": null
          }
        },
        "2d35f14abcba47ddb606c04432d90bf5": {
          "model_module": "@jupyter-widgets/controls",
          "model_name": "HTMLModel",
          "model_module_version": "1.5.0",
          "state": {
            "_view_name": "HTMLView",
            "style": "IPY_MODEL_6d0b199923884d469e77161649a78a19",
            "_dom_classes": [],
            "description": "",
            "_model_name": "HTMLModel",
            "placeholder": "​",
            "_view_module": "@jupyter-widgets/controls",
            "_model_module_version": "1.5.0",
            "value": "100%",
            "_view_count": null,
            "_view_module_version": "1.5.0",
            "description_tooltip": null,
            "_model_module": "@jupyter-widgets/controls",
            "layout": "IPY_MODEL_29aaffcf2cbc4e2fb8ace17ee5db899b"
          }
        },
        "d6ba1843711e4cf7b0f02b7e5e3ba711": {
          "model_module": "@jupyter-widgets/controls",
          "model_name": "FloatProgressModel",
          "model_module_version": "1.5.0",
          "state": {
            "_view_name": "ProgressView",
            "style": "IPY_MODEL_3fdaa5db722b42448ade1921fad09a38",
            "_dom_classes": [],
            "description": "",
            "_model_name": "FloatProgressModel",
            "bar_style": "success",
            "max": 20,
            "_view_module": "@jupyter-widgets/controls",
            "_model_module_version": "1.5.0",
            "value": 20,
            "_view_count": null,
            "_view_module_version": "1.5.0",
            "orientation": "horizontal",
            "min": 0,
            "description_tooltip": null,
            "_model_module": "@jupyter-widgets/controls",
            "layout": "IPY_MODEL_80402d7de25e45b58f88262dbaa7b65b"
          }
        },
        "e20bfb89fd484edbb5ceb8addea9eb0e": {
          "model_module": "@jupyter-widgets/controls",
          "model_name": "HTMLModel",
          "model_module_version": "1.5.0",
          "state": {
            "_view_name": "HTMLView",
            "style": "IPY_MODEL_1087607dae93431c912b9c04bf1ee3ba",
            "_dom_classes": [],
            "description": "",
            "_model_name": "HTMLModel",
            "placeholder": "​",
            "_view_module": "@jupyter-widgets/controls",
            "_model_module_version": "1.5.0",
            "value": " 20/20 [00:23&lt;00:00,  1.35s/it]",
            "_view_count": null,
            "_view_module_version": "1.5.0",
            "description_tooltip": null,
            "_model_module": "@jupyter-widgets/controls",
            "layout": "IPY_MODEL_a806cc3ca031440ca2d800241656e80d"
          }
        },
        "6d0b199923884d469e77161649a78a19": {
          "model_module": "@jupyter-widgets/controls",
          "model_name": "DescriptionStyleModel",
          "model_module_version": "1.5.0",
          "state": {
            "_view_name": "StyleView",
            "_model_name": "DescriptionStyleModel",
            "description_width": "",
            "_view_module": "@jupyter-widgets/base",
            "_model_module_version": "1.5.0",
            "_view_count": null,
            "_view_module_version": "1.2.0",
            "_model_module": "@jupyter-widgets/controls"
          }
        },
        "29aaffcf2cbc4e2fb8ace17ee5db899b": {
          "model_module": "@jupyter-widgets/base",
          "model_name": "LayoutModel",
          "model_module_version": "1.2.0",
          "state": {
            "_view_name": "LayoutView",
            "grid_template_rows": null,
            "right": null,
            "justify_content": null,
            "_view_module": "@jupyter-widgets/base",
            "overflow": null,
            "_model_module_version": "1.2.0",
            "_view_count": null,
            "flex_flow": null,
            "width": null,
            "min_width": null,
            "border": null,
            "align_items": null,
            "bottom": null,
            "_model_module": "@jupyter-widgets/base",
            "top": null,
            "grid_column": null,
            "overflow_y": null,
            "overflow_x": null,
            "grid_auto_flow": null,
            "grid_area": null,
            "grid_template_columns": null,
            "flex": null,
            "_model_name": "LayoutModel",
            "justify_items": null,
            "grid_row": null,
            "max_height": null,
            "align_content": null,
            "visibility": null,
            "align_self": null,
            "height": null,
            "min_height": null,
            "padding": null,
            "grid_auto_rows": null,
            "grid_gap": null,
            "max_width": null,
            "order": null,
            "_view_module_version": "1.2.0",
            "grid_template_areas": null,
            "object_position": null,
            "object_fit": null,
            "grid_auto_columns": null,
            "margin": null,
            "display": null,
            "left": null
          }
        },
        "3fdaa5db722b42448ade1921fad09a38": {
          "model_module": "@jupyter-widgets/controls",
          "model_name": "ProgressStyleModel",
          "model_module_version": "1.5.0",
          "state": {
            "_view_name": "StyleView",
            "_model_name": "ProgressStyleModel",
            "description_width": "",
            "_view_module": "@jupyter-widgets/base",
            "_model_module_version": "1.5.0",
            "_view_count": null,
            "_view_module_version": "1.2.0",
            "bar_color": null,
            "_model_module": "@jupyter-widgets/controls"
          }
        },
        "80402d7de25e45b58f88262dbaa7b65b": {
          "model_module": "@jupyter-widgets/base",
          "model_name": "LayoutModel",
          "model_module_version": "1.2.0",
          "state": {
            "_view_name": "LayoutView",
            "grid_template_rows": null,
            "right": null,
            "justify_content": null,
            "_view_module": "@jupyter-widgets/base",
            "overflow": null,
            "_model_module_version": "1.2.0",
            "_view_count": null,
            "flex_flow": null,
            "width": null,
            "min_width": null,
            "border": null,
            "align_items": null,
            "bottom": null,
            "_model_module": "@jupyter-widgets/base",
            "top": null,
            "grid_column": null,
            "overflow_y": null,
            "overflow_x": null,
            "grid_auto_flow": null,
            "grid_area": null,
            "grid_template_columns": null,
            "flex": null,
            "_model_name": "LayoutModel",
            "justify_items": null,
            "grid_row": null,
            "max_height": null,
            "align_content": null,
            "visibility": null,
            "align_self": null,
            "height": null,
            "min_height": null,
            "padding": null,
            "grid_auto_rows": null,
            "grid_gap": null,
            "max_width": null,
            "order": null,
            "_view_module_version": "1.2.0",
            "grid_template_areas": null,
            "object_position": null,
            "object_fit": null,
            "grid_auto_columns": null,
            "margin": null,
            "display": null,
            "left": null
          }
        },
        "1087607dae93431c912b9c04bf1ee3ba": {
          "model_module": "@jupyter-widgets/controls",
          "model_name": "DescriptionStyleModel",
          "model_module_version": "1.5.0",
          "state": {
            "_view_name": "StyleView",
            "_model_name": "DescriptionStyleModel",
            "description_width": "",
            "_view_module": "@jupyter-widgets/base",
            "_model_module_version": "1.5.0",
            "_view_count": null,
            "_view_module_version": "1.2.0",
            "_model_module": "@jupyter-widgets/controls"
          }
        },
        "a806cc3ca031440ca2d800241656e80d": {
          "model_module": "@jupyter-widgets/base",
          "model_name": "LayoutModel",
          "model_module_version": "1.2.0",
          "state": {
            "_view_name": "LayoutView",
            "grid_template_rows": null,
            "right": null,
            "justify_content": null,
            "_view_module": "@jupyter-widgets/base",
            "overflow": null,
            "_model_module_version": "1.2.0",
            "_view_count": null,
            "flex_flow": null,
            "width": null,
            "min_width": null,
            "border": null,
            "align_items": null,
            "bottom": null,
            "_model_module": "@jupyter-widgets/base",
            "top": null,
            "grid_column": null,
            "overflow_y": null,
            "overflow_x": null,
            "grid_auto_flow": null,
            "grid_area": null,
            "grid_template_columns": null,
            "flex": null,
            "_model_name": "LayoutModel",
            "justify_items": null,
            "grid_row": null,
            "max_height": null,
            "align_content": null,
            "visibility": null,
            "align_self": null,
            "height": null,
            "min_height": null,
            "padding": null,
            "grid_auto_rows": null,
            "grid_gap": null,
            "max_width": null,
            "order": null,
            "_view_module_version": "1.2.0",
            "grid_template_areas": null,
            "object_position": null,
            "object_fit": null,
            "grid_auto_columns": null,
            "margin": null,
            "display": null,
            "left": null
          }
        },
        "09b066cc065a49debfc97eee0b824ae2": {
          "model_module": "@jupyter-widgets/controls",
          "model_name": "HBoxModel",
          "model_module_version": "1.5.0",
          "state": {
            "_view_name": "HBoxView",
            "_dom_classes": [],
            "_model_name": "HBoxModel",
            "_view_module": "@jupyter-widgets/controls",
            "_model_module_version": "1.5.0",
            "_view_count": null,
            "_view_module_version": "1.5.0",
            "box_style": "",
            "layout": "IPY_MODEL_860ecca6769041c1b2bc1eeea9a57854",
            "_model_module": "@jupyter-widgets/controls",
            "children": [
              "IPY_MODEL_7db90ac37c79435ba02cd3bdbb2645db",
              "IPY_MODEL_c0edc28be4c848a7866c7a126285502f",
              "IPY_MODEL_9ab5af76253d48cb97cdea14b915c414"
            ]
          }
        },
        "860ecca6769041c1b2bc1eeea9a57854": {
          "model_module": "@jupyter-widgets/base",
          "model_name": "LayoutModel",
          "model_module_version": "1.2.0",
          "state": {
            "_view_name": "LayoutView",
            "grid_template_rows": null,
            "right": null,
            "justify_content": null,
            "_view_module": "@jupyter-widgets/base",
            "overflow": null,
            "_model_module_version": "1.2.0",
            "_view_count": null,
            "flex_flow": null,
            "width": null,
            "min_width": null,
            "border": null,
            "align_items": null,
            "bottom": null,
            "_model_module": "@jupyter-widgets/base",
            "top": null,
            "grid_column": null,
            "overflow_y": null,
            "overflow_x": null,
            "grid_auto_flow": null,
            "grid_area": null,
            "grid_template_columns": null,
            "flex": null,
            "_model_name": "LayoutModel",
            "justify_items": null,
            "grid_row": null,
            "max_height": null,
            "align_content": null,
            "visibility": null,
            "align_self": null,
            "height": null,
            "min_height": null,
            "padding": null,
            "grid_auto_rows": null,
            "grid_gap": null,
            "max_width": null,
            "order": null,
            "_view_module_version": "1.2.0",
            "grid_template_areas": null,
            "object_position": null,
            "object_fit": null,
            "grid_auto_columns": null,
            "margin": null,
            "display": null,
            "left": null
          }
        },
        "7db90ac37c79435ba02cd3bdbb2645db": {
          "model_module": "@jupyter-widgets/controls",
          "model_name": "HTMLModel",
          "model_module_version": "1.5.0",
          "state": {
            "_view_name": "HTMLView",
            "style": "IPY_MODEL_65b47b0728174cb887f39ade5f74a692",
            "_dom_classes": [],
            "description": "",
            "_model_name": "HTMLModel",
            "placeholder": "​",
            "_view_module": "@jupyter-widgets/controls",
            "_model_module_version": "1.5.0",
            "value": "100%",
            "_view_count": null,
            "_view_module_version": "1.5.0",
            "description_tooltip": null,
            "_model_module": "@jupyter-widgets/controls",
            "layout": "IPY_MODEL_8155b202cf8044649aa83b28c86bf344"
          }
        },
        "c0edc28be4c848a7866c7a126285502f": {
          "model_module": "@jupyter-widgets/controls",
          "model_name": "FloatProgressModel",
          "model_module_version": "1.5.0",
          "state": {
            "_view_name": "ProgressView",
            "style": "IPY_MODEL_852afc88a20c46dfb1474f137ca3df40",
            "_dom_classes": [],
            "description": "",
            "_model_name": "FloatProgressModel",
            "bar_style": "success",
            "max": 20,
            "_view_module": "@jupyter-widgets/controls",
            "_model_module_version": "1.5.0",
            "value": 20,
            "_view_count": null,
            "_view_module_version": "1.5.0",
            "orientation": "horizontal",
            "min": 0,
            "description_tooltip": null,
            "_model_module": "@jupyter-widgets/controls",
            "layout": "IPY_MODEL_ea907f8d0985494eb2719c3ddcb37670"
          }
        },
        "9ab5af76253d48cb97cdea14b915c414": {
          "model_module": "@jupyter-widgets/controls",
          "model_name": "HTMLModel",
          "model_module_version": "1.5.0",
          "state": {
            "_view_name": "HTMLView",
            "style": "IPY_MODEL_f3457187b4df4a4a8c0ccc2dbe694991",
            "_dom_classes": [],
            "description": "",
            "_model_name": "HTMLModel",
            "placeholder": "​",
            "_view_module": "@jupyter-widgets/controls",
            "_model_module_version": "1.5.0",
            "value": " 20/20 [00:27&lt;00:00,  1.10s/it]",
            "_view_count": null,
            "_view_module_version": "1.5.0",
            "description_tooltip": null,
            "_model_module": "@jupyter-widgets/controls",
            "layout": "IPY_MODEL_bde84526c3494731850f3ee3281632e0"
          }
        },
        "65b47b0728174cb887f39ade5f74a692": {
          "model_module": "@jupyter-widgets/controls",
          "model_name": "DescriptionStyleModel",
          "model_module_version": "1.5.0",
          "state": {
            "_view_name": "StyleView",
            "_model_name": "DescriptionStyleModel",
            "description_width": "",
            "_view_module": "@jupyter-widgets/base",
            "_model_module_version": "1.5.0",
            "_view_count": null,
            "_view_module_version": "1.2.0",
            "_model_module": "@jupyter-widgets/controls"
          }
        },
        "8155b202cf8044649aa83b28c86bf344": {
          "model_module": "@jupyter-widgets/base",
          "model_name": "LayoutModel",
          "model_module_version": "1.2.0",
          "state": {
            "_view_name": "LayoutView",
            "grid_template_rows": null,
            "right": null,
            "justify_content": null,
            "_view_module": "@jupyter-widgets/base",
            "overflow": null,
            "_model_module_version": "1.2.0",
            "_view_count": null,
            "flex_flow": null,
            "width": null,
            "min_width": null,
            "border": null,
            "align_items": null,
            "bottom": null,
            "_model_module": "@jupyter-widgets/base",
            "top": null,
            "grid_column": null,
            "overflow_y": null,
            "overflow_x": null,
            "grid_auto_flow": null,
            "grid_area": null,
            "grid_template_columns": null,
            "flex": null,
            "_model_name": "LayoutModel",
            "justify_items": null,
            "grid_row": null,
            "max_height": null,
            "align_content": null,
            "visibility": null,
            "align_self": null,
            "height": null,
            "min_height": null,
            "padding": null,
            "grid_auto_rows": null,
            "grid_gap": null,
            "max_width": null,
            "order": null,
            "_view_module_version": "1.2.0",
            "grid_template_areas": null,
            "object_position": null,
            "object_fit": null,
            "grid_auto_columns": null,
            "margin": null,
            "display": null,
            "left": null
          }
        },
        "852afc88a20c46dfb1474f137ca3df40": {
          "model_module": "@jupyter-widgets/controls",
          "model_name": "ProgressStyleModel",
          "model_module_version": "1.5.0",
          "state": {
            "_view_name": "StyleView",
            "_model_name": "ProgressStyleModel",
            "description_width": "",
            "_view_module": "@jupyter-widgets/base",
            "_model_module_version": "1.5.0",
            "_view_count": null,
            "_view_module_version": "1.2.0",
            "bar_color": null,
            "_model_module": "@jupyter-widgets/controls"
          }
        },
        "ea907f8d0985494eb2719c3ddcb37670": {
          "model_module": "@jupyter-widgets/base",
          "model_name": "LayoutModel",
          "model_module_version": "1.2.0",
          "state": {
            "_view_name": "LayoutView",
            "grid_template_rows": null,
            "right": null,
            "justify_content": null,
            "_view_module": "@jupyter-widgets/base",
            "overflow": null,
            "_model_module_version": "1.2.0",
            "_view_count": null,
            "flex_flow": null,
            "width": null,
            "min_width": null,
            "border": null,
            "align_items": null,
            "bottom": null,
            "_model_module": "@jupyter-widgets/base",
            "top": null,
            "grid_column": null,
            "overflow_y": null,
            "overflow_x": null,
            "grid_auto_flow": null,
            "grid_area": null,
            "grid_template_columns": null,
            "flex": null,
            "_model_name": "LayoutModel",
            "justify_items": null,
            "grid_row": null,
            "max_height": null,
            "align_content": null,
            "visibility": null,
            "align_self": null,
            "height": null,
            "min_height": null,
            "padding": null,
            "grid_auto_rows": null,
            "grid_gap": null,
            "max_width": null,
            "order": null,
            "_view_module_version": "1.2.0",
            "grid_template_areas": null,
            "object_position": null,
            "object_fit": null,
            "grid_auto_columns": null,
            "margin": null,
            "display": null,
            "left": null
          }
        },
        "f3457187b4df4a4a8c0ccc2dbe694991": {
          "model_module": "@jupyter-widgets/controls",
          "model_name": "DescriptionStyleModel",
          "model_module_version": "1.5.0",
          "state": {
            "_view_name": "StyleView",
            "_model_name": "DescriptionStyleModel",
            "description_width": "",
            "_view_module": "@jupyter-widgets/base",
            "_model_module_version": "1.5.0",
            "_view_count": null,
            "_view_module_version": "1.2.0",
            "_model_module": "@jupyter-widgets/controls"
          }
        },
        "bde84526c3494731850f3ee3281632e0": {
          "model_module": "@jupyter-widgets/base",
          "model_name": "LayoutModel",
          "model_module_version": "1.2.0",
          "state": {
            "_view_name": "LayoutView",
            "grid_template_rows": null,
            "right": null,
            "justify_content": null,
            "_view_module": "@jupyter-widgets/base",
            "overflow": null,
            "_model_module_version": "1.2.0",
            "_view_count": null,
            "flex_flow": null,
            "width": null,
            "min_width": null,
            "border": null,
            "align_items": null,
            "bottom": null,
            "_model_module": "@jupyter-widgets/base",
            "top": null,
            "grid_column": null,
            "overflow_y": null,
            "overflow_x": null,
            "grid_auto_flow": null,
            "grid_area": null,
            "grid_template_columns": null,
            "flex": null,
            "_model_name": "LayoutModel",
            "justify_items": null,
            "grid_row": null,
            "max_height": null,
            "align_content": null,
            "visibility": null,
            "align_self": null,
            "height": null,
            "min_height": null,
            "padding": null,
            "grid_auto_rows": null,
            "grid_gap": null,
            "max_width": null,
            "order": null,
            "_view_module_version": "1.2.0",
            "grid_template_areas": null,
            "object_position": null,
            "object_fit": null,
            "grid_auto_columns": null,
            "margin": null,
            "display": null,
            "left": null
          }
        }
      }
    }
  },
  "cells": [
    {
      "cell_type": "markdown",
      "metadata": {
        "id": "view-in-github",
        "colab_type": "text"
      },
      "source": [
        "<a href=\"https://colab.research.google.com/github/choprahetarth/gearbox-fault-prediction/blob/main/Gearbox_Prediction.ipynb\" target=\"_parent\"><img src=\"https://colab.research.google.com/assets/colab-badge.svg\" alt=\"Open In Colab\"/></a>"
      ]
    },
    {
      "cell_type": "markdown",
      "metadata": {
        "id": "4RZl4o52mlew"
      },
      "source": [
        "# Previous Rendition"
      ]
    },
    {
      "cell_type": "code",
      "metadata": {
        "id": "ZFz-kTEUNc9N",
        "colab": {
          "base_uri": "https://localhost:8080/"
        },
        "outputId": "5928406a-6390-44e0-d3b8-327f130fbc2f"
      },
      "source": [
        "#!pip install vaex==2.5.0 --quiet\n",
        "!pip install vaex \n",
        "#requests = \"^2.23.0\"\n",
        "#!pip install --upgrade vaex --quiet\n",
        "#!pip install ipython==7.25.0\n",
        "!pip install ipython==7.0.0 \n",
        "\n",
        "#!pip install ipython==5.5.0 --quiet\n",
        "\n",
        "#!pip install ipython -U -q"
      ],
      "execution_count": null,
      "outputs": [
        {
          "output_type": "stream",
          "text": [
            "Requirement already satisfied: vaex in /usr/local/lib/python3.7/dist-packages (4.4.0)\n",
            "Requirement already satisfied: vaex-server<0.7,>=0.6.0 in /usr/local/lib/python3.7/dist-packages (from vaex) (0.6.0)\n",
            "Requirement already satisfied: vaex-viz<0.6,>=0.5.0 in /usr/local/lib/python3.7/dist-packages (from vaex) (0.5.0)\n",
            "Requirement already satisfied: vaex-astro<0.9,>=0.8.3 in /usr/local/lib/python3.7/dist-packages (from vaex) (0.8.3)\n",
            "Requirement already satisfied: vaex-jupyter<0.7,>=0.6.0 in /usr/local/lib/python3.7/dist-packages (from vaex) (0.6.0)\n",
            "Requirement already satisfied: vaex-hdf5<0.10,>=0.9.0 in /usr/local/lib/python3.7/dist-packages (from vaex) (0.9.0)\n",
            "Requirement already satisfied: vaex-core<5,>=4.4.0 in /usr/local/lib/python3.7/dist-packages (from vaex) (4.4.0)\n",
            "Requirement already satisfied: vaex-ml<0.14,>=0.13.0 in /usr/local/lib/python3.7/dist-packages (from vaex) (0.13.0)\n",
            "Requirement already satisfied: astropy in /usr/local/lib/python3.7/dist-packages (from vaex-astro<0.9,>=0.8.3->vaex) (4.3.1)\n",
            "Requirement already satisfied: dask in /usr/local/lib/python3.7/dist-packages (from vaex-core<5,>=4.4.0->vaex) (2.12.0)\n",
            "Requirement already satisfied: pyarrow>=3.0 in /usr/local/lib/python3.7/dist-packages (from vaex-core<5,>=4.4.0->vaex) (3.0.0)\n",
            "Requirement already satisfied: numpy>=1.16 in /usr/local/lib/python3.7/dist-packages (from vaex-core<5,>=4.4.0->vaex) (1.19.5)\n",
            "Requirement already satisfied: blake3 in /usr/local/lib/python3.7/dist-packages (from vaex-core<5,>=4.4.0->vaex) (0.2.0)\n",
            "Requirement already satisfied: frozendict in /usr/local/lib/python3.7/dist-packages (from vaex-core<5,>=4.4.0->vaex) (2.0.6)\n",
            "Requirement already satisfied: cloudpickle in /usr/local/lib/python3.7/dist-packages (from vaex-core<5,>=4.4.0->vaex) (1.3.0)\n",
            "Requirement already satisfied: tabulate>=0.8.3 in /usr/local/lib/python3.7/dist-packages (from vaex-core<5,>=4.4.0->vaex) (0.8.9)\n",
            "Requirement already satisfied: future>=0.15.2 in /usr/local/lib/python3.7/dist-packages (from vaex-core<5,>=4.4.0->vaex) (0.16.0)\n",
            "Requirement already satisfied: six in /usr/local/lib/python3.7/dist-packages (from vaex-core<5,>=4.4.0->vaex) (1.15.0)\n",
            "Requirement already satisfied: aplus in /usr/local/lib/python3.7/dist-packages (from vaex-core<5,>=4.4.0->vaex) (0.11.0)\n",
            "Requirement already satisfied: requests in /usr/local/lib/python3.7/dist-packages (from vaex-core<5,>=4.4.0->vaex) (2.26.0)\n",
            "Requirement already satisfied: nest-asyncio>=1.3.3 in /usr/local/lib/python3.7/dist-packages (from vaex-core<5,>=4.4.0->vaex) (1.5.1)\n",
            "Requirement already satisfied: pandas in /usr/local/lib/python3.7/dist-packages (from vaex-core<5,>=4.4.0->vaex) (1.1.5)\n",
            "Requirement already satisfied: pyyaml in /usr/local/lib/python3.7/dist-packages (from vaex-core<5,>=4.4.0->vaex) (5.4.1)\n",
            "Requirement already satisfied: progressbar2 in /usr/local/lib/python3.7/dist-packages (from vaex-core<5,>=4.4.0->vaex) (3.38.0)\n",
            "Requirement already satisfied: h5py>=2.9 in /usr/local/lib/python3.7/dist-packages (from vaex-hdf5<0.10,>=0.9.0->vaex) (3.1.0)\n",
            "Requirement already satisfied: cached-property in /usr/local/lib/python3.7/dist-packages (from h5py>=2.9->vaex-hdf5<0.10,>=0.9.0->vaex) (1.5.2)\n",
            "Requirement already satisfied: bqplot>=0.10.1 in /usr/local/lib/python3.7/dist-packages (from vaex-jupyter<0.7,>=0.6.0->vaex) (0.12.30)\n",
            "Requirement already satisfied: ipyvolume>=0.4 in /usr/local/lib/python3.7/dist-packages (from vaex-jupyter<0.7,>=0.6.0->vaex) (0.5.2)\n",
            "Requirement already satisfied: ipympl in /usr/local/lib/python3.7/dist-packages (from vaex-jupyter<0.7,>=0.6.0->vaex) (0.7.0)\n",
            "Requirement already satisfied: ipyleaflet in /usr/local/lib/python3.7/dist-packages (from vaex-jupyter<0.7,>=0.6.0->vaex) (0.14.0)\n",
            "Requirement already satisfied: xarray in /usr/local/lib/python3.7/dist-packages (from vaex-jupyter<0.7,>=0.6.0->vaex) (0.18.2)\n",
            "Requirement already satisfied: ipyvuetify<2,>=1.2.2 in /usr/local/lib/python3.7/dist-packages (from vaex-jupyter<0.7,>=0.6.0->vaex) (1.8.1)\n",
            "Requirement already satisfied: ipywidgets>=7.5.0 in /usr/local/lib/python3.7/dist-packages (from bqplot>=0.10.1->vaex-jupyter<0.7,>=0.6.0->vaex) (7.6.3)\n",
            "Requirement already satisfied: traitlets>=4.3.0 in /usr/local/lib/python3.7/dist-packages (from bqplot>=0.10.1->vaex-jupyter<0.7,>=0.6.0->vaex) (5.0.5)\n",
            "Requirement already satisfied: traittypes>=0.0.6 in /usr/local/lib/python3.7/dist-packages (from bqplot>=0.10.1->vaex-jupyter<0.7,>=0.6.0->vaex) (0.2.1)\n",
            "Requirement already satisfied: ipywebrtc in /usr/local/lib/python3.7/dist-packages (from ipyvolume>=0.4->vaex-jupyter<0.7,>=0.6.0->vaex) (0.6.0)\n",
            "Requirement already satisfied: Pillow in /usr/local/lib/python3.7/dist-packages (from ipyvolume>=0.4->vaex-jupyter<0.7,>=0.6.0->vaex) (7.1.2)\n",
            "Requirement already satisfied: pythreejs>=1.0.0 in /usr/local/lib/python3.7/dist-packages (from ipyvolume>=0.4->vaex-jupyter<0.7,>=0.6.0->vaex) (2.3.0)\n",
            "Requirement already satisfied: ipyvue<2,>=1.5 in /usr/local/lib/python3.7/dist-packages (from ipyvuetify<2,>=1.2.2->vaex-jupyter<0.7,>=0.6.0->vaex) (1.5.0)\n",
            "Requirement already satisfied: jupyterlab-widgets>=1.0.0 in /usr/local/lib/python3.7/dist-packages (from ipywidgets>=7.5.0->bqplot>=0.10.1->vaex-jupyter<0.7,>=0.6.0->vaex) (1.0.0)\n",
            "Requirement already satisfied: ipykernel>=4.5.1 in /usr/local/lib/python3.7/dist-packages (from ipywidgets>=7.5.0->bqplot>=0.10.1->vaex-jupyter<0.7,>=0.6.0->vaex) (4.10.1)\n",
            "Requirement already satisfied: ipython>=4.0.0 in /usr/local/lib/python3.7/dist-packages (from ipywidgets>=7.5.0->bqplot>=0.10.1->vaex-jupyter<0.7,>=0.6.0->vaex) (7.0.0)\n",
            "Requirement already satisfied: nbformat>=4.2.0 in /usr/local/lib/python3.7/dist-packages (from ipywidgets>=7.5.0->bqplot>=0.10.1->vaex-jupyter<0.7,>=0.6.0->vaex) (5.1.3)\n",
            "Requirement already satisfied: widgetsnbextension~=3.5.0 in /usr/local/lib/python3.7/dist-packages (from ipywidgets>=7.5.0->bqplot>=0.10.1->vaex-jupyter<0.7,>=0.6.0->vaex) (3.5.1)\n",
            "Requirement already satisfied: jupyter-client in /usr/local/lib/python3.7/dist-packages (from ipykernel>=4.5.1->ipywidgets>=7.5.0->bqplot>=0.10.1->vaex-jupyter<0.7,>=0.6.0->vaex) (5.3.5)\n",
            "Requirement already satisfied: tornado>=4.0 in /usr/local/lib/python3.7/dist-packages (from ipykernel>=4.5.1->ipywidgets>=7.5.0->bqplot>=0.10.1->vaex-jupyter<0.7,>=0.6.0->vaex) (5.1.1)\n",
            "Requirement already satisfied: pickleshare in /usr/local/lib/python3.7/dist-packages (from ipython>=4.0.0->ipywidgets>=7.5.0->bqplot>=0.10.1->vaex-jupyter<0.7,>=0.6.0->vaex) (0.7.5)\n",
            "Requirement already satisfied: jedi>=0.10 in /usr/local/lib/python3.7/dist-packages (from ipython>=4.0.0->ipywidgets>=7.5.0->bqplot>=0.10.1->vaex-jupyter<0.7,>=0.6.0->vaex) (0.18.0)\n",
            "Requirement already satisfied: decorator in /usr/local/lib/python3.7/dist-packages (from ipython>=4.0.0->ipywidgets>=7.5.0->bqplot>=0.10.1->vaex-jupyter<0.7,>=0.6.0->vaex) (4.4.2)\n",
            "Requirement already satisfied: setuptools>=18.5 in /usr/local/lib/python3.7/dist-packages (from ipython>=4.0.0->ipywidgets>=7.5.0->bqplot>=0.10.1->vaex-jupyter<0.7,>=0.6.0->vaex) (57.4.0)\n",
            "Requirement already satisfied: pexpect in /usr/local/lib/python3.7/dist-packages (from ipython>=4.0.0->ipywidgets>=7.5.0->bqplot>=0.10.1->vaex-jupyter<0.7,>=0.6.0->vaex) (4.8.0)\n",
            "Requirement already satisfied: simplegeneric>0.8 in /usr/local/lib/python3.7/dist-packages (from ipython>=4.0.0->ipywidgets>=7.5.0->bqplot>=0.10.1->vaex-jupyter<0.7,>=0.6.0->vaex) (0.8.1)\n",
            "Requirement already satisfied: pygments in /usr/local/lib/python3.7/dist-packages (from ipython>=4.0.0->ipywidgets>=7.5.0->bqplot>=0.10.1->vaex-jupyter<0.7,>=0.6.0->vaex) (2.6.1)\n",
            "Requirement already satisfied: prompt-toolkit<2.1.0,>=2.0.0 in /usr/local/lib/python3.7/dist-packages (from ipython>=4.0.0->ipywidgets>=7.5.0->bqplot>=0.10.1->vaex-jupyter<0.7,>=0.6.0->vaex) (2.0.10)\n",
            "Requirement already satisfied: backcall in /usr/local/lib/python3.7/dist-packages (from ipython>=4.0.0->ipywidgets>=7.5.0->bqplot>=0.10.1->vaex-jupyter<0.7,>=0.6.0->vaex) (0.2.0)\n",
            "Requirement already satisfied: parso<0.9.0,>=0.8.0 in /usr/local/lib/python3.7/dist-packages (from jedi>=0.10->ipython>=4.0.0->ipywidgets>=7.5.0->bqplot>=0.10.1->vaex-jupyter<0.7,>=0.6.0->vaex) (0.8.2)\n",
            "Requirement already satisfied: jupyter-core in /usr/local/lib/python3.7/dist-packages (from nbformat>=4.2.0->ipywidgets>=7.5.0->bqplot>=0.10.1->vaex-jupyter<0.7,>=0.6.0->vaex) (4.7.1)\n",
            "Requirement already satisfied: ipython-genutils in /usr/local/lib/python3.7/dist-packages (from nbformat>=4.2.0->ipywidgets>=7.5.0->bqplot>=0.10.1->vaex-jupyter<0.7,>=0.6.0->vaex) (0.2.0)\n",
            "Requirement already satisfied: jsonschema!=2.5.0,>=2.4 in /usr/local/lib/python3.7/dist-packages (from nbformat>=4.2.0->ipywidgets>=7.5.0->bqplot>=0.10.1->vaex-jupyter<0.7,>=0.6.0->vaex) (2.6.0)\n",
            "Requirement already satisfied: wcwidth in /usr/local/lib/python3.7/dist-packages (from prompt-toolkit<2.1.0,>=2.0.0->ipython>=4.0.0->ipywidgets>=7.5.0->bqplot>=0.10.1->vaex-jupyter<0.7,>=0.6.0->vaex) (0.2.5)\n",
            "Requirement already satisfied: ipydatawidgets>=1.1.1 in /usr/local/lib/python3.7/dist-packages (from pythreejs>=1.0.0->ipyvolume>=0.4->vaex-jupyter<0.7,>=0.6.0->vaex) (4.2.0)\n",
            "Requirement already satisfied: numba in /usr/local/lib/python3.7/dist-packages (from vaex-ml<0.14,>=0.13.0->vaex) (0.51.2)\n",
            "Requirement already satisfied: jinja2 in /usr/local/lib/python3.7/dist-packages (from vaex-ml<0.14,>=0.13.0->vaex) (2.11.3)\n",
            "Requirement already satisfied: fastapi[all] in /usr/local/lib/python3.7/dist-packages (from vaex-server<0.7,>=0.6.0->vaex) (0.68.0)\n",
            "Requirement already satisfied: cachetools in /usr/local/lib/python3.7/dist-packages (from vaex-server<0.7,>=0.6.0->vaex) (4.2.2)\n",
            "Requirement already satisfied: matplotlib>=1.3.1 in /usr/local/lib/python3.7/dist-packages (from vaex-viz<0.6,>=0.5.0->vaex) (3.2.2)\n",
            "Requirement already satisfied: python-dateutil>=2.1 in /usr/local/lib/python3.7/dist-packages (from matplotlib>=1.3.1->vaex-viz<0.6,>=0.5.0->vaex) (2.8.2)\n",
            "Requirement already satisfied: cycler>=0.10 in /usr/local/lib/python3.7/dist-packages (from matplotlib>=1.3.1->vaex-viz<0.6,>=0.5.0->vaex) (0.10.0)\n",
            "Requirement already satisfied: pyparsing!=2.0.4,!=2.1.2,!=2.1.6,>=2.0.1 in /usr/local/lib/python3.7/dist-packages (from matplotlib>=1.3.1->vaex-viz<0.6,>=0.5.0->vaex) (2.4.7)\n",
            "Requirement already satisfied: kiwisolver>=1.0.1 in /usr/local/lib/python3.7/dist-packages (from matplotlib>=1.3.1->vaex-viz<0.6,>=0.5.0->vaex) (1.3.1)\n",
            "Requirement already satisfied: notebook>=4.4.1 in /usr/local/lib/python3.7/dist-packages (from widgetsnbextension~=3.5.0->ipywidgets>=7.5.0->bqplot>=0.10.1->vaex-jupyter<0.7,>=0.6.0->vaex) (5.3.1)\n",
            "Requirement already satisfied: Send2Trash in /usr/local/lib/python3.7/dist-packages (from notebook>=4.4.1->widgetsnbextension~=3.5.0->ipywidgets>=7.5.0->bqplot>=0.10.1->vaex-jupyter<0.7,>=0.6.0->vaex) (1.8.0)\n",
            "Requirement already satisfied: nbconvert in /usr/local/lib/python3.7/dist-packages (from notebook>=4.4.1->widgetsnbextension~=3.5.0->ipywidgets>=7.5.0->bqplot>=0.10.1->vaex-jupyter<0.7,>=0.6.0->vaex) (5.6.1)\n",
            "Requirement already satisfied: terminado>=0.8.1 in /usr/local/lib/python3.7/dist-packages (from notebook>=4.4.1->widgetsnbextension~=3.5.0->ipywidgets>=7.5.0->bqplot>=0.10.1->vaex-jupyter<0.7,>=0.6.0->vaex) (0.11.0)\n",
            "Requirement already satisfied: pyzmq>=13 in /usr/local/lib/python3.7/dist-packages (from jupyter-client->ipykernel>=4.5.1->ipywidgets>=7.5.0->bqplot>=0.10.1->vaex-jupyter<0.7,>=0.6.0->vaex) (22.2.1)\n",
            "Requirement already satisfied: ptyprocess in /usr/local/lib/python3.7/dist-packages (from terminado>=0.8.1->notebook>=4.4.1->widgetsnbextension~=3.5.0->ipywidgets>=7.5.0->bqplot>=0.10.1->vaex-jupyter<0.7,>=0.6.0->vaex) (0.7.0)\n",
            "Requirement already satisfied: importlib-metadata in /usr/local/lib/python3.7/dist-packages (from astropy->vaex-astro<0.9,>=0.8.3->vaex) (4.6.4)\n",
            "Requirement already satisfied: pyerfa>=1.7.3 in /usr/local/lib/python3.7/dist-packages (from astropy->vaex-astro<0.9,>=0.8.3->vaex) (2.0.0)\n",
            "Requirement already satisfied: pydantic!=1.7,!=1.7.1,!=1.7.2,!=1.7.3,!=1.8,!=1.8.1,<2.0.0,>=1.6.2 in /usr/local/lib/python3.7/dist-packages (from fastapi[all]->vaex-server<0.7,>=0.6.0->vaex) (1.8.2)\n",
            "Requirement already satisfied: starlette==0.14.2 in /usr/local/lib/python3.7/dist-packages (from fastapi[all]->vaex-server<0.7,>=0.6.0->vaex) (0.14.2)\n",
            "Requirement already satisfied: itsdangerous<2.0.0,>=1.1.0 in /usr/local/lib/python3.7/dist-packages (from fastapi[all]->vaex-server<0.7,>=0.6.0->vaex) (1.1.0)\n",
            "Requirement already satisfied: ujson<5.0.0,>=4.0.1 in /usr/local/lib/python3.7/dist-packages (from fastapi[all]->vaex-server<0.7,>=0.6.0->vaex) (4.1.0)\n",
            "Requirement already satisfied: aiofiles<0.6.0,>=0.5.0 in /usr/local/lib/python3.7/dist-packages (from fastapi[all]->vaex-server<0.7,>=0.6.0->vaex) (0.5.0)\n",
            "Requirement already satisfied: orjson<4.0.0,>=3.2.1 in /usr/local/lib/python3.7/dist-packages (from fastapi[all]->vaex-server<0.7,>=0.6.0->vaex) (3.6.3)\n",
            "Requirement already satisfied: python-multipart<0.0.6,>=0.0.5 in /usr/local/lib/python3.7/dist-packages (from fastapi[all]->vaex-server<0.7,>=0.6.0->vaex) (0.0.5)\n",
            "Requirement already satisfied: async_exit_stack<2.0.0,>=1.0.1 in /usr/local/lib/python3.7/dist-packages (from fastapi[all]->vaex-server<0.7,>=0.6.0->vaex) (1.0.1)\n",
            "Requirement already satisfied: async_generator<2.0.0,>=1.10 in /usr/local/lib/python3.7/dist-packages (from fastapi[all]->vaex-server<0.7,>=0.6.0->vaex) (1.10)\n",
            "Requirement already satisfied: email_validator<2.0.0,>=1.1.1 in /usr/local/lib/python3.7/dist-packages (from fastapi[all]->vaex-server<0.7,>=0.6.0->vaex) (1.1.3)\n",
            "Requirement already satisfied: graphene<3.0.0,>=2.1.8 in /usr/local/lib/python3.7/dist-packages (from fastapi[all]->vaex-server<0.7,>=0.6.0->vaex) (2.1.9)\n",
            "Requirement already satisfied: uvicorn[standard]<0.14.0,>=0.12.0 in /usr/local/lib/python3.7/dist-packages (from fastapi[all]->vaex-server<0.7,>=0.6.0->vaex) (0.13.4)\n",
            "Requirement already satisfied: dnspython>=1.15.0 in /usr/local/lib/python3.7/dist-packages (from email_validator<2.0.0,>=1.1.1->fastapi[all]->vaex-server<0.7,>=0.6.0->vaex) (2.1.0)\n",
            "Requirement already satisfied: idna>=2.0.0 in /usr/local/lib/python3.7/dist-packages (from email_validator<2.0.0,>=1.1.1->fastapi[all]->vaex-server<0.7,>=0.6.0->vaex) (2.10)\n",
            "Requirement already satisfied: graphql-core<3,>=2.1 in /usr/local/lib/python3.7/dist-packages (from graphene<3.0.0,>=2.1.8->fastapi[all]->vaex-server<0.7,>=0.6.0->vaex) (2.3.2)\n",
            "Requirement already satisfied: graphql-relay<3,>=2 in /usr/local/lib/python3.7/dist-packages (from graphene<3.0.0,>=2.1.8->fastapi[all]->vaex-server<0.7,>=0.6.0->vaex) (2.0.1)\n",
            "Requirement already satisfied: aniso8601<=7,>=3 in /usr/local/lib/python3.7/dist-packages (from graphene<3.0.0,>=2.1.8->fastapi[all]->vaex-server<0.7,>=0.6.0->vaex) (7.0.0)\n",
            "Requirement already satisfied: promise<3,>=2.3 in /usr/local/lib/python3.7/dist-packages (from graphql-core<3,>=2.1->graphene<3.0.0,>=2.1.8->fastapi[all]->vaex-server<0.7,>=0.6.0->vaex) (2.3)\n",
            "Requirement already satisfied: rx<2,>=1.6 in /usr/local/lib/python3.7/dist-packages (from graphql-core<3,>=2.1->graphene<3.0.0,>=2.1.8->fastapi[all]->vaex-server<0.7,>=0.6.0->vaex) (1.6.1)\n",
            "Requirement already satisfied: MarkupSafe>=0.23 in /usr/local/lib/python3.7/dist-packages (from jinja2->vaex-ml<0.14,>=0.13.0->vaex) (2.0.1)\n",
            "Requirement already satisfied: typing-extensions>=3.7.4.3 in /usr/local/lib/python3.7/dist-packages (from pydantic!=1.7,!=1.7.1,!=1.7.2,!=1.7.3,!=1.8,!=1.8.1,<2.0.0,>=1.6.2->fastapi[all]->vaex-server<0.7,>=0.6.0->vaex) (3.7.4.3)\n",
            "Requirement already satisfied: charset-normalizer~=2.0.0 in /usr/local/lib/python3.7/dist-packages (from requests->vaex-core<5,>=4.4.0->vaex) (2.0.4)\n",
            "Requirement already satisfied: urllib3<1.27,>=1.21.1 in /usr/local/lib/python3.7/dist-packages (from requests->vaex-core<5,>=4.4.0->vaex) (1.24.3)\n",
            "Requirement already satisfied: certifi>=2017.4.17 in /usr/local/lib/python3.7/dist-packages (from requests->vaex-core<5,>=4.4.0->vaex) (2021.5.30)\n",
            "Requirement already satisfied: h11>=0.8 in /usr/local/lib/python3.7/dist-packages (from uvicorn[standard]<0.14.0,>=0.12.0->fastapi[all]->vaex-server<0.7,>=0.6.0->vaex) (0.12.0)\n",
            "Requirement already satisfied: click==7.* in /usr/local/lib/python3.7/dist-packages (from uvicorn[standard]<0.14.0,>=0.12.0->fastapi[all]->vaex-server<0.7,>=0.6.0->vaex) (7.1.2)\n",
            "Requirement already satisfied: uvloop!=0.15.0,!=0.15.1,>=0.14.0 in /usr/local/lib/python3.7/dist-packages (from uvicorn[standard]<0.14.0,>=0.12.0->fastapi[all]->vaex-server<0.7,>=0.6.0->vaex) (0.16.0)\n",
            "Requirement already satisfied: websockets==8.* in /usr/local/lib/python3.7/dist-packages (from uvicorn[standard]<0.14.0,>=0.12.0->fastapi[all]->vaex-server<0.7,>=0.6.0->vaex) (8.1)\n",
            "Requirement already satisfied: python-dotenv>=0.13 in /usr/local/lib/python3.7/dist-packages (from uvicorn[standard]<0.14.0,>=0.12.0->fastapi[all]->vaex-server<0.7,>=0.6.0->vaex) (0.19.0)\n",
            "Requirement already satisfied: watchgod>=0.6 in /usr/local/lib/python3.7/dist-packages (from uvicorn[standard]<0.14.0,>=0.12.0->fastapi[all]->vaex-server<0.7,>=0.6.0->vaex) (0.7)\n",
            "Requirement already satisfied: httptools==0.1.* in /usr/local/lib/python3.7/dist-packages (from uvicorn[standard]<0.14.0,>=0.12.0->fastapi[all]->vaex-server<0.7,>=0.6.0->vaex) (0.1.2)\n",
            "Requirement already satisfied: zipp>=0.5 in /usr/local/lib/python3.7/dist-packages (from importlib-metadata->astropy->vaex-astro<0.9,>=0.8.3->vaex) (3.5.0)\n",
            "Requirement already satisfied: entrypoints>=0.2.2 in /usr/local/lib/python3.7/dist-packages (from nbconvert->notebook>=4.4.1->widgetsnbextension~=3.5.0->ipywidgets>=7.5.0->bqplot>=0.10.1->vaex-jupyter<0.7,>=0.6.0->vaex) (0.3)\n",
            "Requirement already satisfied: pandocfilters>=1.4.1 in /usr/local/lib/python3.7/dist-packages (from nbconvert->notebook>=4.4.1->widgetsnbextension~=3.5.0->ipywidgets>=7.5.0->bqplot>=0.10.1->vaex-jupyter<0.7,>=0.6.0->vaex) (1.4.3)\n",
            "Requirement already satisfied: testpath in /usr/local/lib/python3.7/dist-packages (from nbconvert->notebook>=4.4.1->widgetsnbextension~=3.5.0->ipywidgets>=7.5.0->bqplot>=0.10.1->vaex-jupyter<0.7,>=0.6.0->vaex) (0.5.0)\n",
            "Requirement already satisfied: defusedxml in /usr/local/lib/python3.7/dist-packages (from nbconvert->notebook>=4.4.1->widgetsnbextension~=3.5.0->ipywidgets>=7.5.0->bqplot>=0.10.1->vaex-jupyter<0.7,>=0.6.0->vaex) (0.7.1)\n",
            "Requirement already satisfied: bleach in /usr/local/lib/python3.7/dist-packages (from nbconvert->notebook>=4.4.1->widgetsnbextension~=3.5.0->ipywidgets>=7.5.0->bqplot>=0.10.1->vaex-jupyter<0.7,>=0.6.0->vaex) (4.0.0)\n",
            "Requirement already satisfied: mistune<2,>=0.8.1 in /usr/local/lib/python3.7/dist-packages (from nbconvert->notebook>=4.4.1->widgetsnbextension~=3.5.0->ipywidgets>=7.5.0->bqplot>=0.10.1->vaex-jupyter<0.7,>=0.6.0->vaex) (0.8.4)\n",
            "Requirement already satisfied: webencodings in /usr/local/lib/python3.7/dist-packages (from bleach->nbconvert->notebook>=4.4.1->widgetsnbextension~=3.5.0->ipywidgets>=7.5.0->bqplot>=0.10.1->vaex-jupyter<0.7,>=0.6.0->vaex) (0.5.1)\n",
            "Requirement already satisfied: packaging in /usr/local/lib/python3.7/dist-packages (from bleach->nbconvert->notebook>=4.4.1->widgetsnbextension~=3.5.0->ipywidgets>=7.5.0->bqplot>=0.10.1->vaex-jupyter<0.7,>=0.6.0->vaex) (21.0)\n",
            "Requirement already satisfied: llvmlite<0.35,>=0.34.0.dev0 in /usr/local/lib/python3.7/dist-packages (from numba->vaex-ml<0.14,>=0.13.0->vaex) (0.34.0)\n",
            "Requirement already satisfied: pytz>=2017.2 in /usr/local/lib/python3.7/dist-packages (from pandas->vaex-core<5,>=4.4.0->vaex) (2018.9)\n",
            "Requirement already satisfied: python-utils>=2.3.0 in /usr/local/lib/python3.7/dist-packages (from progressbar2->vaex-core<5,>=4.4.0->vaex) (2.5.6)\n",
            "Requirement already satisfied: ipython==7.0.0 in /usr/local/lib/python3.7/dist-packages (7.0.0)\n",
            "Requirement already satisfied: pygments in /usr/local/lib/python3.7/dist-packages (from ipython==7.0.0) (2.6.1)\n",
            "Requirement already satisfied: jedi>=0.10 in /usr/local/lib/python3.7/dist-packages (from ipython==7.0.0) (0.18.0)\n",
            "Requirement already satisfied: prompt-toolkit<2.1.0,>=2.0.0 in /usr/local/lib/python3.7/dist-packages (from ipython==7.0.0) (2.0.10)\n",
            "Requirement already satisfied: simplegeneric>0.8 in /usr/local/lib/python3.7/dist-packages (from ipython==7.0.0) (0.8.1)\n",
            "Requirement already satisfied: traitlets>=4.2 in /usr/local/lib/python3.7/dist-packages (from ipython==7.0.0) (5.0.5)\n",
            "Requirement already satisfied: pexpect in /usr/local/lib/python3.7/dist-packages (from ipython==7.0.0) (4.8.0)\n",
            "Requirement already satisfied: decorator in /usr/local/lib/python3.7/dist-packages (from ipython==7.0.0) (4.4.2)\n",
            "Requirement already satisfied: pickleshare in /usr/local/lib/python3.7/dist-packages (from ipython==7.0.0) (0.7.5)\n",
            "Requirement already satisfied: backcall in /usr/local/lib/python3.7/dist-packages (from ipython==7.0.0) (0.2.0)\n",
            "Requirement already satisfied: setuptools>=18.5 in /usr/local/lib/python3.7/dist-packages (from ipython==7.0.0) (57.4.0)\n",
            "Requirement already satisfied: parso<0.9.0,>=0.8.0 in /usr/local/lib/python3.7/dist-packages (from jedi>=0.10->ipython==7.0.0) (0.8.2)\n",
            "Requirement already satisfied: wcwidth in /usr/local/lib/python3.7/dist-packages (from prompt-toolkit<2.1.0,>=2.0.0->ipython==7.0.0) (0.2.5)\n",
            "Requirement already satisfied: six>=1.9.0 in /usr/local/lib/python3.7/dist-packages (from prompt-toolkit<2.1.0,>=2.0.0->ipython==7.0.0) (1.15.0)\n",
            "Requirement already satisfied: ipython-genutils in /usr/local/lib/python3.7/dist-packages (from traitlets>=4.2->ipython==7.0.0) (0.2.0)\n",
            "Requirement already satisfied: ptyprocess>=0.5 in /usr/local/lib/python3.7/dist-packages (from pexpect->ipython==7.0.0) (0.7.0)\n"
          ],
          "name": "stdout"
        }
      ]
    },
    {
      "cell_type": "code",
      "metadata": {
        "id": "cMUjdyYfM6oi"
      },
      "source": [
        "import os \n",
        "import numpy as np\n",
        "import matplotlib.pyplot as plt\n",
        "import vaex"
      ],
      "execution_count": null,
      "outputs": []
    },
    {
      "cell_type": "code",
      "metadata": {
        "id": "jRRigEFUNUw1"
      },
      "source": [
        "os.chdir('/content/drive/MyDrive/Colab Notebooks/GearboxProject/PHM09_competition_1')"
      ],
      "execution_count": null,
      "outputs": []
    },
    {
      "cell_type": "code",
      "metadata": {
        "id": "RwaxmTNcOf5m",
        "colab": {
          "base_uri": "https://localhost:8080/"
        },
        "outputId": "e7cebd31-7c9b-46bc-ff0c-ed4ac19eb309"
      },
      "source": [
        "%%time\n",
        "vaex_df = vaex.from_csv('Run_10.csv', convert=True, chunk_size=5000\n",
        "                        ,names=[\"input_Voltage\",\"output_Voltage\",\"RPM\"])"
      ],
      "execution_count": null,
      "outputs": [
        {
          "output_type": "stream",
          "text": [
            "CPU times: user 575 ms, sys: 55.4 ms, total: 630 ms\n",
            "Wall time: 652 ms\n"
          ],
          "name": "stdout"
        }
      ]
    },
    {
      "cell_type": "code",
      "metadata": {
        "id": "DVSCj6d_dJse",
        "colab": {
          "base_uri": "https://localhost:8080/",
          "height": 255
        },
        "outputId": "4fe6865b-4179-48d8-881f-9c3f68ac76af"
      },
      "source": [
        "vaex_df"
      ],
      "execution_count": null,
      "outputs": [
        {
          "output_type": "execute_result",
          "data": {
            "text/plain": [
              "#        input_Voltage          output_Voltage        RPM\n",
              "0        0.03952                -0.0038147            4.9329\n",
              "1        0.033417               -0.0018311            4.9304\n",
              "2        0.029907               0.006713899999999999  4.928\n",
              "3        0.030364999999999996   0.012665000000000001  4.9304\n",
              "4        0.033722               0.012206999999999999  4.9219\n",
              "...      ...                    ...                   ...\n",
              "133,323  -0.050506999999999996  -0.032043             4.9097\n",
              "133,324  -0.041656              -0.030975             4.9182\n",
              "133,325  -0.030212              -0.029449             4.9109\n",
              "133,326  -0.019531              -0.021973             4.9243\n",
              "133,327  -0.0093079             -0.015259             4.9207"
            ],
            "text/html": [
              "<table>\n",
              "<thead>\n",
              "<tr><th>#                                  </th><th>input_Voltage        </th><th>output_Voltage      </th><th>RPM   </th></tr>\n",
              "</thead>\n",
              "<tbody>\n",
              "<tr><td><i style='opacity: 0.6'>0</i>      </td><td>0.03952              </td><td>-0.0038147          </td><td>4.9329</td></tr>\n",
              "<tr><td><i style='opacity: 0.6'>1</i>      </td><td>0.033417             </td><td>-0.0018311          </td><td>4.9304</td></tr>\n",
              "<tr><td><i style='opacity: 0.6'>2</i>      </td><td>0.029907             </td><td>0.006713899999999999</td><td>4.928 </td></tr>\n",
              "<tr><td><i style='opacity: 0.6'>3</i>      </td><td>0.030364999999999996 </td><td>0.012665000000000001</td><td>4.9304</td></tr>\n",
              "<tr><td><i style='opacity: 0.6'>4</i>      </td><td>0.033722             </td><td>0.012206999999999999</td><td>4.9219</td></tr>\n",
              "<tr><td>...                                </td><td>...                  </td><td>...                 </td><td>...   </td></tr>\n",
              "<tr><td><i style='opacity: 0.6'>133,323</i></td><td>-0.050506999999999996</td><td>-0.032043           </td><td>4.9097</td></tr>\n",
              "<tr><td><i style='opacity: 0.6'>133,324</i></td><td>-0.041656            </td><td>-0.030975           </td><td>4.9182</td></tr>\n",
              "<tr><td><i style='opacity: 0.6'>133,325</i></td><td>-0.030212            </td><td>-0.029449           </td><td>4.9109</td></tr>\n",
              "<tr><td><i style='opacity: 0.6'>133,326</i></td><td>-0.019531            </td><td>-0.021973           </td><td>4.9243</td></tr>\n",
              "<tr><td><i style='opacity: 0.6'>133,327</i></td><td>-0.0093079           </td><td>-0.015259           </td><td>4.9207</td></tr>\n",
              "</tbody>\n",
              "</table>"
            ]
          },
          "metadata": {},
          "execution_count": 5
        }
      ]
    },
    {
      "cell_type": "code",
      "metadata": {
        "id": "rFdW3NTie4rh",
        "colab": {
          "base_uri": "https://localhost:8080/"
        },
        "outputId": "89dec4c4-d715-4ab7-eaa1-9e6ecb1f1197"
      },
      "source": [
        "vaex_df.input_Voltage.value_counts()"
      ],
      "execution_count": null,
      "outputs": [
        {
          "output_type": "execute_result",
          "data": {
            "text/plain": [
              " 0.024261    514\n",
              " 0.024872    435\n",
              " 0.021210    433\n",
              " 0.020447    431\n",
              " 0.019989    427\n",
              "            ... \n",
              " 0.110470      1\n",
              " 0.110930      1\n",
              " 0.111690      1\n",
              " 0.111850      1\n",
              "-0.096283      1\n",
              "Length: 1332, dtype: int64"
            ]
          },
          "metadata": {},
          "execution_count": 6
        }
      ]
    },
    {
      "cell_type": "code",
      "metadata": {
        "id": "3qbZjHZiP3ij",
        "colab": {
          "base_uri": "https://localhost:8080/",
          "height": 263
        },
        "outputId": "67a0048c-72d1-40a0-9262-23aa01e0b27b"
      },
      "source": [
        "vaex_df.describe()"
      ],
      "execution_count": null,
      "outputs": [
        {
          "output_type": "execute_result",
          "data": {
            "text/html": [
              "<div>\n",
              "<style scoped>\n",
              "    .dataframe tbody tr th:only-of-type {\n",
              "        vertical-align: middle;\n",
              "    }\n",
              "\n",
              "    .dataframe tbody tr th {\n",
              "        vertical-align: top;\n",
              "    }\n",
              "\n",
              "    .dataframe thead th {\n",
              "        text-align: right;\n",
              "    }\n",
              "</style>\n",
              "<table border=\"1\" class=\"dataframe\">\n",
              "  <thead>\n",
              "    <tr style=\"text-align: right;\">\n",
              "      <th></th>\n",
              "      <th>input_Voltage</th>\n",
              "      <th>output_Voltage</th>\n",
              "      <th>RPM</th>\n",
              "    </tr>\n",
              "  </thead>\n",
              "  <tbody>\n",
              "    <tr>\n",
              "      <th>data_type</th>\n",
              "      <td>float64</td>\n",
              "      <td>float64</td>\n",
              "      <td>float64</td>\n",
              "    </tr>\n",
              "    <tr>\n",
              "      <th>count</th>\n",
              "      <td>133328</td>\n",
              "      <td>133328</td>\n",
              "      <td>133328</td>\n",
              "    </tr>\n",
              "    <tr>\n",
              "      <th>NA</th>\n",
              "      <td>0</td>\n",
              "      <td>0</td>\n",
              "      <td>0</td>\n",
              "    </tr>\n",
              "    <tr>\n",
              "      <th>mean</th>\n",
              "      <td>0.02152790134135276</td>\n",
              "      <td>0.0006651127457098245</td>\n",
              "      <td>2.389053887496974</td>\n",
              "    </tr>\n",
              "    <tr>\n",
              "      <th>std</th>\n",
              "      <td>0.0256943</td>\n",
              "      <td>0.0156494</td>\n",
              "      <td>2.42737</td>\n",
              "    </tr>\n",
              "    <tr>\n",
              "      <th>min</th>\n",
              "      <td>-0.096283</td>\n",
              "      <td>-0.066376</td>\n",
              "      <td>-0.60547</td>\n",
              "    </tr>\n",
              "    <tr>\n",
              "      <th>max</th>\n",
              "      <td>0.13336</td>\n",
              "      <td>0.06897</td>\n",
              "      <td>4.9536</td>\n",
              "    </tr>\n",
              "  </tbody>\n",
              "</table>\n",
              "</div>"
            ],
            "text/plain": [
              "                 input_Voltage         output_Voltage                RPM\n",
              "data_type              float64                float64            float64\n",
              "count                   133328                 133328             133328\n",
              "NA                           0                      0                  0\n",
              "mean       0.02152790134135276  0.0006651127457098245  2.389053887496974\n",
              "std                  0.0256943              0.0156494            2.42737\n",
              "min                  -0.096283              -0.066376           -0.60547\n",
              "max                    0.13336                0.06897             4.9536"
            ]
          },
          "metadata": {},
          "execution_count": 7
        }
      ]
    },
    {
      "cell_type": "code",
      "metadata": {
        "id": "JJH0y3MFZBSf",
        "colab": {
          "base_uri": "https://localhost:8080/"
        },
        "outputId": "8789e152-ce22-4658-b463-b1b33528edca"
      },
      "source": [
        "vaex_df.input_Voltage.value_counts()"
      ],
      "execution_count": null,
      "outputs": [
        {
          "output_type": "execute_result",
          "data": {
            "text/plain": [
              " 0.024261    514\n",
              " 0.024872    435\n",
              " 0.021210    433\n",
              " 0.020447    431\n",
              " 0.019989    427\n",
              "            ... \n",
              " 0.110470      1\n",
              " 0.110930      1\n",
              " 0.111690      1\n",
              " 0.111850      1\n",
              "-0.096283      1\n",
              "Length: 1332, dtype: int64"
            ]
          },
          "metadata": {},
          "execution_count": 8
        }
      ]
    },
    {
      "cell_type": "code",
      "metadata": {
        "id": "HA1jxIGNXOok",
        "colab": {
          "base_uri": "https://localhost:8080/",
          "height": 332
        },
        "outputId": "f378c7c1-4177-44a2-8e80-a16d33c062f3"
      },
      "source": [
        "vaex_df.plot1d(vaex_df.input_Voltage);"
      ],
      "execution_count": null,
      "outputs": [
        {
          "output_type": "stream",
          "text": [
            "/usr/local/lib/python3.7/dist-packages/vaex/viz/mpl.py:46: UserWarning: `plot1d` is deprecated and it will be removed in version 5.x. Please use `df.viz.histogram` instead.\n",
            "  warnings.warn('`plot1d` is deprecated and it will be removed in version 5.x. Please use `df.viz.histogram` instead.')\n"
          ],
          "name": "stderr"
        },
        {
          "output_type": "display_data",
          "data": {
            "image/png": "[encoded data removed]",
            "text/plain": [
              "<Figure size 432x288 with 1 Axes>"
            ]
          },
          "metadata": {
            "needs_background": "light"
          }
        }
      ]
    },
    {
      "cell_type": "code",
      "metadata": {
        "id": "65Dt1Gi1Y7r5",
        "colab": {
          "base_uri": "https://localhost:8080/",
          "height": 332
        },
        "outputId": "9d074928-1dd2-493d-b500-04cee25ba32c"
      },
      "source": [
        "vaex_df.plot(vaex_df.input_Voltage, \n",
        "             vaex_df.RPM, \n",
        "             what=vaex.stat.mean(vaex_df.RPM))"
      ],
      "execution_count": null,
      "outputs": [
        {
          "output_type": "stream",
          "text": [
            "/usr/local/lib/python3.7/dist-packages/vaex/viz/mpl.py:311: UserWarning: `plot` is deprecated and it will be removed in version 5.x. Please `df.viz.heatmap` instead.\n",
            "  warnings.warn('`plot` is deprecated and it will be removed in version 5.x. Please `df.viz.heatmap` instead.')\n"
          ],
          "name": "stderr"
        },
        {
          "output_type": "display_data",
          "data": {
            "image/png": "[encoded data removed]",
            "text/plain": [
              "<Figure size 432x288 with 2 Axes>"
            ]
          },
          "metadata": {
            "needs_background": "light"
          }
        }
      ]
    },
    {
      "cell_type": "code",
      "metadata": {
        "id": "OhmYiLyBZqUO"
      },
      "source": [
        "# TO DO \n",
        "#plt.plot(vaex_df.input_Voltage)"
      ],
      "execution_count": null,
      "outputs": []
    },
    {
      "cell_type": "code",
      "metadata": {
        "colab": {
          "base_uri": "https://localhost:8080/",
          "height": 255
        },
        "id": "lKrEE2xVK8Eo",
        "outputId": "a4920468-ecfc-4031-dc84-455ff06f956b"
      },
      "source": [
        "#vaex_df\n",
        "\n",
        "#vaex_df.shape\n",
        "#len(vaex_df)\n",
        "vaex_df\n",
        "#train = df[msk]\n",
        "#test = df[~msk]\n",
        "\n",
        "#train = train.reset_index(drop=True)\n",
        "#test = test.reset_index(drop=True)"
      ],
      "execution_count": null,
      "outputs": [
        {
          "output_type": "execute_result",
          "data": {
            "text/plain": [
              "#        input_Voltage          output_Voltage        RPM\n",
              "0        0.03952                -0.0038147            4.9329\n",
              "1        0.033417               -0.0018311            4.9304\n",
              "2        0.029907               0.006713899999999999  4.928\n",
              "3        0.030364999999999996   0.012665000000000001  4.9304\n",
              "4        0.033722               0.012206999999999999  4.9219\n",
              "...      ...                    ...                   ...\n",
              "133,323  -0.050506999999999996  -0.032043             4.9097\n",
              "133,324  -0.041656              -0.030975             4.9182\n",
              "133,325  -0.030212              -0.029449             4.9109\n",
              "133,326  -0.019531              -0.021973             4.9243\n",
              "133,327  -0.0093079             -0.015259             4.9207"
            ],
            "text/html": [
              "<table>\n",
              "<thead>\n",
              "<tr><th>#                                  </th><th>input_Voltage        </th><th>output_Voltage      </th><th>RPM   </th></tr>\n",
              "</thead>\n",
              "<tbody>\n",
              "<tr><td><i style='opacity: 0.6'>0</i>      </td><td>0.03952              </td><td>-0.0038147          </td><td>4.9329</td></tr>\n",
              "<tr><td><i style='opacity: 0.6'>1</i>      </td><td>0.033417             </td><td>-0.0018311          </td><td>4.9304</td></tr>\n",
              "<tr><td><i style='opacity: 0.6'>2</i>      </td><td>0.029907             </td><td>0.006713899999999999</td><td>4.928 </td></tr>\n",
              "<tr><td><i style='opacity: 0.6'>3</i>      </td><td>0.030364999999999996 </td><td>0.012665000000000001</td><td>4.9304</td></tr>\n",
              "<tr><td><i style='opacity: 0.6'>4</i>      </td><td>0.033722             </td><td>0.012206999999999999</td><td>4.9219</td></tr>\n",
              "<tr><td>...                                </td><td>...                  </td><td>...                 </td><td>...   </td></tr>\n",
              "<tr><td><i style='opacity: 0.6'>133,323</i></td><td>-0.050506999999999996</td><td>-0.032043           </td><td>4.9097</td></tr>\n",
              "<tr><td><i style='opacity: 0.6'>133,324</i></td><td>-0.041656            </td><td>-0.030975           </td><td>4.9182</td></tr>\n",
              "<tr><td><i style='opacity: 0.6'>133,325</i></td><td>-0.030212            </td><td>-0.029449           </td><td>4.9109</td></tr>\n",
              "<tr><td><i style='opacity: 0.6'>133,326</i></td><td>-0.019531            </td><td>-0.021973           </td><td>4.9243</td></tr>\n",
              "<tr><td><i style='opacity: 0.6'>133,327</i></td><td>-0.0093079           </td><td>-0.015259           </td><td>4.9207</td></tr>\n",
              "</tbody>\n",
              "</table>"
            ]
          },
          "metadata": {},
          "execution_count": 12
        }
      ]
    },
    {
      "cell_type": "markdown",
      "metadata": {
        "id": "7_RlfPZpO9Yb"
      },
      "source": [
        "# Regression -> Features"
      ]
    },
    {
      "cell_type": "code",
      "metadata": {
        "id": "ggaXVyKIcLRj"
      },
      "source": [
        "import lightgbm\n",
        "import vaex.ml.sklearn"
      ],
      "execution_count": null,
      "outputs": []
    },
    {
      "cell_type": "code",
      "metadata": {
        "id": "VSUceeyPcyu3"
      },
      "source": [
        "# Features on which to train the model\n",
        "train_features = ['input_Voltage',\t'output_Voltage']\n",
        "train_labels = 'RPM'\n",
        "# Features on which to train the model\n",
        "test_features = ['input_Voltage','output_Voltage']\n",
        "test_labels = 'RPM'"
      ],
      "execution_count": null,
      "outputs": []
    },
    {
      "cell_type": "code",
      "metadata": {
        "colab": {
          "base_uri": "https://localhost:8080/",
          "height": 255
        },
        "id": "IYy9Q_NoEt9w",
        "outputId": "43940e01-da5d-4b0a-ce94-f65f3c2ba68c"
      },
      "source": [
        "# Feature Normalization\n",
        "scaler = vaex.ml.StandardScaler(features=train_features, prefix='scaled_')\n",
        "scaler.fit(vaex_df)\n",
        "df_trans = scaler.transform(vaex_df)\n",
        "df_trans"
      ],
      "execution_count": null,
      "outputs": [
        {
          "output_type": "execute_result",
          "data": {
            "text/plain": [
              "#        input_Voltage          output_Voltage        RPM     scaled_input_Voltage    scaled_output_Voltage\n",
              "0        0.03952                -0.0038147            4.9329  0.70023764784573        -0.28626090924157843\n",
              "1        0.033417               -0.0018311            4.9304  0.4627139189088178      -0.15950848189617542\n",
              "2        0.029907               0.006713899999999999  4.928   0.32610761240897135     0.38651868671970924\n",
              "3        0.030364999999999996   0.012665000000000001  4.9304  0.3439325948525409      0.7667951388145007\n",
              "4        0.033722               0.012206999999999999  4.9219  0.47458426747931726     0.7375288493790324\n",
              "...      ...                    ...                   ...     ...                     ...\n",
              "133,323  -0.050506999999999996  -0.032043             4.9097  -2.8035389775849437     -2.0900547914931615\n",
              "133,324  -0.041656              -0.030975             4.9182  -2.459065353986613      -2.021809382940585\n",
              "133,325  -0.030212              -0.029449             4.9109  -2.013674307951217      -1.9242976849525408\n",
              "133,326  -0.019531              -0.021973             4.9243  -1.59797859292989       -1.4465798250845066\n",
              "133,327  -0.0093079             -0.015259             4.9207  -1.2001039684345682     -1.0175539140152203"
            ],
            "text/html": [
              "<table>\n",
              "<thead>\n",
              "<tr><th>#                                  </th><th>input_Voltage        </th><th>output_Voltage      </th><th>RPM   </th><th>scaled_input_Voltage  </th><th>scaled_output_Voltage  </th></tr>\n",
              "</thead>\n",
              "<tbody>\n",
              "<tr><td><i style='opacity: 0.6'>0</i>      </td><td>0.03952              </td><td>-0.0038147          </td><td>4.9329</td><td>0.70023764784573      </td><td>-0.28626090924157843   </td></tr>\n",
              "<tr><td><i style='opacity: 0.6'>1</i>      </td><td>0.033417             </td><td>-0.0018311          </td><td>4.9304</td><td>0.4627139189088178    </td><td>-0.15950848189617542   </td></tr>\n",
              "<tr><td><i style='opacity: 0.6'>2</i>      </td><td>0.029907             </td><td>0.006713899999999999</td><td>4.928 </td><td>0.32610761240897135   </td><td>0.38651868671970924    </td></tr>\n",
              "<tr><td><i style='opacity: 0.6'>3</i>      </td><td>0.030364999999999996 </td><td>0.012665000000000001</td><td>4.9304</td><td>0.3439325948525409    </td><td>0.7667951388145007     </td></tr>\n",
              "<tr><td><i style='opacity: 0.6'>4</i>      </td><td>0.033722             </td><td>0.012206999999999999</td><td>4.9219</td><td>0.47458426747931726   </td><td>0.7375288493790324     </td></tr>\n",
              "<tr><td>...                                </td><td>...                  </td><td>...                 </td><td>...   </td><td>...                   </td><td>...                    </td></tr>\n",
              "<tr><td><i style='opacity: 0.6'>133,323</i></td><td>-0.050506999999999996</td><td>-0.032043           </td><td>4.9097</td><td>-2.8035389775849437   </td><td>-2.0900547914931615    </td></tr>\n",
              "<tr><td><i style='opacity: 0.6'>133,324</i></td><td>-0.041656            </td><td>-0.030975           </td><td>4.9182</td><td>-2.459065353986613    </td><td>-2.021809382940585     </td></tr>\n",
              "<tr><td><i style='opacity: 0.6'>133,325</i></td><td>-0.030212            </td><td>-0.029449           </td><td>4.9109</td><td>-2.013674307951217    </td><td>-1.9242976849525408    </td></tr>\n",
              "<tr><td><i style='opacity: 0.6'>133,326</i></td><td>-0.019531            </td><td>-0.021973           </td><td>4.9243</td><td>-1.59797859292989     </td><td>-1.4465798250845066    </td></tr>\n",
              "<tr><td><i style='opacity: 0.6'>133,327</i></td><td>-0.0093079           </td><td>-0.015259           </td><td>4.9207</td><td>-1.2001039684345682   </td><td>-1.0175539140152203    </td></tr>\n",
              "</tbody>\n",
              "</table>"
            ]
          },
          "metadata": {},
          "execution_count": 15
        }
      ]
    },
    {
      "cell_type": "code",
      "metadata": {
        "id": "SvkO_W9YJu7_"
      },
      "source": [
        "train_features = ['scaled_input_Voltage',\t'scaled_output_Voltage']\n",
        "train_labels = 'RPM'"
      ],
      "execution_count": null,
      "outputs": []
    },
    {
      "cell_type": "code",
      "metadata": {
        "id": "cnOziP8QcvNo",
        "colab": {
          "base_uri": "https://localhost:8080/"
        },
        "outputId": "86ef0610-be07-4a84-d928-dd4abc032b94"
      },
      "source": [
        "df_train, df_test = df_trans.ml.train_test_split(test_size=0.2)"
      ],
      "execution_count": null,
      "outputs": [
        {
          "output_type": "stream",
          "text": [
            "/usr/local/lib/python3.7/dist-packages/vaex/ml/__init__.py:31: UserWarning: Make sure the DataFrame is shuffled\n",
            "  warnings.warn('Make sure the DataFrame is shuffled')\n"
          ],
          "name": "stderr"
        }
      ]
    },
    {
      "cell_type": "code",
      "metadata": {
        "colab": {
          "base_uri": "https://localhost:8080/"
        },
        "id": "Kljlt5ylNip1",
        "outputId": "be575848-42e2-41ef-e56c-ca5bae62a54e"
      },
      "source": [
        "print(df_train.shape)\n",
        "print(df_test.shape)\n",
        "print(df_test.shape[0]+df_train.shape[0])\n",
        "print(vaex_df.shape[0])\n",
        "print((df_test.shape[0])/(df_train.shape[0]))"
      ],
      "execution_count": null,
      "outputs": [
        {
          "output_type": "stream",
          "text": [
            "(106662, 5)\n",
            "(26666, 5)\n",
            "133328\n",
            "133328\n",
            "0.2500046877050871\n"
          ],
          "name": "stdout"
        }
      ]
    },
    {
      "cell_type": "code",
      "metadata": {
        "id": "hK9NczaBd4NH",
        "colab": {
          "base_uri": "https://localhost:8080/",
          "height": 255
        },
        "outputId": "645a5e21-b347-46e9-d28a-7655f93a1194"
      },
      "source": [
        "# Instantiate the LightGBM Classifier\n",
        "booster = lightgbm.sklearn.LGBMRegressor(num_leaves=10,\n",
        "                                          max_depth=10,\n",
        "                                          n_estimators=100,\n",
        "                                          random_state=42)\n",
        "\n",
        "# Make it a vaex transformer (for the automagic pipeline and lazy predictions)\n",
        "model = vaex.ml.sklearn.Predictor(features=train_features,\n",
        "                                  target=train_labels,\n",
        "                                  model=booster,\n",
        "                                  prediction_name='prediction')\n",
        "\n",
        "# Train and predict\n",
        "model.fit(df=df_train)\n",
        "df_train = model.transform(df=df_train)\n",
        "\n",
        "df_train"
      ],
      "execution_count": null,
      "outputs": [
        {
          "output_type": "execute_result",
          "data": {
            "text/plain": [
              "#        input_Voltage          output_Voltage         RPM                   scaled_input_Voltage    scaled_output_Voltage    prediction\n",
              "0        0.008392299999999998   -0.044556              0.039063              -0.5112267757540612     -2.8896379349560712      2.2133706862748337\n",
              "1        0.0038147              -0.041656              0.041504              -0.6893831941682196     -2.7043273686616227      2.2044639286225745\n",
              "2        -0.0019836             -0.036469              0.045166000000000005  -0.9150482502873247     -2.372877055775655       2.624124281943529\n",
              "3        -0.005188              -0.026855              0.043945              -1.039760856711287      -1.7585405784119201      2.303114784569825\n",
              "4        -0.0050354             -0.017547999999999998  0.052489999999999995  -1.0338217905084732     -1.163821460997287       2.195286922060696\n",
              "...      ...                    ...                    ...                   ...                     ...                      ...\n",
              "106,657  -0.050506999999999996  -0.032043              4.9097                -2.8035389775849437     -2.0900547914931615      2.836774497977038\n",
              "106,658  -0.041656              -0.030975              4.9182                -2.459065353986613      -2.021809382940585       2.6851196643122734\n",
              "106,659  -0.030212              -0.029449              4.9109                -2.013674307951217      -1.9242976849525408      2.3755304475072667\n",
              "106,660  -0.019531              -0.021973              4.9243                -1.59797859292989       -1.4465798250845066      2.151462301804562\n",
              "106,661  -0.0093079             -0.015259              4.9207                -1.2001039684345682     -1.0175539140152203      2.2795232754420125"
            ],
            "text/html": [
              "<table>\n",
              "<thead>\n",
              "<tr><th>#                                  </th><th>input_Voltage        </th><th>output_Voltage       </th><th>RPM                 </th><th>scaled_input_Voltage  </th><th>scaled_output_Voltage  </th><th>prediction        </th></tr>\n",
              "</thead>\n",
              "<tbody>\n",
              "<tr><td><i style='opacity: 0.6'>0</i>      </td><td>0.008392299999999998 </td><td>-0.044556            </td><td>0.039063            </td><td>-0.5112267757540612   </td><td>-2.8896379349560712    </td><td>2.2133706862748337</td></tr>\n",
              "<tr><td><i style='opacity: 0.6'>1</i>      </td><td>0.0038147            </td><td>-0.041656            </td><td>0.041504            </td><td>-0.6893831941682196   </td><td>-2.7043273686616227    </td><td>2.2044639286225745</td></tr>\n",
              "<tr><td><i style='opacity: 0.6'>2</i>      </td><td>-0.0019836           </td><td>-0.036469            </td><td>0.045166000000000005</td><td>-0.9150482502873247   </td><td>-2.372877055775655     </td><td>2.624124281943529 </td></tr>\n",
              "<tr><td><i style='opacity: 0.6'>3</i>      </td><td>-0.005188            </td><td>-0.026855            </td><td>0.043945            </td><td>-1.039760856711287    </td><td>-1.7585405784119201    </td><td>2.303114784569825 </td></tr>\n",
              "<tr><td><i style='opacity: 0.6'>4</i>      </td><td>-0.0050354           </td><td>-0.017547999999999998</td><td>0.052489999999999995</td><td>-1.0338217905084732   </td><td>-1.163821460997287     </td><td>2.195286922060696 </td></tr>\n",
              "<tr><td>...                                </td><td>...                  </td><td>...                  </td><td>...                 </td><td>...                   </td><td>...                    </td><td>...               </td></tr>\n",
              "<tr><td><i style='opacity: 0.6'>106,657</i></td><td>-0.050506999999999996</td><td>-0.032043            </td><td>4.9097              </td><td>-2.8035389775849437   </td><td>-2.0900547914931615    </td><td>2.836774497977038 </td></tr>\n",
              "<tr><td><i style='opacity: 0.6'>106,658</i></td><td>-0.041656            </td><td>-0.030975            </td><td>4.9182              </td><td>-2.459065353986613    </td><td>-2.021809382940585     </td><td>2.6851196643122734</td></tr>\n",
              "<tr><td><i style='opacity: 0.6'>106,659</i></td><td>-0.030212            </td><td>-0.029449            </td><td>4.9109              </td><td>-2.013674307951217    </td><td>-1.9242976849525408    </td><td>2.3755304475072667</td></tr>\n",
              "<tr><td><i style='opacity: 0.6'>106,660</i></td><td>-0.019531            </td><td>-0.021973            </td><td>4.9243              </td><td>-1.59797859292989     </td><td>-1.4465798250845066    </td><td>2.151462301804562 </td></tr>\n",
              "<tr><td><i style='opacity: 0.6'>106,661</i></td><td>-0.0093079           </td><td>-0.015259            </td><td>4.9207              </td><td>-1.2001039684345682   </td><td>-1.0175539140152203    </td><td>2.2795232754420125</td></tr>\n",
              "</tbody>\n",
              "</table>"
            ]
          },
          "metadata": {},
          "execution_count": 19
        }
      ]
    },
    {
      "cell_type": "code",
      "metadata": {
        "colab": {
          "base_uri": "https://localhost:8080/",
          "height": 177
        },
        "id": "BSUcfpmTczW6",
        "outputId": "7e3412fd-8d46-432f-e949-325d8f09ed35"
      },
      "source": [
        "import vaex.ml.tensorflow\n",
        "import tensorflow.keras as K\n",
        "from keras.models import Sequential\n",
        "from keras.layers import Dense, LSTM, Dropout, GRU, Bidirectional\n",
        "#from keras.optimizers import SGD\n",
        "\n",
        "df = vaex_df\n",
        "#df = vaex.example()\n",
        "#df_train, df_valid, df_test = df.split_random([0.8, 0.1, 0.1], random_state=42)\n",
        "df_train, df_valid, df_test = df.split([0.8, 0.1, 0.1])\n",
        "\n",
        "\n",
        "features = ['input_Voltage',\t'output_Voltage']\n",
        "target = 'RPM'\n",
        "\n",
        "# Scaling the features\n",
        "df_train = df_train.ml.minmax_scaler(features=features)\n",
        "features = df_train.get_column_names(regex='^minmax_')\n",
        "\n",
        "# Apply preprocessing to the validation\n",
        "state_prep = df_train.state_get()\n",
        "df_valid.state_set(state_prep)\n",
        "\n",
        "# Generators for the train and validation sets\n",
        "gen_train = df_train.ml.tensorflow.to_keras_generator(features=features, target=target, batch_size=512)\n",
        "gen_valid = df_valid.ml.tensorflow.to_keras_generator(features=features, target=target, batch_size=512)\n",
        "\n",
        "# Create and fit a simple Sequential Keras model\n",
        "'''nn_model = K.Sequential()\n",
        "nn_model.add(K.layers.Dense(1024, activation='elu'))\n",
        "nn_model.add(K.layers.Dense(512, activation='relu'))\n",
        "nn_model.add(K.layers.Dense(256, activation='swish'))\n",
        "nn_model.add(K.layers.Dense(64, activation='relu'))\n",
        "nn_model.add(K.layers.Dense(16, activation='swish'))\n",
        "nn_model.add(K.layers.Dense(8, activation='relu'))\n",
        "nn_model.add(K.layers.Dense(1, activation='linear'))\n",
        "nn_model.compile(optimizer='adam', loss='mse')\n",
        "nn_model.fit(x=gen_train, validation_data=gen_valid, epochs=25, steps_per_epoch=516, validation_steps=65)'''\n",
        "\n",
        "\n",
        "\n",
        "# The LSTM architecture\n",
        "regressor = Sequential()\n",
        "# First LSTM layer with Dropout regularisation\n",
        "#regressor.add(LSTM(units=50, return_sequences=True, input_shape=(features.shape[1],1)))\n",
        "regressor.add(LSTM(units=50, return_sequences=True, input_shape=(df_train.shape[1],1)))\n",
        "\n",
        "regressor.add(Dropout(0.2))\n",
        "# Second LSTM layer\n",
        "regressor.add(LSTM(units=50, return_sequences=True))\n",
        "regressor.add(Dropout(0.2))\n",
        "# Third LSTM layer\n",
        "regressor.add(LSTM(units=50, return_sequences=True))\n",
        "regressor.add(Dropout(0.2))\n",
        "# Fourth LSTM layer\n",
        "regressor.add(LSTM(units=50))\n",
        "regressor.add(Dropout(0.2))\n",
        "# The output layer\n",
        "regressor.add(Dense(units=1))\n",
        "\n",
        "# Compiling the RNN\n",
        "regressor.compile(optimizer='rmsprop',loss='mean_squared_error')\n",
        "\n",
        "# Serialize the model\n",
        "keras_model = vaex.ml.tensorflow.KerasModel(features=features, prediction_name='keras_pred', model=regressor)\n",
        "df_train = keras_model.transform(df_train)\n",
        "\n",
        "# Apply all the transformations to the test set\n",
        "state = df_train.state_get()\n",
        "df_test.state_set(state)\n",
        "\n",
        "# Preview the results\n",
        "df_test.head(5)"
      ],
      "execution_count": null,
      "outputs": [
        {
          "output_type": "stream",
          "text": [
            "Recommended \"steps_per_epoch\" arg: 209.0\n",
            "Recommended \"steps_per_epoch\" arg: 27.0\n",
            "106662 1\n"
          ],
          "name": "stdout"
        },
        {
          "output_type": "execute_result",
          "data": {
            "application/vnd.google.colaboratory.intrinsic+json": {
              "type": "string"
            },
            "text/plain": [
              "\"\\n# The LSTM architecture\\nregressor = Sequential()\\n# First LSTM layer with Dropout regularisation\\n#regressor.add(LSTM(units=50, return_sequences=True, input_shape=(features.shape[1],1)))\\nregressor.add(LSTM(units=50, return_sequences=True, input_shape=(df_train.shape[1],1)))\\n\\nregressor.add(Dropout(0.2))\\n# Second LSTM layer\\nregressor.add(LSTM(units=50, return_sequences=True))\\nregressor.add(Dropout(0.2))\\n# Third LSTM layer\\nregressor.add(LSTM(units=50, return_sequences=True))\\nregressor.add(Dropout(0.2))\\n# Fourth LSTM layer\\nregressor.add(LSTM(units=50))\\nregressor.add(Dropout(0.2))\\n# The output layer\\nregressor.add(Dense(units=1))\\n\\n# Compiling the RNN\\nregressor.compile(optimizer='rmsprop',loss='mean_squared_error')\\n\\n# Serialize the model\\nkeras_model = vaex.ml.tensorflow.KerasModel(features=features, prediction_name='keras_pred', model=regressor)\\ndf_train = keras_model.transform(df_train)\\n\\n# Apply all the transformations to the test set\\nstate = df_train.state_get()\\ndf_test.state_set(state)\\n\\n# Preview the results\\ndf_test.head(5)\""
            ]
          },
          "metadata": {},
          "execution_count": 28
        }
      ]
    },
    {
      "cell_type": "code",
      "metadata": {
        "id": "Swy_ye4gcjZz"
      },
      "source": [
        ""
      ],
      "execution_count": null,
      "outputs": []
    },
    {
      "cell_type": "code",
      "metadata": {
        "id": "jqFntbv3cqu8"
      },
      "source": [
        ""
      ],
      "execution_count": null,
      "outputs": []
    },
    {
      "cell_type": "markdown",
      "metadata": {
        "id": "nxKeX1dumrln"
      },
      "source": [
        ""
      ]
    },
    {
      "cell_type": "markdown",
      "metadata": {
        "id": "d_ZkKw9smsx5"
      },
      "source": [
        "# CNN based spectrogram classification"
      ]
    },
    {
      "cell_type": "markdown",
      "metadata": {
        "id": "qI9e04n7mxb_"
      },
      "source": [
        "## Data reading and spectrogram generation"
      ]
    },
    {
      "cell_type": "code",
      "metadata": {
        "id": "yJrwgYgEmw9X"
      },
      "source": [
        "import os \n",
        "import tensorflow as tf\n",
        "import pandas as pd\n",
        "import numpy as np\n",
        "import matplotlib.pyplot as plt\n",
        "from pylab import rcParams\n",
        "from tqdm.notebook import tqdm\n",
        "import cv2 \n",
        "rcParams['figure.figsize'] = 50, 30"
      ],
      "execution_count": 17,
      "outputs": []
    },
    {
      "cell_type": "code",
      "metadata": {
        "id": "UbbWgxPBR4gW"
      },
      "source": [
        "BASELINE = \"/content/drive/MyDrive/Colab Notebooks/GearboxProject/pre_labelled/Spur Gearbox\"\n",
        "SPURS = ['spur 1', 'spur 2', 'spur 3', 'spur 3', 'spur 4','spur 5', 'spur 6', 'spur 7','spur 8']\n",
        "# SPURS = ['spur 4','spur 5', 'spur 6', 'spur 7','spur 8']\n"
      ],
      "execution_count": 3,
      "outputs": []
    },
    {
      "cell_type": "code",
      "metadata": {
        "colab": {
          "base_uri": "https://localhost:8080/",
          "height": 0,
          "referenced_widgets": [
            "aa210d9080e149889a4ce551d0835cdf",
            "5552aed5d2f84b1e9125fb56e400e089",
            "10ad2e5b79384e54be5c4bbc0fba6596",
            "07b0fd424ff445bb809d38d72de825cd",
            "32ad44815e8a4b7ebf38ce85e54e1fb5",
            "2c39e61cb60a4fc2b4b6af0584d774d9",
            "8ef3bb460c5b48deb799cf0efd042a85",
            "9a5b2bde825648d49f1d295bbd58b139",
            "fd7d4a807d414f8c86fe4409957f7892",
            "f502a9ee6bc84232b4bd8480bc3143e9",
            "5643f8a55b7e43d08dd2e8d14492ed89",
            "daae7712c8a848a9b7e89439000902bc",
            "fb5c25c93d0249e898ddbf9a5cd1f413",
            "72881d9aa11348a6a28d7356d54af319",
            "ee1a9e8db78f49dcbd4303bd58d18927",
            "c38f410b11d0488c8d5f4a45f24d078b",
            "e6f9556657b441d2889082d61b8f6e92",
            "680b3a5b178d46e79799c653ffed97e0",
            "674ee30006e34d5ab6b0d5c2e8cbe41a",
            "57365ac0c76e4295a18c6f04bf2f7cce",
            "c13dfe98c66f4b95be25f3f763a5c62e",
            "82a673c0d278469c8d289c64bd0d54d0",
            "1abe3d79f3544d7bb77ad117e1f99208",
            "556ba30984144447a17c02c220b12118",
            "6754006648aa477ca48c1295590c67ec",
            "e44f270b999c4de89f3f05b70acc1c74",
            "9ee42ddb1e0b443fa1f8525314c0336c",
            "b23f071a8e6242218a1b3a1f3765e891",
            "b1733256cb3145a7af2b429d7e5cd13a",
            "96a94b160d6a4210a3b8954342d73b59",
            "cb8e3f71769d4d0495f25ab8986b7b4d",
            "1dc7f25cfcd84395a8313c64037acea9",
            "c1836c29242c40bba67519370d8948a0",
            "6c96e47bdc54437f9f438211b3136238",
            "6098ea2fceb74d22acb22286b487210d",
            "606e0393277041a194f0c40ec3007db7",
            "b2e6f497f29740e8916b227590e324d2",
            "dc37e2cb88284172a4554da3dda615ab",
            "08c1fb0674a2497b85b4ea66e2efd0e1",
            "336f4331087045029e3beb4313097423",
            "b335425084f24706a7e99017644471eb",
            "51a887fd9cf54802b87d742180acba61",
            "33f9c7c362334d7e8d7f8657342612df",
            "cb70044a1d194e059e320ead6c57bb3a",
            "4ddb36c870b54e379fd70340fe90e312",
            "20b80c591a234e0e9329636919b5fcde",
            "fdca64bdb3a445418a2e1a2dcba1108f",
            "f98c4d3cd0304c2c977903721d4892c9",
            "47ef829edbcb4662bd20bb9b6a75616a",
            "27a89f2436d0486e87aa7ac91fa21c14",
            "2acf52c50b7b4f4e81cbf487cd834e14",
            "9c48b0d19d6e45ea951e32099197f98b",
            "e1e9fb7dbc914e15a4a1f99e662e666b",
            "9ab9f32331b94a008fa51736bd36fc30",
            "a503a908bf874ff694fa939654e2eff0",
            "a8a2577369c04273b9e55a9f4968cda9",
            "30147d180588447186a8984d1325f845",
            "c718d6447bf84c0a816b34f8e1ec2464",
            "5d080f7d6ca741eea018482d9a91b886",
            "e2b8ca769dcb42f1a423b51cad8103a8",
            "117da0a72a7b46c5b733df7aa7a859ec",
            "75c8e55a03474c95af3797173f95806a",
            "4b4ad85bd6904b1caf46a053d2c2cb77",
            "1836a458e0644259ab0b36bbd61dc93e",
            "33ab419152b94386be587036baa08300",
            "9609665304644e97b9a1e32d3b6d2550"
          ]
        },
        "id": "76mGpvHHT3qr",
        "outputId": "5deb705b-5ae6-45f8-a111-0e03fe1fbd14"
      },
      "source": [
        "for i in tqdm(SPURS):\n",
        "  PATH = BASELINE+\"/\"+i\n",
        "  os.chdir(PATH)\n",
        "  file_names = os.listdir()\n",
        "  if not os.path.exists('images'):\n",
        "    os.makedirs('images')\n",
        "  for j in tqdm(file_names):\n",
        "    data = pd.read_csv(j,delim_whitespace=True, engine='python',header = None)\n",
        "    accel_normal = data.iloc[:,[0]]\n",
        "    accel_normal = accel_normal.to_numpy().flatten()\n",
        "    plt.specgram(accel_normal, Fs=1, cmap=\"rainbow\")\n",
        "    plt.axis('off')\n",
        "    plt.savefig('images/'+j+'_plot.png', dpi=300, bbox_inches='tight')"
      ],
      "execution_count": 5,
      "outputs": [
        {
          "output_type": "display_data",
          "data": {
            "application/vnd.jupyter.widget-view+json": {
              "model_id": "aa210d9080e149889a4ce551d0835cdf",
              "version_minor": 0,
              "version_major": 2
            },
            "text/plain": [
              "  0%|          | 0/5 [00:00<?, ?it/s]"
            ]
          },
          "metadata": {}
        },
        {
          "output_type": "display_data",
          "data": {
            "application/vnd.jupyter.widget-view+json": {
              "model_id": "daae7712c8a848a9b7e89439000902bc",
              "version_minor": 0,
              "version_major": 2
            },
            "text/plain": [
              "  0%|          | 0/20 [00:00<?, ?it/s]"
            ]
          },
          "metadata": {}
        },
        {
          "output_type": "display_data",
          "data": {
            "application/vnd.jupyter.widget-view+json": {
              "model_id": "1abe3d79f3544d7bb77ad117e1f99208",
              "version_minor": 0,
              "version_major": 2
            },
            "text/plain": [
              "  0%|          | 0/20 [00:00<?, ?it/s]"
            ]
          },
          "metadata": {}
        },
        {
          "output_type": "display_data",
          "data": {
            "application/vnd.jupyter.widget-view+json": {
              "model_id": "6c96e47bdc54437f9f438211b3136238",
              "version_minor": 0,
              "version_major": 2
            },
            "text/plain": [
              "  0%|          | 0/20 [00:00<?, ?it/s]"
            ]
          },
          "metadata": {}
        },
        {
          "output_type": "display_data",
          "data": {
            "application/vnd.jupyter.widget-view+json": {
              "model_id": "4ddb36c870b54e379fd70340fe90e312",
              "version_minor": 0,
              "version_major": 2
            },
            "text/plain": [
              "  0%|          | 0/20 [00:00<?, ?it/s]"
            ]
          },
          "metadata": {}
        },
        {
          "output_type": "display_data",
          "data": {
            "application/vnd.jupyter.widget-view+json": {
              "model_id": "a8a2577369c04273b9e55a9f4968cda9",
              "version_minor": 0,
              "version_major": 2
            },
            "text/plain": [
              "  0%|          | 0/20 [00:00<?, ?it/s]"
            ]
          },
          "metadata": {}
        },
        {
          "output_type": "display_data",
          "data": {
            "image/png": "[encoded data removed]",
            "text/plain": [
              "<Figure size 432x288 with 1 Axes>"
            ]
          },
          "metadata": {
            "needs_background": "light"
          }
        }
      ]
    },
    {
      "cell_type": "code",
      "metadata": {
        "id": "UU8o62YLsoHK"
      },
      "source": [
        "os.chdir('/content/drive/MyDrive/Colab Notebooks/GearboxProject/pre_labelled/Spur Gearbox/spur 3')"
      ],
      "execution_count": null,
      "outputs": []
    },
    {
      "cell_type": "code",
      "metadata": {
        "id": "hDD3y0YjQCm9"
      },
      "source": [
        "os.chdir('/content/drive/MyDrive/Colab Notebooks/GearboxProject/pre_labelled/Spur Gearbox')"
      ],
      "execution_count": null,
      "outputs": []
    },
    {
      "cell_type": "code",
      "metadata": {
        "id": "A-3FgAdzt8n-"
      },
      "source": [
        "os.listdir()[0]"
      ],
      "execution_count": null,
      "outputs": []
    },
    {
      "cell_type": "code",
      "metadata": {
        "id": "oNRM-LI-tKd2"
      },
      "source": [
        "# spur_1 = pd.read_csv(os.listdir()[0],sep='\"\\s\"|   ', engine='python',header = None)\n",
        "spur_1 = pd.read_csv(os.listdir()[0],delim_whitespace=True, engine='python',header = None)"
      ],
      "execution_count": null,
      "outputs": []
    },
    {
      "cell_type": "code",
      "metadata": {
        "id": "dRwROVGnxUdN"
      },
      "source": [
        "spur_1"
      ],
      "execution_count": null,
      "outputs": []
    },
    {
      "cell_type": "code",
      "metadata": {
        "id": "DXdAufEwBh0Z"
      },
      "source": [
        "accel_normal = spur_1.iloc[:,[0]]\n",
        "tacho = spur_1.iloc[:,[2]]"
      ],
      "execution_count": null,
      "outputs": []
    },
    {
      "cell_type": "code",
      "metadata": {
        "id": "C3lNXIHFBk8N"
      },
      "source": [
        "accel_normal = accel_normal.to_numpy().flatten()\n",
        "tacho  = tacho.to_numpy().flatten()"
      ],
      "execution_count": null,
      "outputs": []
    },
    {
      "cell_type": "code",
      "metadata": {
        "id": "2JS9Z2NEtssv"
      },
      "source": [
        "plt.plot(accel_normal)\n",
        "plt.axis('off')\n",
        "# plt.savefig('plot.png', dpi=300, bbox_inches='tight')\n",
        "# plt.plot(tacho)"
      ],
      "execution_count": null,
      "outputs": []
    },
    {
      "cell_type": "code",
      "metadata": {
        "id": "qat3tnr_BZ4I"
      },
      "source": [
        "plt.specgram(accel_normal, Fs=1, cmap=\"rainbow\")"
      ],
      "execution_count": null,
      "outputs": []
    },
    {
      "cell_type": "code",
      "metadata": {
        "id": "JeSr6HjJESIE"
      },
      "source": [
        ""
      ],
      "execution_count": null,
      "outputs": []
    },
    {
      "cell_type": "markdown",
      "metadata": {
        "id": "_A9vi1Om5n8H"
      },
      "source": [
        "## CNN classificaton"
      ]
    },
    {
      "cell_type": "code",
      "metadata": {
        "id": "R5OocVqCGO-E"
      },
      "source": [
        "import numpy as np \n",
        "import matplotlib.pyplot as plt\n",
        "import os\n",
        "import cv2\n",
        "from tqdm.notebook import tqdm\n",
        "import tensorflow as tf\n",
        "from tensorflow.keras.models import Sequential\n",
        "from tensorflow.keras.layers import Dense,Dropout,Activation,Flatten,Conv2D,MaxPooling2D\n",
        "import pickle\n",
        "from google.colab.patches import cv2_imshow\n",
        "from sklearn.model_selection import train_test_split\n",
        "from numpy import array\n",
        "from numpy import argmax\n",
        "from tensorflow.keras.utils import to_categorical"
      ],
      "execution_count": 1,
      "outputs": []
    },
    {
      "cell_type": "code",
      "metadata": {
        "id": "775ndO106Ff0"
      },
      "source": [
        "#data loading \n",
        "BASELINE = \"/content/drive/MyDrive/Colab Notebooks/GearboxProject/pre_labelled/Spur Gearbox\"\n",
        "SPURS = ['spur 1', 'spur 2', 'spur 3', 'spur 3', 'spur 4','spur 5', 'spur 6', 'spur 7','spur 8']"
      ],
      "execution_count": 2,
      "outputs": []
    },
    {
      "cell_type": "code",
      "metadata": {
        "colab": {
          "base_uri": "https://localhost:8080/",
          "height": 336,
          "referenced_widgets": [
            "bcc2c47d71e744fca19a31c9ad734394",
            "d5381d7f0ca24560af2157b69c373e02",
            "2eea5482b669417993ba46df295fbfd2",
            "46e3e4accdf74600a219362ca26c65d5",
            "b060fc4df0be4685979195dbc3e4b49e",
            "a83933e4230845e7b2b733cf383967ee",
            "29f0c7dcf4da444eb2fa074b535355c3",
            "8ade1f5c50aa45d4b6c826c34b62ab8c",
            "af1e581470934dfc86f82e3dc2d16e0c",
            "bb4fdc02129d485593aaf1d9fc6c33e8",
            "31fad79355de433fab48c3f9d55c87fd",
            "4aaece04aa4940079e7bd4408ee35705",
            "1c4cc25575ac457386eef2b2f0e7317d",
            "09f26d3008d64c57a67d09cfc5160807",
            "b5e538653bd94db19d877314b711d219",
            "8883ebf786f343e592c3d3b3de5a7040",
            "4279ad28782b446dae760bdf504ac617",
            "9bb4900bb2d5412293720c559c0bb418",
            "9d9d3b6ebbea475f832f0257c90d6e0d",
            "13d7d9073b194bf187fe584bc3d3d08d",
            "bd788a045e9a430d8fb24f4a0a94f8f9",
            "12e31d97ba60497ea8a5f942e14a34f6",
            "41f2a9f292dd4421b45a428e965f326d",
            "077c268915114cc79f281086b5d3c23e",
            "b0fa7add21cc44a0aff0db18bbbee775",
            "422302d103df42e683513f2d6c064f0d",
            "5f948f8b3ab74fbe94566858a21da287",
            "43e2761672ef438d92ecce1071a79207",
            "38f1708339794b4c831c4cd29796aca6",
            "dae9ad5e1a734ca39ffd156ef7aa201c",
            "3352d46190c04c1e8b79e0af3ecbfefe",
            "075208d935194f0c9027406f503be570",
            "67194084f8c646938ca3f4ecc282e98b",
            "f81c30e611e246a4a1b76113d3dea086",
            "8c368fca0b4f47cd9bbdf68fa851065d",
            "38f938f39b5e40cbaaca3d1e75d93b49",
            "9611826e5e9c4b9eab81455de73e66ba",
            "0e040b07fdcc489b8449deb393642a53",
            "9ccb4b7aacf14cceab112e6071d5e5f2",
            "6bf4611611b341c594b9cce4fede1149",
            "8ea6e78f3ab1446d9a28d9d211d5cc88",
            "2aacb7cbb25e463e8e076885c2fdc737",
            "6de135458de74dab903c1327c72ef549",
            "4b7b186afa67462b93ac457310d3fa8f",
            "c86a2bc962d546a1873dccb7f0a179db",
            "0b0052a806b64bf38e7f95b5c5d56733",
            "06b35a5ba0b3449a98e1761bac3ad791",
            "21277e5b65b24acc8853a2ad9e6bcec3",
            "549ac21b97bf4289b52b6dc2bbb88f06",
            "3ed3ebf11f12468ab233e01538092f12",
            "360939b39f554874a457467fcbda788d",
            "d08a27a075df4699aa5a755fad6e704f",
            "7b249694ce744a619f9c0bad092f66e9",
            "b5a72d6666a0400dabe361fe4ae97567",
            "460f0d3cf4304f44ae80cd6db1b01282",
            "47a027f42bac4d6288a24cd2348bebc7",
            "dbb4c3eba84647b18b3b93c3fedd8a89",
            "5f31f60720424ce093c6e015edb11083",
            "ea6b300cce90442fa744cde6962fa58d",
            "d9f2a701385648a5949f15ea3ad56c57",
            "a5de70d1d77a4256af2731ac5842156d",
            "b24aedf2836542e0b2e2d650b4c21846",
            "b786e7c80ba340daa532afa2fbb63ca5",
            "80c53229fa2342a9b632d84cb83a7137",
            "45651cf6ede34e2995dbda3c97261de6",
            "3b15f19d95e747ea95bff67523fcc18a",
            "bd195b71b9864eb4a541814880d5d224",
            "41a234ee5b8346be8e60b0a7c4c706c3",
            "6d84957bceeb4a98b084c58edff1a2ff",
            "2d66f96821184094a2af2152df57a7f7",
            "b365411efde143098814809df18584eb",
            "a8a065dd750e479395065f9848a2483e",
            "3cfcdc80b1b24583b6f97637346bfa8d",
            "61779040dc3d457ea11648ee5db99cb4",
            "376b8f93ee674fbf8b9c404883cc1ead",
            "d54304be8c264849a3856ff80f1ce0ce",
            "98cd9e98e1df4431b68f230a16f42b1f",
            "3988b6a8dfae405cb2bad14670c73d33",
            "8a8877aaed24454f83b5dfa1b31ff9ba",
            "1587073e2f604982ba5762e934d03154",
            "521957b292044924bb3ea6ce260c3856",
            "d36b24952a9841b9b8658bc0513fab24",
            "e8528484be0b470396911b53def52d81",
            "d6f6f7e8840940ee9eb1b4fa9878352f",
            "779c0b2f72344cb29e1ac425feaf77f6",
            "fd537c54a4f74aeaa54b79976516b1e2",
            "c5fa75be2caa49eba71c388fd8af1c65",
            "7f7a575d0cdb4c019519bdd33136d7f2",
            "3826ce7a89834971a2562d9c048912d3",
            "3b8a55b2d51943cf97c6e820075293a7",
            "2d35f14abcba47ddb606c04432d90bf5",
            "d6ba1843711e4cf7b0f02b7e5e3ba711",
            "e20bfb89fd484edbb5ceb8addea9eb0e",
            "6d0b199923884d469e77161649a78a19",
            "29aaffcf2cbc4e2fb8ace17ee5db899b",
            "3fdaa5db722b42448ade1921fad09a38",
            "80402d7de25e45b58f88262dbaa7b65b",
            "1087607dae93431c912b9c04bf1ee3ba",
            "a806cc3ca031440ca2d800241656e80d",
            "09b066cc065a49debfc97eee0b824ae2",
            "860ecca6769041c1b2bc1eeea9a57854",
            "7db90ac37c79435ba02cd3bdbb2645db",
            "c0edc28be4c848a7866c7a126285502f",
            "9ab5af76253d48cb97cdea14b915c414",
            "65b47b0728174cb887f39ade5f74a692",
            "8155b202cf8044649aa83b28c86bf344",
            "852afc88a20c46dfb1474f137ca3df40",
            "ea907f8d0985494eb2719c3ddcb37670",
            "f3457187b4df4a4a8c0ccc2dbe694991",
            "bde84526c3494731850f3ee3281632e0"
          ]
        },
        "id": "K2Git5E-6K3i",
        "outputId": "43050f04-217d-4767-cbb8-65b925d80115"
      },
      "source": [
        "training_data = []\n",
        "CLASS_NAME = 0\n",
        "IMG_SIZE = 224 \n",
        "for i in tqdm(SPURS):\n",
        "  PATH = os.path.join(BASELINE,i+\"/images\")\n",
        "  CLASS_NAME +=1\n",
        "  for img in tqdm(os.listdir(PATH)):\n",
        "    try:\n",
        "      img_array = cv2.imread(os.path.join(PATH,img))\n",
        "      new_array = cv2.resize(img_array, (IMG_SIZE, IMG_SIZE))\n",
        "      training_data.append([new_array, CLASS_NAME])\n",
        "    except Exception as e:\n",
        "      pass\n",
        "\n",
        "del img_array\n",
        "del new_array"
      ],
      "execution_count": 3,
      "outputs": [
        {
          "output_type": "display_data",
          "data": {
            "application/vnd.jupyter.widget-view+json": {
              "model_id": "bcc2c47d71e744fca19a31c9ad734394",
              "version_minor": 0,
              "version_major": 2
            },
            "text/plain": [
              "  0%|          | 0/9 [00:00<?, ?it/s]"
            ]
          },
          "metadata": {}
        },
        {
          "output_type": "display_data",
          "data": {
            "application/vnd.jupyter.widget-view+json": {
              "model_id": "4aaece04aa4940079e7bd4408ee35705",
              "version_minor": 0,
              "version_major": 2
            },
            "text/plain": [
              "  0%|          | 0/20 [00:00<?, ?it/s]"
            ]
          },
          "metadata": {}
        },
        {
          "output_type": "display_data",
          "data": {
            "application/vnd.jupyter.widget-view+json": {
              "model_id": "41f2a9f292dd4421b45a428e965f326d",
              "version_minor": 0,
              "version_major": 2
            },
            "text/plain": [
              "  0%|          | 0/20 [00:00<?, ?it/s]"
            ]
          },
          "metadata": {}
        },
        {
          "output_type": "display_data",
          "data": {
            "application/vnd.jupyter.widget-view+json": {
              "model_id": "f81c30e611e246a4a1b76113d3dea086",
              "version_minor": 0,
              "version_major": 2
            },
            "text/plain": [
              "  0%|          | 0/20 [00:00<?, ?it/s]"
            ]
          },
          "metadata": {}
        },
        {
          "output_type": "display_data",
          "data": {
            "application/vnd.jupyter.widget-view+json": {
              "model_id": "c86a2bc962d546a1873dccb7f0a179db",
              "version_minor": 0,
              "version_major": 2
            },
            "text/plain": [
              "  0%|          | 0/20 [00:00<?, ?it/s]"
            ]
          },
          "metadata": {}
        },
        {
          "output_type": "display_data",
          "data": {
            "application/vnd.jupyter.widget-view+json": {
              "model_id": "47a027f42bac4d6288a24cd2348bebc7",
              "version_minor": 0,
              "version_major": 2
            },
            "text/plain": [
              "  0%|          | 0/20 [00:00<?, ?it/s]"
            ]
          },
          "metadata": {}
        },
        {
          "output_type": "display_data",
          "data": {
            "application/vnd.jupyter.widget-view+json": {
              "model_id": "bd195b71b9864eb4a541814880d5d224",
              "version_minor": 0,
              "version_major": 2
            },
            "text/plain": [
              "  0%|          | 0/20 [00:00<?, ?it/s]"
            ]
          },
          "metadata": {}
        },
        {
          "output_type": "display_data",
          "data": {
            "application/vnd.jupyter.widget-view+json": {
              "model_id": "3988b6a8dfae405cb2bad14670c73d33",
              "version_minor": 0,
              "version_major": 2
            },
            "text/plain": [
              "  0%|          | 0/20 [00:00<?, ?it/s]"
            ]
          },
          "metadata": {}
        },
        {
          "output_type": "display_data",
          "data": {
            "application/vnd.jupyter.widget-view+json": {
              "model_id": "3826ce7a89834971a2562d9c048912d3",
              "version_minor": 0,
              "version_major": 2
            },
            "text/plain": [
              "  0%|          | 0/20 [00:00<?, ?it/s]"
            ]
          },
          "metadata": {}
        },
        {
          "output_type": "display_data",
          "data": {
            "application/vnd.jupyter.widget-view+json": {
              "model_id": "09b066cc065a49debfc97eee0b824ae2",
              "version_minor": 0,
              "version_major": 2
            },
            "text/plain": [
              "  0%|          | 0/20 [00:00<?, ?it/s]"
            ]
          },
          "metadata": {}
        }
      ]
    },
    {
      "cell_type": "code",
      "metadata": {
        "colab": {
          "base_uri": "https://localhost:8080/"
        },
        "id": "HNl9SJYdOuBG",
        "outputId": "2bff5d07-501e-4e5e-8b7c-ece7ce12bdb2"
      },
      "source": [
        "# USED TO RESHUFFLE THE DATA BECAAUSE WE NEED TO REMOVE BIAS FROM NN\n",
        "print(len(training_data))\n",
        "import random\n",
        "random.shuffle(training_data)\n",
        "for sample in training_data[:10]:\n",
        "    print(sample[1])\n",
        "\n",
        "x = []\n",
        "y = []\n",
        "\n",
        "# MAKE X AND Y REPRESENTING FEATURES AND LABELS RESPECTIVELY\n",
        "for features,label in training_data:\n",
        "    x.append(features)\n",
        "    y.append(label)\n",
        "\n",
        "del features\n",
        "del label\n",
        "del training_data"
      ],
      "execution_count": 4,
      "outputs": [
        {
          "output_type": "stream",
          "name": "stdout",
          "text": [
            "180\n",
            "4\n",
            "2\n",
            "1\n",
            "4\n",
            "4\n",
            "2\n",
            "2\n",
            "5\n",
            "4\n",
            "9\n"
          ]
        }
      ]
    },
    {
      "cell_type": "code",
      "metadata": {
        "id": "UNmFwcR7WAPv"
      },
      "source": [
        "X_train, X_test, y_train, y_test  = train_test_split(x, y, test_size=0.2, random_state=1)\n",
        "X_train, X_val, y_train, y_val = train_test_split(X_train, y_train, test_size=0.25, random_state=1) # 0.25 x 0.8 = 0.2"
      ],
      "execution_count": 5,
      "outputs": []
    },
    {
      "cell_type": "code",
      "metadata": {
        "id": "8UMrdKKyhvv3"
      },
      "source": [
        "del x\n",
        "del y"
      ],
      "execution_count": 6,
      "outputs": []
    },
    {
      "cell_type": "code",
      "metadata": {
        "id": "-8t08Zg1XCxh"
      },
      "source": [
        "H = X_train[0].shape[0]\n",
        "W = X_train[0].shape[1]"
      ],
      "execution_count": 7,
      "outputs": []
    },
    {
      "cell_type": "code",
      "metadata": {
        "id": "o-TGr7kFWQfR"
      },
      "source": [
        "y_train = np.array(y_train)\n",
        "y_test = np.array(y_test)\n",
        "y_val = np.array(y_val)\n",
        "# y = y.reshape(-1,1)\n",
        "y_train = y_train.reshape(-1,1)\n",
        "y_test = y_test.reshape(-1,1)\n",
        "y_val = y_val.reshape(-1,1)"
      ],
      "execution_count": 8,
      "outputs": []
    },
    {
      "cell_type": "code",
      "metadata": {
        "colab": {
          "base_uri": "https://localhost:8080/"
        },
        "id": "BLqSYsYNWYo8",
        "outputId": "81d04342-de05-421d-ba82-7f9488a09e47"
      },
      "source": [
        "# print(x[1].shape)\n",
        "print(X_train[1].shape)\n",
        "print(X_test[1].shape)\n",
        "print(X_val[1].shape)\n",
        "# print(y[1].shape)\n",
        "print(y_train[1].shape)\n",
        "print(y_test[1].shape)\n",
        "print(y_val[1].shape)"
      ],
      "execution_count": 9,
      "outputs": [
        {
          "output_type": "stream",
          "name": "stdout",
          "text": [
            "(224, 224, 3)\n",
            "(224, 224, 3)\n",
            "(224, 224, 3)\n",
            "(1,)\n",
            "(1,)\n",
            "(1,)\n"
          ]
        }
      ]
    },
    {
      "cell_type": "code",
      "metadata": {
        "colab": {
          "base_uri": "https://localhost:8080/",
          "height": 864
        },
        "id": "CuRFHYbhWodZ",
        "outputId": "df916a23-7795-4bbd-c11c-6c520d76b2d2"
      },
      "source": [
        "for index,i in enumerate(X_train[:3]):\n",
        "  plt.figure()\n",
        "  plt.imshow(i)\n",
        "  plt.title(y_train[index])"
      ],
      "execution_count": 10,
      "outputs": [
        {
          "output_type": "stream",
          "name": "stderr",
          "text": [
            "/usr/local/lib/python3.7/dist-packages/matplotlib/text.py:1165: FutureWarning: elementwise comparison failed; returning scalar instead, but in the future will perform elementwise comparison\n",
            "  if s != self._text:\n"
          ]
        },
        {
          "output_type": "display_data",
          "data": {
            "image/png": "[encoded data removed]",
            "text/plain": [
              "<Figure size 432x288 with 1 Axes>"
            ]
          },
          "metadata": {
            "needs_background": "light"
          }
        },
        {
          "output_type": "display_data",
          "data": {
            "image/png": "[encoded data removed]",
            "text/plain": [
              "<Figure size 432x288 with 1 Axes>"
            ]
          },
          "metadata": {
            "needs_background": "light"
          }
        },
        {
          "output_type": "display_data",
          "data": {
            "image/png": "[encoded data removed]",
            "text/plain": [
              "<Figure size 432x288 with 1 Axes>"
            ]
          },
          "metadata": {
            "needs_background": "light"
          }
        }
      ]
    },
    {
      "cell_type": "code",
      "metadata": {
        "id": "RQ6H5w4GWyy5"
      },
      "source": [
        "# IMG_SIZE=100 #reshape the pic\n",
        "# RESHAPE THE IMAGE ACCRODING TO YOUR GIVEN IMAGE SIZE\n",
        "#print(X[0].reshape(-1, IMG_SIZE, IMG_SIZE, 3))\n",
        "\n",
        "# RESHAPE THE DATA ACCORDING TO THE FORMAT\n",
        "# X = np.array(x).reshape(-1, H, W, 3)\n",
        "# X = X /255.0\n",
        "X_train = np.array(X_train).reshape(-1, H, W, 3)\n",
        "X_train = X_train/255.0\n",
        "X_test = np.array(X_test).reshape(-1, H, W, 3)\n",
        "X_test = X_test/255.0\n",
        "X_val = np.array(X_val).reshape(-1, H, W, 3)\n",
        "X_val = X_val/255.0"
      ],
      "execution_count": 11,
      "outputs": []
    },
    {
      "cell_type": "code",
      "metadata": {
        "colab": {
          "base_uri": "https://localhost:8080/"
        },
        "id": "sjCC8otiXcQU",
        "outputId": "0e746ea8-6fd9-4272-9120-4740f150348b"
      },
      "source": [
        "# print(X.shape)\n",
        "print(X_train.shape)\n",
        "print(X_test.shape)\n",
        "print(X_val.shape)\n",
        "# print(y.shape)\n",
        "print(y_train.shape)\n",
        "print(y_test.shape)\n",
        "print(y_val.shape)"
      ],
      "execution_count": 12,
      "outputs": [
        {
          "output_type": "stream",
          "name": "stdout",
          "text": [
            "(108, 224, 224, 3)\n",
            "(36, 224, 224, 3)\n",
            "(36, 224, 224, 3)\n",
            "(108, 1)\n",
            "(36, 1)\n",
            "(36, 1)\n"
          ]
        }
      ]
    },
    {
      "cell_type": "code",
      "metadata": {
        "colab": {
          "base_uri": "https://localhost:8080/"
        },
        "id": "a42SEjjfXe0l",
        "outputId": "382fd09f-e7a3-43bf-80e7-566b160f0078"
      },
      "source": [
        "y_train = to_categorical(y_train)\n",
        "y_test = to_categorical(y_test)\n",
        "y_val = to_categorical(y_val)\n",
        "\n",
        "\n",
        "print(y_train[:3])"
      ],
      "execution_count": 13,
      "outputs": [
        {
          "output_type": "stream",
          "name": "stdout",
          "text": [
            "[[0. 0. 1. 0. 0. 0. 0. 0. 0. 0.]\n",
            " [0. 0. 0. 0. 0. 0. 0. 0. 1. 0.]\n",
            " [0. 0. 0. 0. 0. 1. 0. 0. 0. 0.]]\n"
          ]
        }
      ]
    },
    {
      "cell_type": "code",
      "metadata": {
        "colab": {
          "base_uri": "https://localhost:8080/"
        },
        "id": "2oQI7ou4YiqF",
        "outputId": "faae6fd6-c3dc-48c6-e129-587a2406dbaa"
      },
      "source": [
        "IMG_SHAPE = (H, W, 3)\n",
        "\n",
        "# Create the base model from the pre-trained model MobileNet V2\n",
        "base_model = tf.keras.applications.MobileNetV2(input_shape=IMG_SHAPE,\n",
        "                                               include_top=False,\n",
        "                                               weights='imagenet')"
      ],
      "execution_count": 14,
      "outputs": [
        {
          "output_type": "stream",
          "name": "stdout",
          "text": [
            "Downloading data from https://storage.googleapis.com/tensorflow/keras-applications/mobilenet_v2/mobilenet_v2_weights_tf_dim_ordering_tf_kernels_1.0_224_no_top.h5\n",
            "9412608/9406464 [==============================] - 0s 0us/step\n",
            "9420800/9406464 [==============================] - 0s 0us/step\n"
          ]
        }
      ]
    },
    {
      "cell_type": "code",
      "metadata": {
        "id": "fpRlIu1yYm73"
      },
      "source": [
        "base_model.trainable = True"
      ],
      "execution_count": 15,
      "outputs": []
    },
    {
      "cell_type": "code",
      "metadata": {
        "id": "uXTFac4VY_9e"
      },
      "source": [
        "test_batch = base_model(X_test)\n",
        "feature_batch = base_model(X_train)\n",
        "val_batch = base_model(X_val)"
      ],
      "execution_count": 16,
      "outputs": []
    },
    {
      "cell_type": "code",
      "metadata": {
        "colab": {
          "base_uri": "https://localhost:8080/"
        },
        "id": "yT4f7KH1ZCpP",
        "outputId": "a46c3ba1-27ee-4b77-c511-8eeb9a5de573"
      },
      "source": [
        "print(feature_batch.shape)\n",
        "print(test_batch.shape)\n",
        "print(val_batch.shape)"
      ],
      "execution_count": 17,
      "outputs": [
        {
          "output_type": "stream",
          "name": "stdout",
          "text": [
            "(108, 7, 7, 1280)\n",
            "(36, 7, 7, 1280)\n",
            "(36, 7, 7, 1280)\n"
          ]
        }
      ]
    },
    {
      "cell_type": "code",
      "metadata": {
        "id": "A6hmgk4PZKZ3"
      },
      "source": [
        "global_average_layer = tf.keras.layers.GlobalMaxPooling2D()\n",
        "prediction_layer_1 = tf.keras.layers.Dense(30, activation = \"relu\")\n",
        "prediction_layer = tf.keras.layers.Dense(y_train.shape[1], activation = \"softmax\")"
      ],
      "execution_count": 32,
      "outputs": []
    },
    {
      "cell_type": "code",
      "metadata": {
        "id": "d-D1ptsPZTUX"
      },
      "source": [
        "model = tf.keras.Sequential([\n",
        "  base_model,\n",
        "  global_average_layer,\n",
        "  # tf.keras.layers.Dropout(0.2),\n",
        "  prediction_layer_1,\n",
        "  # tf.keras.layers.Dropout(0.2),\n",
        "  prediction_layer,  \n",
        "])"
      ],
      "execution_count": 33,
      "outputs": []
    },
    {
      "cell_type": "code",
      "metadata": {
        "id": "zJtSLcgalGXw"
      },
      "source": [
        "base_learning_rate = 0.001\n",
        "model.compile(optimizer=tf.keras.optimizers.Adam(base_learning_rate),\n",
        "              loss=tf.keras.losses.CategoricalCrossentropy(),\n",
        "              metrics=['categorical_accuracy'])"
      ],
      "execution_count": 34,
      "outputs": []
    },
    {
      "cell_type": "code",
      "metadata": {
        "colab": {
          "base_uri": "https://localhost:8080/"
        },
        "id": "3tOtlw99lIXx",
        "outputId": "05c52934-a0c0-4d10-8c13-519d7908ccf0"
      },
      "source": [
        "model.summary()"
      ],
      "execution_count": 35,
      "outputs": [
        {
          "output_type": "stream",
          "name": "stdout",
          "text": [
            "Model: \"sequential_1\"\n",
            "_________________________________________________________________\n",
            "Layer (type)                 Output Shape              Param #   \n",
            "=================================================================\n",
            "mobilenetv2_1.00_224 (Functi (None, 7, 7, 1280)        2257984   \n",
            "_________________________________________________________________\n",
            "global_max_pooling2d_1 (Glob (None, 1280)              0         \n",
            "_________________________________________________________________\n",
            "dense_2 (Dense)              (None, 30)                38430     \n",
            "_________________________________________________________________\n",
            "dense_3 (Dense)              (None, 10)                310       \n",
            "=================================================================\n",
            "Total params: 2,296,724\n",
            "Trainable params: 2,262,612\n",
            "Non-trainable params: 34,112\n",
            "_________________________________________________________________\n"
          ]
        }
      ]
    },
    {
      "cell_type": "code",
      "metadata": {
        "id": "oZiWPtJElJ_x"
      },
      "source": [
        "X_train = X_train.astype('float32')\n",
        "X_test = X_test.astype('float32')\n",
        "X_val = X_val.astype('float32')"
      ],
      "execution_count": 36,
      "outputs": []
    },
    {
      "cell_type": "code",
      "metadata": {
        "id": "q8KN4wfzlWDp"
      },
      "source": [
        "initial_epochs = 100"
      ],
      "execution_count": 37,
      "outputs": []
    },
    {
      "cell_type": "code",
      "metadata": {
        "colab": {
          "base_uri": "https://localhost:8080/"
        },
        "id": "AsMIh2hMmYq1",
        "outputId": "0f6e1c28-24e2-435a-b94a-9abf320cc2d4"
      },
      "source": [
        "validation_steps = 36\n",
        "loss0,accuracy0 = model.evaluate(X_val, y_val, steps = validation_steps)"
      ],
      "execution_count": 39,
      "outputs": [
        {
          "output_type": "stream",
          "name": "stdout",
          "text": [
            "36/36 [==============================] - 0s 11ms/step - loss: 10.4683 - categorical_accuracy: 0.0833\n"
          ]
        }
      ]
    },
    {
      "cell_type": "code",
      "metadata": {
        "colab": {
          "base_uri": "https://localhost:8080/"
        },
        "id": "HpuTu-j5lNrJ",
        "outputId": "015d50bf-742f-48d4-c4d7-edd3ed8daed4"
      },
      "source": [
        "history = model.fit(X_train, y_train,\n",
        "                    epochs=initial_epochs,\n",
        "                    validation_data=(X_val, y_val),\n",
        "                    shuffle=True)"
      ],
      "execution_count": 40,
      "outputs": [
        {
          "output_type": "stream",
          "name": "stdout",
          "text": [
            "Epoch 1/100\n",
            "4/4 [==============================] - 7s 658ms/step - loss: 3.3189 - categorical_accuracy: 0.5185 - val_loss: 5.2611 - val_categorical_accuracy: 0.1944\n",
            "Epoch 2/100\n",
            "4/4 [==============================] - 1s 340ms/step - loss: 1.0401 - categorical_accuracy: 0.7963 - val_loss: 5.0800 - val_categorical_accuracy: 0.1944\n",
            "Epoch 3/100\n",
            "4/4 [==============================] - 1s 338ms/step - loss: 0.7129 - categorical_accuracy: 0.8056 - val_loss: 4.5968 - val_categorical_accuracy: 0.2500\n",
            "Epoch 4/100\n",
            "4/4 [==============================] - 1s 326ms/step - loss: 0.5288 - categorical_accuracy: 0.8333 - val_loss: 5.6580 - val_categorical_accuracy: 0.1944\n",
            "Epoch 5/100\n",
            "4/4 [==============================] - 1s 344ms/step - loss: 0.6881 - categorical_accuracy: 0.8056 - val_loss: 5.3845 - val_categorical_accuracy: 0.2222\n",
            "Epoch 6/100\n",
            "4/4 [==============================] - 1s 326ms/step - loss: 0.4028 - categorical_accuracy: 0.8426 - val_loss: 5.3142 - val_categorical_accuracy: 0.1111\n",
            "Epoch 7/100\n",
            "4/4 [==============================] - 1s 342ms/step - loss: 0.3060 - categorical_accuracy: 0.8796 - val_loss: 4.0008 - val_categorical_accuracy: 0.1667\n",
            "Epoch 8/100\n",
            "4/4 [==============================] - 1s 329ms/step - loss: 0.3031 - categorical_accuracy: 0.8704 - val_loss: 4.2749 - val_categorical_accuracy: 0.1944\n",
            "Epoch 9/100\n",
            "4/4 [==============================] - 1s 342ms/step - loss: 0.2130 - categorical_accuracy: 0.8981 - val_loss: 4.5361 - val_categorical_accuracy: 0.1944\n",
            "Epoch 10/100\n",
            "4/4 [==============================] - 1s 335ms/step - loss: 0.2607 - categorical_accuracy: 0.8889 - val_loss: 4.3248 - val_categorical_accuracy: 0.1944\n",
            "Epoch 11/100\n",
            "4/4 [==============================] - 1s 330ms/step - loss: 0.3386 - categorical_accuracy: 0.8796 - val_loss: 3.7921 - val_categorical_accuracy: 0.2222\n",
            "Epoch 12/100\n",
            "4/4 [==============================] - 1s 326ms/step - loss: 0.1736 - categorical_accuracy: 0.9444 - val_loss: 3.5363 - val_categorical_accuracy: 0.2778\n",
            "Epoch 13/100\n",
            "4/4 [==============================] - 1s 340ms/step - loss: 0.2746 - categorical_accuracy: 0.9074 - val_loss: 3.6349 - val_categorical_accuracy: 0.2222\n",
            "Epoch 14/100\n",
            "4/4 [==============================] - 1s 326ms/step - loss: 0.3188 - categorical_accuracy: 0.9167 - val_loss: 5.1078 - val_categorical_accuracy: 0.2222\n",
            "Epoch 15/100\n",
            "4/4 [==============================] - 1s 340ms/step - loss: 0.1577 - categorical_accuracy: 0.9259 - val_loss: 4.9425 - val_categorical_accuracy: 0.2500\n",
            "Epoch 16/100\n",
            "4/4 [==============================] - 1s 326ms/step - loss: 0.2125 - categorical_accuracy: 0.9074 - val_loss: 6.2056 - val_categorical_accuracy: 0.0556\n",
            "Epoch 17/100\n",
            "4/4 [==============================] - 1s 321ms/step - loss: 0.1868 - categorical_accuracy: 0.9167 - val_loss: 5.6292 - val_categorical_accuracy: 0.1389\n",
            "Epoch 18/100\n",
            "4/4 [==============================] - 1s 321ms/step - loss: 0.2808 - categorical_accuracy: 0.9259 - val_loss: 4.9031 - val_categorical_accuracy: 0.1944\n",
            "Epoch 19/100\n",
            "4/4 [==============================] - 1s 336ms/step - loss: 0.2283 - categorical_accuracy: 0.9074 - val_loss: 5.0500 - val_categorical_accuracy: 0.1667\n",
            "Epoch 20/100\n",
            "4/4 [==============================] - 1s 325ms/step - loss: 0.2550 - categorical_accuracy: 0.8704 - val_loss: 5.2461 - val_categorical_accuracy: 0.2222\n",
            "Epoch 21/100\n",
            "4/4 [==============================] - 1s 324ms/step - loss: 0.1456 - categorical_accuracy: 0.9444 - val_loss: 6.2550 - val_categorical_accuracy: 0.1944\n",
            "Epoch 22/100\n",
            "4/4 [==============================] - 1s 322ms/step - loss: 0.6134 - categorical_accuracy: 0.8704 - val_loss: 4.8630 - val_categorical_accuracy: 0.1944\n",
            "Epoch 23/100\n",
            "4/4 [==============================] - 1s 320ms/step - loss: 0.2264 - categorical_accuracy: 0.9074 - val_loss: 7.6694 - val_categorical_accuracy: 0.1111\n",
            "Epoch 24/100\n",
            "4/4 [==============================] - 1s 326ms/step - loss: 0.5079 - categorical_accuracy: 0.8333 - val_loss: 7.1015 - val_categorical_accuracy: 0.0833\n",
            "Epoch 25/100\n",
            "4/4 [==============================] - 1s 344ms/step - loss: 0.5507 - categorical_accuracy: 0.8611 - val_loss: 6.5524 - val_categorical_accuracy: 0.1111\n",
            "Epoch 26/100\n",
            "4/4 [==============================] - 1s 335ms/step - loss: 0.5336 - categorical_accuracy: 0.7778 - val_loss: 5.2213 - val_categorical_accuracy: 0.1944\n",
            "Epoch 27/100\n",
            "4/4 [==============================] - 1s 326ms/step - loss: 0.5708 - categorical_accuracy: 0.8333 - val_loss: 5.1738 - val_categorical_accuracy: 0.0556\n",
            "Epoch 28/100\n",
            "4/4 [==============================] - 1s 328ms/step - loss: 0.5272 - categorical_accuracy: 0.7870 - val_loss: 3.8614 - val_categorical_accuracy: 0.2222\n",
            "Epoch 29/100\n",
            "4/4 [==============================] - 1s 334ms/step - loss: 0.6011 - categorical_accuracy: 0.7778 - val_loss: 3.7957 - val_categorical_accuracy: 0.2222\n",
            "Epoch 30/100\n",
            "4/4 [==============================] - 1s 319ms/step - loss: 0.7604 - categorical_accuracy: 0.7778 - val_loss: 3.6070 - val_categorical_accuracy: 0.1944\n",
            "Epoch 31/100\n",
            "4/4 [==============================] - 1s 320ms/step - loss: 0.4134 - categorical_accuracy: 0.8796 - val_loss: 3.5437 - val_categorical_accuracy: 0.1667\n",
            "Epoch 32/100\n",
            "4/4 [==============================] - 1s 324ms/step - loss: 0.3121 - categorical_accuracy: 0.8704 - val_loss: 4.0290 - val_categorical_accuracy: 0.1667\n",
            "Epoch 33/100\n",
            "4/4 [==============================] - 1s 327ms/step - loss: 0.2587 - categorical_accuracy: 0.8889 - val_loss: 4.8711 - val_categorical_accuracy: 0.1944\n",
            "Epoch 34/100\n",
            "4/4 [==============================] - 1s 338ms/step - loss: 0.2613 - categorical_accuracy: 0.8981 - val_loss: 5.0459 - val_categorical_accuracy: 0.1667\n",
            "Epoch 35/100\n",
            "4/4 [==============================] - 1s 323ms/step - loss: 0.3258 - categorical_accuracy: 0.8796 - val_loss: 4.6464 - val_categorical_accuracy: 0.2500\n",
            "Epoch 36/100\n",
            "4/4 [==============================] - 1s 330ms/step - loss: 0.5176 - categorical_accuracy: 0.8426 - val_loss: 4.4300 - val_categorical_accuracy: 0.1667\n",
            "Epoch 37/100\n",
            "4/4 [==============================] - 1s 320ms/step - loss: 0.3071 - categorical_accuracy: 0.8426 - val_loss: 4.1916 - val_categorical_accuracy: 0.1667\n",
            "Epoch 38/100\n",
            "4/4 [==============================] - 1s 325ms/step - loss: 0.9010 - categorical_accuracy: 0.7778 - val_loss: 3.9085 - val_categorical_accuracy: 0.1667\n",
            "Epoch 39/100\n",
            "4/4 [==============================] - 1s 329ms/step - loss: 0.3990 - categorical_accuracy: 0.8333 - val_loss: 4.3487 - val_categorical_accuracy: 0.1389\n",
            "Epoch 40/100\n",
            "4/4 [==============================] - 1s 338ms/step - loss: 0.2924 - categorical_accuracy: 0.8611 - val_loss: 3.7421 - val_categorical_accuracy: 0.1389\n",
            "Epoch 41/100\n",
            "4/4 [==============================] - 1s 339ms/step - loss: 0.3180 - categorical_accuracy: 0.8796 - val_loss: 3.1771 - val_categorical_accuracy: 0.2222\n",
            "Epoch 42/100\n",
            "4/4 [==============================] - 1s 321ms/step - loss: 0.3116 - categorical_accuracy: 0.8981 - val_loss: 4.3870 - val_categorical_accuracy: 0.1667\n",
            "Epoch 43/100\n",
            "4/4 [==============================] - 1s 326ms/step - loss: 0.2273 - categorical_accuracy: 0.8889 - val_loss: 5.3733 - val_categorical_accuracy: 0.1111\n",
            "Epoch 44/100\n",
            "4/4 [==============================] - 1s 325ms/step - loss: 0.3027 - categorical_accuracy: 0.8704 - val_loss: 4.7106 - val_categorical_accuracy: 0.1111\n",
            "Epoch 45/100\n",
            "4/4 [==============================] - 1s 325ms/step - loss: 0.2989 - categorical_accuracy: 0.8889 - val_loss: 3.4487 - val_categorical_accuracy: 0.2778\n",
            "Epoch 46/100\n",
            "4/4 [==============================] - 1s 325ms/step - loss: 0.1578 - categorical_accuracy: 0.9259 - val_loss: 5.5489 - val_categorical_accuracy: 0.2500\n",
            "Epoch 47/100\n",
            "4/4 [==============================] - 1s 334ms/step - loss: 0.2418 - categorical_accuracy: 0.8611 - val_loss: 5.8723 - val_categorical_accuracy: 0.1944\n",
            "Epoch 48/100\n",
            "4/4 [==============================] - 1s 324ms/step - loss: 0.3628 - categorical_accuracy: 0.8796 - val_loss: 4.6600 - val_categorical_accuracy: 0.2222\n",
            "Epoch 49/100\n",
            "4/4 [==============================] - 1s 324ms/step - loss: 0.1781 - categorical_accuracy: 0.9074 - val_loss: 4.3504 - val_categorical_accuracy: 0.2778\n",
            "Epoch 50/100\n",
            "4/4 [==============================] - 1s 329ms/step - loss: 0.3220 - categorical_accuracy: 0.8889 - val_loss: 3.9626 - val_categorical_accuracy: 0.2778\n",
            "Epoch 51/100\n",
            "4/4 [==============================] - 1s 325ms/step - loss: 0.2936 - categorical_accuracy: 0.8241 - val_loss: 3.2671 - val_categorical_accuracy: 0.2778\n",
            "Epoch 52/100\n",
            "4/4 [==============================] - 1s 327ms/step - loss: 0.1687 - categorical_accuracy: 0.8981 - val_loss: 3.4281 - val_categorical_accuracy: 0.3056\n",
            "Epoch 53/100\n",
            "4/4 [==============================] - 1s 338ms/step - loss: 0.2753 - categorical_accuracy: 0.8981 - val_loss: 3.6585 - val_categorical_accuracy: 0.3056\n",
            "Epoch 54/100\n",
            "4/4 [==============================] - 1s 327ms/step - loss: 0.2808 - categorical_accuracy: 0.8981 - val_loss: 3.6827 - val_categorical_accuracy: 0.2778\n",
            "Epoch 55/100\n",
            "4/4 [==============================] - 1s 332ms/step - loss: 0.1509 - categorical_accuracy: 0.9259 - val_loss: 3.2528 - val_categorical_accuracy: 0.2778\n",
            "Epoch 56/100\n",
            "4/4 [==============================] - 1s 327ms/step - loss: 0.1718 - categorical_accuracy: 0.9074 - val_loss: 3.4653 - val_categorical_accuracy: 0.2222\n",
            "Epoch 57/100\n",
            "4/4 [==============================] - 1s 325ms/step - loss: 0.1666 - categorical_accuracy: 0.9352 - val_loss: 3.7117 - val_categorical_accuracy: 0.2778\n",
            "Epoch 58/100\n",
            "4/4 [==============================] - 1s 324ms/step - loss: 0.1541 - categorical_accuracy: 0.8889 - val_loss: 3.8508 - val_categorical_accuracy: 0.2778\n",
            "Epoch 59/100\n",
            "4/4 [==============================] - 1s 325ms/step - loss: 0.1689 - categorical_accuracy: 0.9167 - val_loss: 4.3581 - val_categorical_accuracy: 0.2778\n",
            "Epoch 60/100\n",
            "4/4 [==============================] - 1s 345ms/step - loss: 0.1187 - categorical_accuracy: 0.9167 - val_loss: 4.3888 - val_categorical_accuracy: 0.2778\n",
            "Epoch 61/100\n",
            "4/4 [==============================] - 1s 326ms/step - loss: 0.1977 - categorical_accuracy: 0.9259 - val_loss: 3.8321 - val_categorical_accuracy: 0.2778\n",
            "Epoch 62/100\n",
            "4/4 [==============================] - 1s 332ms/step - loss: 0.1648 - categorical_accuracy: 0.8981 - val_loss: 3.1569 - val_categorical_accuracy: 0.2778\n",
            "Epoch 63/100\n",
            "4/4 [==============================] - 1s 322ms/step - loss: 0.1244 - categorical_accuracy: 0.9167 - val_loss: 2.9927 - val_categorical_accuracy: 0.2778\n",
            "Epoch 64/100\n",
            "4/4 [==============================] - 1s 327ms/step - loss: 0.1453 - categorical_accuracy: 0.9259 - val_loss: 2.7810 - val_categorical_accuracy: 0.2778\n",
            "Epoch 65/100\n",
            "4/4 [==============================] - 1s 325ms/step - loss: 0.1277 - categorical_accuracy: 0.9074 - val_loss: 2.6245 - val_categorical_accuracy: 0.2778\n",
            "Epoch 66/100\n",
            "4/4 [==============================] - 1s 329ms/step - loss: 0.1492 - categorical_accuracy: 0.9167 - val_loss: 2.6211 - val_categorical_accuracy: 0.2778\n",
            "Epoch 67/100\n",
            "4/4 [==============================] - 1s 323ms/step - loss: 0.1273 - categorical_accuracy: 0.9167 - val_loss: 2.5999 - val_categorical_accuracy: 0.2778\n",
            "Epoch 68/100\n",
            "4/4 [==============================] - 1s 326ms/step - loss: 0.2199 - categorical_accuracy: 0.8796 - val_loss: 2.6905 - val_categorical_accuracy: 0.3056\n",
            "Epoch 69/100\n",
            "4/4 [==============================] - 1s 326ms/step - loss: 0.1054 - categorical_accuracy: 0.9259 - val_loss: 2.7345 - val_categorical_accuracy: 0.3333\n",
            "Epoch 70/100\n",
            "4/4 [==============================] - 1s 323ms/step - loss: 0.1106 - categorical_accuracy: 0.9537 - val_loss: 2.8458 - val_categorical_accuracy: 0.3333\n",
            "Epoch 71/100\n",
            "4/4 [==============================] - 1s 324ms/step - loss: 0.1543 - categorical_accuracy: 0.9259 - val_loss: 2.9337 - val_categorical_accuracy: 0.3333\n",
            "Epoch 72/100\n",
            "4/4 [==============================] - 1s 323ms/step - loss: 0.1252 - categorical_accuracy: 0.9352 - val_loss: 3.0242 - val_categorical_accuracy: 0.2778\n",
            "Epoch 73/100\n",
            "4/4 [==============================] - 1s 325ms/step - loss: 0.1552 - categorical_accuracy: 0.8981 - val_loss: 2.9723 - val_categorical_accuracy: 0.2778\n",
            "Epoch 74/100\n",
            "4/4 [==============================] - 1s 340ms/step - loss: 0.1334 - categorical_accuracy: 0.8981 - val_loss: 3.0406 - val_categorical_accuracy: 0.3056\n",
            "Epoch 75/100\n",
            "4/4 [==============================] - 1s 328ms/step - loss: 0.1013 - categorical_accuracy: 0.9352 - val_loss: 2.8332 - val_categorical_accuracy: 0.3333\n",
            "Epoch 76/100\n",
            "4/4 [==============================] - 1s 325ms/step - loss: 0.1919 - categorical_accuracy: 0.8981 - val_loss: 2.7575 - val_categorical_accuracy: 0.2500\n",
            "Epoch 77/100\n",
            "4/4 [==============================] - 1s 329ms/step - loss: 0.1062 - categorical_accuracy: 0.9444 - val_loss: 2.4363 - val_categorical_accuracy: 0.2222\n",
            "Epoch 78/100\n",
            "4/4 [==============================] - 1s 325ms/step - loss: 0.1385 - categorical_accuracy: 0.9259 - val_loss: 2.4861 - val_categorical_accuracy: 0.2222\n",
            "Epoch 79/100\n",
            "4/4 [==============================] - 1s 320ms/step - loss: 0.1206 - categorical_accuracy: 0.9167 - val_loss: 2.2971 - val_categorical_accuracy: 0.2500\n",
            "Epoch 80/100\n",
            "4/4 [==============================] - 1s 342ms/step - loss: 0.1167 - categorical_accuracy: 0.9352 - val_loss: 2.3252 - val_categorical_accuracy: 0.3333\n",
            "Epoch 81/100\n",
            "4/4 [==============================] - 1s 322ms/step - loss: 0.1112 - categorical_accuracy: 0.9444 - val_loss: 2.4197 - val_categorical_accuracy: 0.3333\n",
            "Epoch 82/100\n",
            "4/4 [==============================] - 1s 325ms/step - loss: 0.1320 - categorical_accuracy: 0.9074 - val_loss: 2.3972 - val_categorical_accuracy: 0.3611\n",
            "Epoch 83/100\n",
            "4/4 [==============================] - 1s 325ms/step - loss: 0.1049 - categorical_accuracy: 0.9352 - val_loss: 3.5144 - val_categorical_accuracy: 0.2778\n",
            "Epoch 84/100\n",
            "4/4 [==============================] - 1s 326ms/step - loss: 0.1149 - categorical_accuracy: 0.9167 - val_loss: 4.3205 - val_categorical_accuracy: 0.2778\n",
            "Epoch 85/100\n",
            "4/4 [==============================] - 1s 324ms/step - loss: 0.1024 - categorical_accuracy: 0.9259 - val_loss: 4.9328 - val_categorical_accuracy: 0.2778\n",
            "Epoch 86/100\n",
            "4/4 [==============================] - 1s 320ms/step - loss: 0.1053 - categorical_accuracy: 0.9259 - val_loss: 5.4370 - val_categorical_accuracy: 0.2778\n",
            "Epoch 87/100\n",
            "4/4 [==============================] - 1s 324ms/step - loss: 0.1605 - categorical_accuracy: 0.9352 - val_loss: 4.8186 - val_categorical_accuracy: 0.2778\n",
            "Epoch 88/100\n",
            "4/4 [==============================] - 1s 329ms/step - loss: 0.0906 - categorical_accuracy: 0.9352 - val_loss: 3.2734 - val_categorical_accuracy: 0.2222\n",
            "Epoch 89/100\n",
            "4/4 [==============================] - 1s 325ms/step - loss: 0.2181 - categorical_accuracy: 0.9259 - val_loss: 3.1255 - val_categorical_accuracy: 0.2778\n",
            "Epoch 90/100\n",
            "4/4 [==============================] - 1s 318ms/step - loss: 0.1944 - categorical_accuracy: 0.9074 - val_loss: 3.3205 - val_categorical_accuracy: 0.2778\n",
            "Epoch 91/100\n",
            "4/4 [==============================] - 1s 323ms/step - loss: 0.1198 - categorical_accuracy: 0.9259 - val_loss: 3.6679 - val_categorical_accuracy: 0.2778\n",
            "Epoch 92/100\n",
            "4/4 [==============================] - 1s 328ms/step - loss: 0.1255 - categorical_accuracy: 0.9167 - val_loss: 3.4744 - val_categorical_accuracy: 0.2778\n",
            "Epoch 93/100\n",
            "4/4 [==============================] - 1s 321ms/step - loss: 0.1068 - categorical_accuracy: 0.9259 - val_loss: 3.2622 - val_categorical_accuracy: 0.2778\n",
            "Epoch 94/100\n",
            "4/4 [==============================] - 1s 323ms/step - loss: 0.1473 - categorical_accuracy: 0.9074 - val_loss: 3.3025 - val_categorical_accuracy: 0.2778\n",
            "Epoch 95/100\n",
            "4/4 [==============================] - 1s 323ms/step - loss: 0.1706 - categorical_accuracy: 0.9352 - val_loss: 3.2309 - val_categorical_accuracy: 0.2222\n",
            "Epoch 96/100\n",
            "4/4 [==============================] - 1s 329ms/step - loss: 0.1133 - categorical_accuracy: 0.9259 - val_loss: 3.3444 - val_categorical_accuracy: 0.2778\n",
            "Epoch 97/100\n",
            "4/4 [==============================] - 1s 328ms/step - loss: 0.1552 - categorical_accuracy: 0.9167 - val_loss: 4.6433 - val_categorical_accuracy: 0.1944\n",
            "Epoch 98/100\n",
            "4/4 [==============================] - 1s 322ms/step - loss: 0.2414 - categorical_accuracy: 0.8981 - val_loss: 5.7004 - val_categorical_accuracy: 0.1944\n",
            "Epoch 99/100\n",
            "4/4 [==============================] - 1s 324ms/step - loss: 0.1330 - categorical_accuracy: 0.9352 - val_loss: 4.5205 - val_categorical_accuracy: 0.2500\n",
            "Epoch 100/100\n",
            "4/4 [==============================] - 1s 336ms/step - loss: 0.1109 - categorical_accuracy: 0.9167 - val_loss: 3.7854 - val_categorical_accuracy: 0.1389\n"
          ]
        }
      ]
    },
    {
      "cell_type": "code",
      "metadata": {
        "colab": {
          "base_uri": "https://localhost:8080/",
          "height": 513
        },
        "id": "MN3jN72ClTdx",
        "outputId": "1f7a01d7-e112-4e53-ead7-ec60a8c2b0ef"
      },
      "source": [
        "acc = history.history['categorical_accuracy']\n",
        "val_acc = history.history['val_categorical_accuracy']\n",
        "\n",
        "loss = history.history['loss']\n",
        "val_loss = history.history['val_loss']\n",
        "\n",
        "plt.figure(figsize=(8, 8))\n",
        "plt.subplot(2, 1, 1)\n",
        "plt.plot(acc, label='Training Accuracy')\n",
        "plt.plot(val_acc, label='Validation Accuracy')\n",
        "plt.legend(loc='lower right')\n",
        "plt.ylabel('Accuracy')\n",
        "# plt.ylim([min(plt.ylim()),1])\n",
        "plt.title('Training and Validation Accuracy')\n",
        "\n",
        "plt.subplot(2, 1, 2)\n",
        "plt.plot(loss, label='Training Loss')\n",
        "plt.plot(val_loss, label='Validation Loss')\n",
        "plt.legend(loc='upper right')\n",
        "plt.ylabel('Cross Entropy')\n",
        "# plt.ylim([0,1.0])\n",
        "plt.title('Training and Validation Loss')\n",
        "plt.xlabel('epoch')\n",
        "plt.show()"
      ],
      "execution_count": 41,
      "outputs": [
        {
          "output_type": "display_data",
          "data": {
            "image/png": "[encoded data removed]",
            "text/plain": [
              "<Figure size 576x576 with 2 Axes>"
            ]
          },
          "metadata": {
            "needs_background": "light"
          }
        }
      ]
    },
    {
      "cell_type": "code",
      "metadata": {
        "colab": {
          "base_uri": "https://localhost:8080/"
        },
        "id": "xm_l3muyuFor",
        "outputId": "a54746c0-62f8-4ddc-a387-67b76fdd7654"
      },
      "source": [
        "# Evaluate the model on the test data using `evaluate`\n",
        "print(\"Evaluate on test data\")\n",
        "results = model.evaluate(X_test, y_test)\n",
        "print(\"test loss, test acc:\", results)"
      ],
      "execution_count": 42,
      "outputs": [
        {
          "output_type": "stream",
          "name": "stdout",
          "text": [
            "Evaluate on test data\n",
            "2/2 [==============================] - 0s 26ms/step - loss: 6.1715 - categorical_accuracy: 0.1389\n",
            "test loss, test acc: [6.171504974365234, 0.1388888955116272]\n"
          ]
        }
      ]
    },
    {
      "cell_type": "code",
      "metadata": {
        "colab": {
          "base_uri": "https://localhost:8080/",
          "height": 322
        },
        "id": "GJPkLM4Ysfyd",
        "outputId": "655c5c17-5083-4f6e-f48f-1cda6f995cba"
      },
      "source": [
        "imgID = 11\n",
        "pp = model.predict(X_test[imgID].reshape(1,H,W,3))\n",
        "\n",
        "print(pp)\n",
        "plt.imshow((X_test[imgID]*225).astype('int32'))\n",
        "print(y_test[imgID])"
      ],
      "execution_count": 43,
      "outputs": [
        {
          "output_type": "stream",
          "name": "stdout",
          "text": [
            "[[7.4070914e-07 8.4863834e-02 1.3305411e-05 7.0405292e-04 2.8546916e-05\n",
            "  9.2582770e-02 1.6430283e-01 1.1209479e-06 1.3596934e-02 6.4390588e-01]]\n",
            "[0. 0. 0. 0. 0. 0. 0. 0. 1. 0.]\n"
          ]
        },
        {
          "output_type": "display_data",
          "data": {
            "image/png": "[encoded data removed]",
            "text/plain": [
              "<Figure size 432x288 with 1 Axes>"
            ]
          },
          "metadata": {
            "needs_background": "light"
          }
        }
      ]
    },
    {
      "cell_type": "code",
      "metadata": {
        "id": "w0JxEPg0sppa"
      },
      "source": [
        ""
      ],
      "execution_count": 28,
      "outputs": []
    }
  ]
}